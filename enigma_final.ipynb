{
 "cells": [
  {
   "cell_type": "code",
   "execution_count": 1,
   "metadata": {},
   "outputs": [],
   "source": [
    "import numpy as np\n",
    "import pandas as pd\n",
    "import matplotlib.pyplot as plt\n",
    "import seaborn as sns\n",
    "%matplotlib inline"
   ]
  },
  {
   "cell_type": "code",
   "execution_count": 2,
   "metadata": {},
   "outputs": [
    {
     "data": {
      "text/html": [
       "<div>\n",
       "<style scoped>\n",
       "    .dataframe tbody tr th:only-of-type {\n",
       "        vertical-align: middle;\n",
       "    }\n",
       "\n",
       "    .dataframe tbody tr th {\n",
       "        vertical-align: top;\n",
       "    }\n",
       "\n",
       "    .dataframe thead th {\n",
       "        text-align: right;\n",
       "    }\n",
       "</style>\n",
       "<table border=\"1\" class=\"dataframe\">\n",
       "  <thead>\n",
       "    <tr style=\"text-align: right;\">\n",
       "      <th></th>\n",
       "      <th>R&amp;D Spend</th>\n",
       "      <th>Administration</th>\n",
       "      <th>Marketing Spend</th>\n",
       "      <th>State</th>\n",
       "      <th>Profit</th>\n",
       "    </tr>\n",
       "  </thead>\n",
       "  <tbody>\n",
       "    <tr>\n",
       "      <th>0</th>\n",
       "      <td>165349.20</td>\n",
       "      <td>136897.80</td>\n",
       "      <td>471784.10</td>\n",
       "      <td>New York</td>\n",
       "      <td>192261.83</td>\n",
       "    </tr>\n",
       "    <tr>\n",
       "      <th>1</th>\n",
       "      <td>162597.70</td>\n",
       "      <td>151377.59</td>\n",
       "      <td>443898.53</td>\n",
       "      <td>California</td>\n",
       "      <td>191792.06</td>\n",
       "    </tr>\n",
       "    <tr>\n",
       "      <th>2</th>\n",
       "      <td>153441.51</td>\n",
       "      <td>101145.55</td>\n",
       "      <td>407934.54</td>\n",
       "      <td>Florida</td>\n",
       "      <td>191050.39</td>\n",
       "    </tr>\n",
       "    <tr>\n",
       "      <th>3</th>\n",
       "      <td>144372.41</td>\n",
       "      <td>118671.85</td>\n",
       "      <td>383199.62</td>\n",
       "      <td>New York</td>\n",
       "      <td>182901.99</td>\n",
       "    </tr>\n",
       "    <tr>\n",
       "      <th>4</th>\n",
       "      <td>142107.34</td>\n",
       "      <td>91391.77</td>\n",
       "      <td>366168.42</td>\n",
       "      <td>Florida</td>\n",
       "      <td>166187.94</td>\n",
       "    </tr>\n",
       "  </tbody>\n",
       "</table>\n",
       "</div>"
      ],
      "text/plain": [
       "   R&D Spend  Administration  Marketing Spend       State     Profit\n",
       "0  165349.20       136897.80        471784.10    New York  192261.83\n",
       "1  162597.70       151377.59        443898.53  California  191792.06\n",
       "2  153441.51       101145.55        407934.54     Florida  191050.39\n",
       "3  144372.41       118671.85        383199.62    New York  182901.99\n",
       "4  142107.34        91391.77        366168.42     Florida  166187.94"
      ]
     },
     "execution_count": 2,
     "metadata": {},
     "output_type": "execute_result"
    }
   ],
   "source": [
    "df = pd.read_csv('50_startups.csv')\n",
    "df.head(5)"
   ]
  },
  {
   "cell_type": "code",
   "execution_count": 3,
   "metadata": {},
   "outputs": [
    {
     "data": {
      "text/plain": [
       "(50, 5)"
      ]
     },
     "execution_count": 3,
     "metadata": {},
     "output_type": "execute_result"
    }
   ],
   "source": [
    "df.shape"
   ]
  },
  {
   "cell_type": "code",
   "execution_count": 4,
   "metadata": {},
   "outputs": [
    {
     "data": {
      "text/plain": [
       "Index(['R&D Spend', 'Administration', 'Marketing Spend', 'State', 'Profit'], dtype='object')"
      ]
     },
     "execution_count": 4,
     "metadata": {},
     "output_type": "execute_result"
    }
   ],
   "source": [
    "df.columns"
   ]
  },
  {
   "cell_type": "code",
   "execution_count": 5,
   "metadata": {},
   "outputs": [
    {
     "data": {
      "text/plain": [
       "2"
      ]
     },
     "execution_count": 5,
     "metadata": {},
     "output_type": "execute_result"
    }
   ],
   "source": [
    "df.ndim"
   ]
  },
  {
   "cell_type": "code",
   "execution_count": 6,
   "metadata": {},
   "outputs": [
    {
     "data": {
      "text/html": [
       "<div>\n",
       "<style scoped>\n",
       "    .dataframe tbody tr th:only-of-type {\n",
       "        vertical-align: middle;\n",
       "    }\n",
       "\n",
       "    .dataframe tbody tr th {\n",
       "        vertical-align: top;\n",
       "    }\n",
       "\n",
       "    .dataframe thead th {\n",
       "        text-align: right;\n",
       "    }\n",
       "</style>\n",
       "<table border=\"1\" class=\"dataframe\">\n",
       "  <thead>\n",
       "    <tr style=\"text-align: right;\">\n",
       "      <th></th>\n",
       "      <th>R&amp;D Spend</th>\n",
       "      <th>Administration</th>\n",
       "      <th>Marketing Spend</th>\n",
       "      <th>Profit</th>\n",
       "    </tr>\n",
       "  </thead>\n",
       "  <tbody>\n",
       "    <tr>\n",
       "      <th>count</th>\n",
       "      <td>50.000000</td>\n",
       "      <td>50.000000</td>\n",
       "      <td>50.000000</td>\n",
       "      <td>50.000000</td>\n",
       "    </tr>\n",
       "    <tr>\n",
       "      <th>mean</th>\n",
       "      <td>73721.615600</td>\n",
       "      <td>121344.639600</td>\n",
       "      <td>211025.097800</td>\n",
       "      <td>112012.639200</td>\n",
       "    </tr>\n",
       "    <tr>\n",
       "      <th>std</th>\n",
       "      <td>45902.256482</td>\n",
       "      <td>28017.802755</td>\n",
       "      <td>122290.310726</td>\n",
       "      <td>40306.180338</td>\n",
       "    </tr>\n",
       "    <tr>\n",
       "      <th>min</th>\n",
       "      <td>0.000000</td>\n",
       "      <td>51283.140000</td>\n",
       "      <td>0.000000</td>\n",
       "      <td>14681.400000</td>\n",
       "    </tr>\n",
       "    <tr>\n",
       "      <th>25%</th>\n",
       "      <td>39936.370000</td>\n",
       "      <td>103730.875000</td>\n",
       "      <td>129300.132500</td>\n",
       "      <td>90138.902500</td>\n",
       "    </tr>\n",
       "    <tr>\n",
       "      <th>50%</th>\n",
       "      <td>73051.080000</td>\n",
       "      <td>122699.795000</td>\n",
       "      <td>212716.240000</td>\n",
       "      <td>107978.190000</td>\n",
       "    </tr>\n",
       "    <tr>\n",
       "      <th>75%</th>\n",
       "      <td>101602.800000</td>\n",
       "      <td>144842.180000</td>\n",
       "      <td>299469.085000</td>\n",
       "      <td>139765.977500</td>\n",
       "    </tr>\n",
       "    <tr>\n",
       "      <th>max</th>\n",
       "      <td>165349.200000</td>\n",
       "      <td>182645.560000</td>\n",
       "      <td>471784.100000</td>\n",
       "      <td>192261.830000</td>\n",
       "    </tr>\n",
       "  </tbody>\n",
       "</table>\n",
       "</div>"
      ],
      "text/plain": [
       "           R&D Spend  Administration  Marketing Spend         Profit\n",
       "count      50.000000       50.000000        50.000000      50.000000\n",
       "mean    73721.615600   121344.639600    211025.097800  112012.639200\n",
       "std     45902.256482    28017.802755    122290.310726   40306.180338\n",
       "min         0.000000    51283.140000         0.000000   14681.400000\n",
       "25%     39936.370000   103730.875000    129300.132500   90138.902500\n",
       "50%     73051.080000   122699.795000    212716.240000  107978.190000\n",
       "75%    101602.800000   144842.180000    299469.085000  139765.977500\n",
       "max    165349.200000   182645.560000    471784.100000  192261.830000"
      ]
     },
     "execution_count": 6,
     "metadata": {},
     "output_type": "execute_result"
    }
   ],
   "source": [
    "df.describe()"
   ]
  },
  {
   "cell_type": "markdown",
   "metadata": {},
   "source": [
    "## Data Cleaning"
   ]
  },
  {
   "cell_type": "code",
   "execution_count": 7,
   "metadata": {},
   "outputs": [
    {
     "data": {
      "text/plain": [
       "California    17\n",
       "New York      17\n",
       "Florida       16\n",
       "Name: State, dtype: int64"
      ]
     },
     "execution_count": 7,
     "metadata": {},
     "output_type": "execute_result"
    }
   ],
   "source": [
    "df['State'].value_counts()"
   ]
  },
  {
   "cell_type": "code",
   "execution_count": 8,
   "metadata": {},
   "outputs": [
    {
     "data": {
      "text/plain": [
       "R&D Spend          float64\n",
       "Administration     float64\n",
       "Marketing Spend    float64\n",
       "State               object\n",
       "Profit             float64\n",
       "dtype: object"
      ]
     },
     "execution_count": 8,
     "metadata": {},
     "output_type": "execute_result"
    }
   ],
   "source": [
    "df.dtypes"
   ]
  },
  {
   "cell_type": "code",
   "execution_count": 9,
   "metadata": {},
   "outputs": [
    {
     "data": {
      "text/plain": [
       "R&D Spend          0\n",
       "Administration     0\n",
       "Marketing Spend    0\n",
       "State              0\n",
       "Profit             0\n",
       "dtype: int64"
      ]
     },
     "execution_count": 9,
     "metadata": {},
     "output_type": "execute_result"
    }
   ],
   "source": [
    "df.isnull().sum()"
   ]
  },
  {
   "cell_type": "markdown",
   "metadata": {},
   "source": [
    "## EDA on Dataset"
   ]
  },
  {
   "cell_type": "code",
   "execution_count": 10,
   "metadata": {},
   "outputs": [
    {
     "data": {
      "text/plain": [
       "<AxesSubplot:xlabel='Profit'>"
      ]
     },
     "execution_count": 10,
     "metadata": {},
     "output_type": "execute_result"
    },
    {
     "data": {
      "image/png": "[encoded data removed]",
      "text/plain": [
       "<Figure size 432x288 with 1 Axes>"
      ]
     },
     "metadata": {
      "needs_background": "light"
     },
     "output_type": "display_data"
    }
   ],
   "source": [
    "#Histgram on Profit\n",
    "sns.distplot(df['Profit'],bins=5,kde=True)"
   ]
  },
  {
   "cell_type": "code",
   "execution_count": 11,
   "metadata": {},
   "outputs": [
    {
     "data": {
      "text/plain": [
       "<seaborn.axisgrid.PairGrid at 0x280757d8ca0>"
      ]
     },
     "execution_count": 11,
     "metadata": {},
     "output_type": "execute_result"
    },
    {
     "data": {
      "image/png": "[encoded data removed]",
      "text/plain": [
       "<Figure size 720x720 with 20 Axes>"
      ]
     },
     "metadata": {
      "needs_background": "light"
     },
     "output_type": "display_data"
    }
   ],
   "source": [
    "#Correlation  chart on different variables for comparision \n",
    "# Profit Vs R & Spend is very linear and almost same for Marketing spend\n",
    "# Profit spend vs Administration distribution is very scattered \n",
    "sns.pairplot(df)"
   ]
  },
  {
   "cell_type": "code",
   "execution_count": 12,
   "metadata": {},
   "outputs": [
    {
     "data": {
      "text/plain": [
       "<AxesSubplot:xlabel='State', ylabel='Profit'>"
      ]
     },
     "execution_count": 12,
     "metadata": {},
     "output_type": "execute_result"
    },
    {
     "data": {
      "image/png": "[encoded data removed]",
      "text/plain": [
       "<Figure size 432x288 with 1 Axes>"
      ]
     },
     "metadata": {
      "needs_background": "light"
     },
     "output_type": "display_data"
    }
   ],
   "source": [
    "# profit split in State level - Looks Florida has the maximum Profit\n",
    "sns.barplot(x='State',y='Profit',data=df, palette=\"Blues_d\")\n",
    "#sns.lineplot(x='State',y='Profit',data=dataset)"
   ]
  },
  {
   "cell_type": "code",
   "execution_count": 13,
   "metadata": {},
   "outputs": [
    {
     "data": {
      "text/plain": [
       "<AxesSubplot:>"
      ]
     },
     "execution_count": 13,
     "metadata": {},
     "output_type": "execute_result"
    },
    {
     "data": {
      "image/png": "[encoded data removed]",
      "text/plain": [
       "<Figure size 432x288 with 2 Axes>"
      ]
     },
     "metadata": {
      "needs_background": "light"
     },
     "output_type": "display_data"
    }
   ],
   "source": [
    "#gives positive & negative relation between categories\n",
    "sns.heatmap(df.corr(), annot=True)"
   ]
  },
  {
   "cell_type": "code",
   "execution_count": 14,
   "metadata": {},
   "outputs": [
    {
     "data": {
      "image/png": "[encoded data removed]",
      "text/plain": [
       "<Figure size 648x216 with 3 Axes>"
      ]
     },
     "metadata": {
      "needs_background": "light"
     },
     "output_type": "display_data"
    }
   ],
   "source": [
    "# spread of profit against state \n",
    "g=sns.FacetGrid(df, col='State')\n",
    "g=g.map(sns.kdeplot,'Profit')"
   ]
  },
  {
   "cell_type": "code",
   "execution_count": null,
   "metadata": {},
   "outputs": [],
   "source": []
  },
  {
   "cell_type": "code",
   "execution_count": 15,
   "metadata": {},
   "outputs": [],
   "source": [
    "#Separating the Independent and the dependent variables\n",
    "X = df.iloc[ : , :-1].values\n",
    "y = df.iloc[ : , 4].values"
   ]
  },
  {
   "cell_type": "code",
   "execution_count": 16,
   "metadata": {},
   "outputs": [],
   "source": [
    "from sklearn.preprocessing import LabelEncoder,OneHotEncoder\n",
    "from sklearn.compose import ColumnTransformer\n",
    "\n",
    "labelencoder_X = LabelEncoder()\n",
    "X[:, 3] = labelencoder_X.fit_transform(X[:, 3])\n",
    "\n",
    "# Country column\n",
    "columnTransformer = ColumnTransformer([('State', OneHotEncoder(), [3])],     remainder='passthrough')\n",
    "X=columnTransformer.fit_transform(X)\n",
    "\n",
    "# Here index column 3 has categorical variable"
   ]
  },
  {
   "cell_type": "code",
   "execution_count": 17,
   "metadata": {},
   "outputs": [
    {
     "data": {
      "text/plain": [
       "array([[0.0, 1.0, 165349.2, 136897.8, 471784.1],\n",
       "       [0.0, 0.0, 162597.7, 151377.59, 443898.53],\n",
       "       [1.0, 0.0, 153441.51, 101145.55, 407934.54],\n",
       "       [0.0, 1.0, 144372.41, 118671.85, 383199.62],\n",
       "       [1.0, 0.0, 142107.34, 91391.77, 366168.42],\n",
       "       [0.0, 1.0, 131876.9, 99814.71, 362861.36],\n",
       "       [0.0, 0.0, 134615.46, 147198.87, 127716.82],\n",
       "       [1.0, 0.0, 130298.13, 145530.06, 323876.68],\n",
       "       [0.0, 1.0, 120542.52, 148718.95, 311613.29],\n",
       "       [0.0, 0.0, 123334.88, 108679.17, 304981.62],\n",
       "       [1.0, 0.0, 101913.08, 110594.11, 229160.95],\n",
       "       [0.0, 0.0, 100671.96, 91790.61, 249744.55],\n",
       "       [1.0, 0.0, 93863.75, 127320.38, 249839.44],\n",
       "       [0.0, 0.0, 91992.39, 135495.07, 252664.93],\n",
       "       [1.0, 0.0, 119943.24, 156547.42, 256512.92],\n",
       "       [0.0, 1.0, 114523.61, 122616.84, 261776.23],\n",
       "       [0.0, 0.0, 78013.11, 121597.55, 264346.06],\n",
       "       [0.0, 1.0, 94657.16, 145077.58, 282574.31],\n",
       "       [1.0, 0.0, 91749.16, 114175.79, 294919.57],\n",
       "       [0.0, 1.0, 86419.7, 153514.11, 0.0],\n",
       "       [0.0, 0.0, 76253.86, 113867.3, 298664.47],\n",
       "       [0.0, 1.0, 78389.47, 153773.43, 299737.29],\n",
       "       [1.0, 0.0, 73994.56, 122782.75, 303319.26],\n",
       "       [1.0, 0.0, 67532.53, 105751.03, 304768.73],\n",
       "       [0.0, 1.0, 77044.01, 99281.34, 140574.81],\n",
       "       [0.0, 0.0, 64664.71, 139553.16, 137962.62],\n",
       "       [1.0, 0.0, 75328.87, 144135.98, 134050.07],\n",
       "       [0.0, 1.0, 72107.6, 127864.55, 353183.81],\n",
       "       [1.0, 0.0, 66051.52, 182645.56, 118148.2],\n",
       "       [0.0, 1.0, 65605.48, 153032.06, 107138.38],\n",
       "       [1.0, 0.0, 61994.48, 115641.28, 91131.24],\n",
       "       [0.0, 1.0, 61136.38, 152701.92, 88218.23],\n",
       "       [0.0, 0.0, 63408.86, 129219.61, 46085.25],\n",
       "       [1.0, 0.0, 55493.95, 103057.49, 214634.81],\n",
       "       [0.0, 0.0, 46426.07, 157693.92, 210797.67],\n",
       "       [0.0, 1.0, 46014.02, 85047.44, 205517.64],\n",
       "       [1.0, 0.0, 28663.76, 127056.21, 201126.82],\n",
       "       [0.0, 0.0, 44069.95, 51283.14, 197029.42],\n",
       "       [0.0, 1.0, 20229.59, 65947.93, 185265.1],\n",
       "       [0.0, 0.0, 38558.51, 82982.09, 174999.3],\n",
       "       [0.0, 0.0, 28754.33, 118546.05, 172795.67],\n",
       "       [1.0, 0.0, 27892.92, 84710.77, 164470.71],\n",
       "       [0.0, 0.0, 23640.93, 96189.63, 148001.11],\n",
       "       [0.0, 1.0, 15505.73, 127382.3, 35534.17],\n",
       "       [0.0, 0.0, 22177.74, 154806.14, 28334.72],\n",
       "       [0.0, 1.0, 1000.23, 124153.04, 1903.93],\n",
       "       [1.0, 0.0, 1315.46, 115816.21, 297114.46],\n",
       "       [0.0, 0.0, 0.0, 135426.92, 0.0],\n",
       "       [0.0, 1.0, 542.05, 51743.15, 0.0],\n",
       "       [0.0, 0.0, 0.0, 116983.8, 45173.06]], dtype=object)"
      ]
     },
     "execution_count": 17,
     "metadata": {},
     "output_type": "execute_result"
    }
   ],
   "source": [
    "# Avoiding the dummy variable trap\n",
    "X = X[:, 1:]\n",
    "X"
   ]
  },
  {
   "cell_type": "code",
   "execution_count": 18,
   "metadata": {},
   "outputs": [
    {
     "data": {
      "text/plain": [
       "array([[0.0, 1.0, 165349.2, 136897.8, 471784.1],\n",
       "       [0.0, 0.0, 162597.7, 151377.59, 443898.53],\n",
       "       [1.0, 0.0, 153441.51, 101145.55, 407934.54],\n",
       "       [0.0, 1.0, 144372.41, 118671.85, 383199.62],\n",
       "       [1.0, 0.0, 142107.34, 91391.77, 366168.42],\n",
       "       [0.0, 1.0, 131876.9, 99814.71, 362861.36],\n",
       "       [0.0, 0.0, 134615.46, 147198.87, 127716.82],\n",
       "       [1.0, 0.0, 130298.13, 145530.06, 323876.68],\n",
       "       [0.0, 1.0, 120542.52, 148718.95, 311613.29],\n",
       "       [0.0, 0.0, 123334.88, 108679.17, 304981.62],\n",
       "       [1.0, 0.0, 101913.08, 110594.11, 229160.95],\n",
       "       [0.0, 0.0, 100671.96, 91790.61, 249744.55],\n",
       "       [1.0, 0.0, 93863.75, 127320.38, 249839.44],\n",
       "       [0.0, 0.0, 91992.39, 135495.07, 252664.93],\n",
       "       [1.0, 0.0, 119943.24, 156547.42, 256512.92],\n",
       "       [0.0, 1.0, 114523.61, 122616.84, 261776.23],\n",
       "       [0.0, 0.0, 78013.11, 121597.55, 264346.06],\n",
       "       [0.0, 1.0, 94657.16, 145077.58, 282574.31],\n",
       "       [1.0, 0.0, 91749.16, 114175.79, 294919.57],\n",
       "       [0.0, 1.0, 86419.7, 153514.11, 0.0],\n",
       "       [0.0, 0.0, 76253.86, 113867.3, 298664.47],\n",
       "       [0.0, 1.0, 78389.47, 153773.43, 299737.29],\n",
       "       [1.0, 0.0, 73994.56, 122782.75, 303319.26],\n",
       "       [1.0, 0.0, 67532.53, 105751.03, 304768.73],\n",
       "       [0.0, 1.0, 77044.01, 99281.34, 140574.81],\n",
       "       [0.0, 0.0, 64664.71, 139553.16, 137962.62],\n",
       "       [1.0, 0.0, 75328.87, 144135.98, 134050.07],\n",
       "       [0.0, 1.0, 72107.6, 127864.55, 353183.81],\n",
       "       [1.0, 0.0, 66051.52, 182645.56, 118148.2],\n",
       "       [0.0, 1.0, 65605.48, 153032.06, 107138.38],\n",
       "       [1.0, 0.0, 61994.48, 115641.28, 91131.24],\n",
       "       [0.0, 1.0, 61136.38, 152701.92, 88218.23],\n",
       "       [0.0, 0.0, 63408.86, 129219.61, 46085.25],\n",
       "       [1.0, 0.0, 55493.95, 103057.49, 214634.81],\n",
       "       [0.0, 0.0, 46426.07, 157693.92, 210797.67],\n",
       "       [0.0, 1.0, 46014.02, 85047.44, 205517.64],\n",
       "       [1.0, 0.0, 28663.76, 127056.21, 201126.82],\n",
       "       [0.0, 0.0, 44069.95, 51283.14, 197029.42],\n",
       "       [0.0, 1.0, 20229.59, 65947.93, 185265.1],\n",
       "       [0.0, 0.0, 38558.51, 82982.09, 174999.3],\n",
       "       [0.0, 0.0, 28754.33, 118546.05, 172795.67],\n",
       "       [1.0, 0.0, 27892.92, 84710.77, 164470.71],\n",
       "       [0.0, 0.0, 23640.93, 96189.63, 148001.11],\n",
       "       [0.0, 1.0, 15505.73, 127382.3, 35534.17],\n",
       "       [0.0, 0.0, 22177.74, 154806.14, 28334.72],\n",
       "       [0.0, 1.0, 1000.23, 124153.04, 1903.93],\n",
       "       [1.0, 0.0, 1315.46, 115816.21, 297114.46],\n",
       "       [0.0, 0.0, 0.0, 135426.92, 0.0],\n",
       "       [0.0, 1.0, 542.05, 51743.15, 0.0],\n",
       "       [0.0, 0.0, 0.0, 116983.8, 45173.06]], dtype=object)"
      ]
     },
     "execution_count": 18,
     "metadata": {},
     "output_type": "execute_result"
    }
   ],
   "source": [
    "X"
   ]
  },
  {
   "cell_type": "markdown",
   "metadata": {},
   "source": [
    "## Data Partitioning"
   ]
  },
  {
   "cell_type": "code",
   "execution_count": 19,
   "metadata": {},
   "outputs": [],
   "source": [
    "#Split the dataset into train and test\n",
    "from sklearn.model_selection import train_test_split\n",
    "X_train, X_test, y_train, y_test = train_test_split(X, y, test_size = 0.2, random_state = 0 )"
   ]
  },
  {
   "cell_type": "code",
   "execution_count": 20,
   "metadata": {},
   "outputs": [
    {
     "data": {
      "text/plain": [
       "(array([[1.0, 0.0, 55493.95, 103057.49, 214634.81],\n",
       "        [0.0, 1.0, 46014.02, 85047.44, 205517.64],\n",
       "        [1.0, 0.0, 75328.87, 144135.98, 134050.07],\n",
       "        [0.0, 0.0, 46426.07, 157693.92, 210797.67],\n",
       "        [1.0, 0.0, 91749.16, 114175.79, 294919.57],\n",
       "        [1.0, 0.0, 130298.13, 145530.06, 323876.68],\n",
       "        [1.0, 0.0, 119943.24, 156547.42, 256512.92],\n",
       "        [0.0, 1.0, 1000.23, 124153.04, 1903.93],\n",
       "        [0.0, 1.0, 542.05, 51743.15, 0.0],\n",
       "        [0.0, 1.0, 65605.48, 153032.06, 107138.38],\n",
       "        [0.0, 1.0, 114523.61, 122616.84, 261776.23],\n",
       "        [1.0, 0.0, 61994.48, 115641.28, 91131.24],\n",
       "        [0.0, 0.0, 63408.86, 129219.61, 46085.25],\n",
       "        [0.0, 0.0, 78013.11, 121597.55, 264346.06],\n",
       "        [0.0, 0.0, 23640.93, 96189.63, 148001.11],\n",
       "        [0.0, 0.0, 76253.86, 113867.3, 298664.47],\n",
       "        [0.0, 1.0, 15505.73, 127382.3, 35534.17],\n",
       "        [0.0, 1.0, 120542.52, 148718.95, 311613.29],\n",
       "        [0.0, 0.0, 91992.39, 135495.07, 252664.93],\n",
       "        [0.0, 0.0, 64664.71, 139553.16, 137962.62],\n",
       "        [0.0, 1.0, 131876.9, 99814.71, 362861.36],\n",
       "        [0.0, 1.0, 94657.16, 145077.58, 282574.31],\n",
       "        [0.0, 0.0, 28754.33, 118546.05, 172795.67],\n",
       "        [0.0, 0.0, 0.0, 116983.8, 45173.06],\n",
       "        [0.0, 0.0, 162597.7, 151377.59, 443898.53],\n",
       "        [1.0, 0.0, 93863.75, 127320.38, 249839.44],\n",
       "        [0.0, 0.0, 44069.95, 51283.14, 197029.42],\n",
       "        [0.0, 1.0, 77044.01, 99281.34, 140574.81],\n",
       "        [0.0, 0.0, 134615.46, 147198.87, 127716.82],\n",
       "        [1.0, 0.0, 67532.53, 105751.03, 304768.73],\n",
       "        [1.0, 0.0, 28663.76, 127056.21, 201126.82],\n",
       "        [0.0, 1.0, 78389.47, 153773.43, 299737.29],\n",
       "        [0.0, 1.0, 86419.7, 153514.11, 0.0],\n",
       "        [0.0, 0.0, 123334.88, 108679.17, 304981.62],\n",
       "        [0.0, 0.0, 38558.51, 82982.09, 174999.3],\n",
       "        [1.0, 0.0, 1315.46, 115816.21, 297114.46],\n",
       "        [0.0, 1.0, 144372.41, 118671.85, 383199.62],\n",
       "        [0.0, 1.0, 165349.2, 136897.8, 471784.1],\n",
       "        [0.0, 0.0, 0.0, 135426.92, 0.0],\n",
       "        [0.0, 0.0, 22177.74, 154806.14, 28334.72]], dtype=object),\n",
       " array([ 96778.92,  96479.51, 105733.54,  96712.8 , 124266.9 , 155752.6 ,\n",
       "        132602.65,  64926.08,  35673.41, 101004.64, 129917.04,  99937.59,\n",
       "         97427.84, 126992.93,  71498.49, 118474.03,  69758.98, 152211.77,\n",
       "        134307.35, 107404.34, 156991.12, 125370.37,  78239.91,  14681.4 ,\n",
       "        191792.06, 141585.52,  89949.14, 108552.04, 156122.51, 108733.99,\n",
       "         90708.19, 111313.02, 122776.86, 149759.96,  81005.76,  49490.75,\n",
       "        182901.99, 192261.83,  42559.73,  65200.33]))"
      ]
     },
     "execution_count": 20,
     "metadata": {},
     "output_type": "execute_result"
    }
   ],
   "source": [
    "X_train,y_train"
   ]
  },
  {
   "cell_type": "code",
   "execution_count": 21,
   "metadata": {},
   "outputs": [],
   "source": [
    "# Make a new dataframe for comparing all the models\n",
    "columns = ['Model Name', 'R2 Value']\n",
    "df_model_comp = pd.DataFrame(columns=columns)\n",
    "def model_comp(model_name, r2_value):\n",
    "    df_model_comp.loc[len(df_model_comp.index)] = [model_name,r2_value]\n",
    "    return df_model_comp"
   ]
  },
  {
   "cell_type": "markdown",
   "metadata": {},
   "source": [
    "## Data Preprocesing using MinMaxScaler"
   ]
  },
  {
   "cell_type": "code",
   "execution_count": 22,
   "metadata": {},
   "outputs": [],
   "source": [
    "from sklearn.preprocessing import MinMaxScaler\n",
    "\n",
    "scaler = MinMaxScaler()\n",
    "X_train = scaler.fit_transform(X_train)\n",
    "X_test = scaler.transform(X_test)"
   ]
  },
  {
   "cell_type": "markdown",
   "metadata": {},
   "source": [
    "# Machine Learning Model Building"
   ]
  },
  {
   "cell_type": "markdown",
   "metadata": {},
   "source": [
    "### Cross Validation"
   ]
  },
  {
   "cell_type": "code",
   "execution_count": 23,
   "metadata": {},
   "outputs": [],
   "source": [
    "from sklearn.model_selection import KFold, cross_val_score\n",
    "from sklearn.metrics import make_scorer, r2_score\n",
    "\n",
    "def test_model(model, X_train=X_train, y_train=y_train):\n",
    "    cv = KFold(n_splits = 3, shuffle=True, random_state = 0)\n",
    "    r2 = make_scorer(r2_score)\n",
    "    r2_val_score = cross_val_score(model, X_train, y_train, cv=5, scoring = r2)\n",
    "    score = r2_val_score.mean()\n",
    "    return score"
   ]
  },
  {
   "cell_type": "code",
   "execution_count": null,
   "metadata": {},
   "outputs": [],
   "source": []
  },
  {
   "cell_type": "markdown",
   "metadata": {},
   "source": [
    "### Model - Multiple Linear Regression"
   ]
  },
  {
   "cell_type": "code",
   "execution_count": 24,
   "metadata": {},
   "outputs": [
    {
     "data": {
      "text/plain": [
       "0.8613328292604052"
      ]
     },
     "execution_count": 24,
     "metadata": {},
     "output_type": "execute_result"
    }
   ],
   "source": [
    "from sklearn.linear_model import LinearRegression\n",
    "LR = LinearRegression()\n",
    "model_name = 'Multiple Linear Regression'\n",
    "r2_value = test_model(LR)\n",
    "r2_value"
   ]
  },
  {
   "cell_type": "code",
   "execution_count": 25,
   "metadata": {},
   "outputs": [
    {
     "data": {
      "text/html": [
       "<div>\n",
       "<style scoped>\n",
       "    .dataframe tbody tr th:only-of-type {\n",
       "        vertical-align: middle;\n",
       "    }\n",
       "\n",
       "    .dataframe tbody tr th {\n",
       "        vertical-align: top;\n",
       "    }\n",
       "\n",
       "    .dataframe thead th {\n",
       "        text-align: right;\n",
       "    }\n",
       "</style>\n",
       "<table border=\"1\" class=\"dataframe\">\n",
       "  <thead>\n",
       "    <tr style=\"text-align: right;\">\n",
       "      <th></th>\n",
       "      <th>Model Name</th>\n",
       "      <th>R2 Value</th>\n",
       "    </tr>\n",
       "  </thead>\n",
       "  <tbody>\n",
       "    <tr>\n",
       "      <th>0</th>\n",
       "      <td>Multiple Linear Regression</td>\n",
       "      <td>0.86</td>\n",
       "    </tr>\n",
       "  </tbody>\n",
       "</table>\n",
       "</div>"
      ],
      "text/plain": [
       "                   Model Name  R2 Value\n",
       "0  Multiple Linear Regression      0.86"
      ]
     },
     "execution_count": 25,
     "metadata": {},
     "output_type": "execute_result"
    }
   ],
   "source": [
    "model_comp(model_name, round(r2_value,2))"
   ]
  },
  {
   "cell_type": "code",
   "execution_count": 26,
   "metadata": {},
   "outputs": [
    {
     "name": "stdout",
     "output_type": "stream",
     "text": [
      "Cross validation accuracy of LR model =  [0.64120447 0.88536669 0.90980771 0.8961349  0.97415038]\n",
      "\n",
      "Cross validation mean accuracy of LR model =  0.8613328292604052\n"
     ]
    }
   ],
   "source": [
    "# Cross validation\n",
    "cross_validation = cross_val_score(estimator = LR, X = X_train, y = y_train, cv = 5)\n",
    "print(\"Cross validation accuracy of LR model = \", cross_validation)\n",
    "print(\"\\nCross validation mean accuracy of LR model = \", cross_validation.mean())"
   ]
  },
  {
   "cell_type": "markdown",
   "metadata": {},
   "source": [
    "### Model - Polynomial Regression"
   ]
  },
  {
   "cell_type": "code",
   "execution_count": 57,
   "metadata": {},
   "outputs": [],
   "source": [
    "from sklearn.preprocessing import PolynomialFeatures \n",
    "\n",
    "poly_reg = PolynomialFeatures(degree = 2) \n",
    "X_poly = poly_reg.fit_transform(X_train)\n",
    "\n",
    "poly_reg.fit(X_poly, y_train) \n",
    "lin_reg_2 = LinearRegression()\n",
    "model_name = 'Polynomial Regression (Degree = 2)'"
   ]
  },
  {
   "cell_type": "code",
   "execution_count": 28,
   "metadata": {
    "scrolled": true
   },
   "outputs": [
    {
     "data": {
      "text/plain": [
       "0.5185572428396517"
      ]
     },
     "execution_count": 28,
     "metadata": {},
     "output_type": "execute_result"
    }
   ],
   "source": [
    "lin_reg_2.fit(X_poly, y_train)\n",
    "r2_value = test_model(lin_reg_2,X_poly)\n",
    "r2_value"
   ]
  },
  {
   "cell_type": "code",
   "execution_count": 29,
   "metadata": {},
   "outputs": [
    {
     "data": {
      "text/html": [
       "<div>\n",
       "<style scoped>\n",
       "    .dataframe tbody tr th:only-of-type {\n",
       "        vertical-align: middle;\n",
       "    }\n",
       "\n",
       "    .dataframe tbody tr th {\n",
       "        vertical-align: top;\n",
       "    }\n",
       "\n",
       "    .dataframe thead th {\n",
       "        text-align: right;\n",
       "    }\n",
       "</style>\n",
       "<table border=\"1\" class=\"dataframe\">\n",
       "  <thead>\n",
       "    <tr style=\"text-align: right;\">\n",
       "      <th></th>\n",
       "      <th>Model Name</th>\n",
       "      <th>R2 Value</th>\n",
       "    </tr>\n",
       "  </thead>\n",
       "  <tbody>\n",
       "    <tr>\n",
       "      <th>0</th>\n",
       "      <td>Multiple Linear Regression</td>\n",
       "      <td>0.86</td>\n",
       "    </tr>\n",
       "    <tr>\n",
       "      <th>1</th>\n",
       "      <td>Polynomial Regression</td>\n",
       "      <td>0.52</td>\n",
       "    </tr>\n",
       "  </tbody>\n",
       "</table>\n",
       "</div>"
      ],
      "text/plain": [
       "                   Model Name  R2 Value\n",
       "0  Multiple Linear Regression      0.86\n",
       "1       Polynomial Regression      0.52"
      ]
     },
     "execution_count": 29,
     "metadata": {},
     "output_type": "execute_result"
    }
   ],
   "source": [
    "model_comp(model_name, round(r2_value,2))"
   ]
  },
  {
   "cell_type": "markdown",
   "metadata": {},
   "source": [
    "### Model - Ridge Regression"
   ]
  },
  {
   "cell_type": "code",
   "execution_count": 31,
   "metadata": {},
   "outputs": [
    {
     "data": {
      "text/plain": [
       "0.8545220928872304"
      ]
     },
     "execution_count": 31,
     "metadata": {},
     "output_type": "execute_result"
    }
   ],
   "source": [
    "from sklearn.linear_model import Ridge\n",
    "\n",
    "rdg = Ridge()\n",
    "model_name = 'Ridge Regression'\n",
    "r2_value = test_model(rdg)\n",
    "r2_value"
   ]
  },
  {
   "cell_type": "code",
   "execution_count": 32,
   "metadata": {},
   "outputs": [
    {
     "data": {
      "text/html": [
       "<div>\n",
       "<style scoped>\n",
       "    .dataframe tbody tr th:only-of-type {\n",
       "        vertical-align: middle;\n",
       "    }\n",
       "\n",
       "    .dataframe tbody tr th {\n",
       "        vertical-align: top;\n",
       "    }\n",
       "\n",
       "    .dataframe thead th {\n",
       "        text-align: right;\n",
       "    }\n",
       "</style>\n",
       "<table border=\"1\" class=\"dataframe\">\n",
       "  <thead>\n",
       "    <tr style=\"text-align: right;\">\n",
       "      <th></th>\n",
       "      <th>Model Name</th>\n",
       "      <th>R2 Value</th>\n",
       "    </tr>\n",
       "  </thead>\n",
       "  <tbody>\n",
       "    <tr>\n",
       "      <th>0</th>\n",
       "      <td>Multiple Linear Regression</td>\n",
       "      <td>0.86</td>\n",
       "    </tr>\n",
       "    <tr>\n",
       "      <th>1</th>\n",
       "      <td>Polynomial Regression</td>\n",
       "      <td>0.52</td>\n",
       "    </tr>\n",
       "    <tr>\n",
       "      <th>2</th>\n",
       "      <td>Ridge Regression</td>\n",
       "      <td>0.85</td>\n",
       "    </tr>\n",
       "  </tbody>\n",
       "</table>\n",
       "</div>"
      ],
      "text/plain": [
       "                   Model Name  R2 Value\n",
       "0  Multiple Linear Regression      0.86\n",
       "1       Polynomial Regression      0.52\n",
       "2            Ridge Regression      0.85"
      ]
     },
     "execution_count": 32,
     "metadata": {},
     "output_type": "execute_result"
    }
   ],
   "source": [
    "model_comp(model_name, round(r2_value,2))"
   ]
  },
  {
   "cell_type": "markdown",
   "metadata": {},
   "source": [
    "### Model - Lasso Regression"
   ]
  },
  {
   "cell_type": "code",
   "execution_count": 33,
   "metadata": {},
   "outputs": [
    {
     "data": {
      "text/plain": [
       "0.861332829578369"
      ]
     },
     "execution_count": 33,
     "metadata": {},
     "output_type": "execute_result"
    }
   ],
   "source": [
    "from sklearn.linear_model import Lasso\n",
    "\n",
    "lasso = Lasso(alpha=1e-4)\n",
    "model_name = 'Lasso Regression'\n",
    "r2_value = test_model(lasso)\n",
    "r2_value"
   ]
  },
  {
   "cell_type": "code",
   "execution_count": 34,
   "metadata": {},
   "outputs": [
    {
     "data": {
      "text/html": [
       "<div>\n",
       "<style scoped>\n",
       "    .dataframe tbody tr th:only-of-type {\n",
       "        vertical-align: middle;\n",
       "    }\n",
       "\n",
       "    .dataframe tbody tr th {\n",
       "        vertical-align: top;\n",
       "    }\n",
       "\n",
       "    .dataframe thead th {\n",
       "        text-align: right;\n",
       "    }\n",
       "</style>\n",
       "<table border=\"1\" class=\"dataframe\">\n",
       "  <thead>\n",
       "    <tr style=\"text-align: right;\">\n",
       "      <th></th>\n",
       "      <th>Model Name</th>\n",
       "      <th>R2 Value</th>\n",
       "    </tr>\n",
       "  </thead>\n",
       "  <tbody>\n",
       "    <tr>\n",
       "      <th>0</th>\n",
       "      <td>Multiple Linear Regression</td>\n",
       "      <td>0.86</td>\n",
       "    </tr>\n",
       "    <tr>\n",
       "      <th>1</th>\n",
       "      <td>Polynomial Regression</td>\n",
       "      <td>0.52</td>\n",
       "    </tr>\n",
       "    <tr>\n",
       "      <th>2</th>\n",
       "      <td>Ridge Regression</td>\n",
       "      <td>0.85</td>\n",
       "    </tr>\n",
       "    <tr>\n",
       "      <th>3</th>\n",
       "      <td>Lasso Regression</td>\n",
       "      <td>0.86</td>\n",
       "    </tr>\n",
       "  </tbody>\n",
       "</table>\n",
       "</div>"
      ],
      "text/plain": [
       "                   Model Name  R2 Value\n",
       "0  Multiple Linear Regression      0.86\n",
       "1       Polynomial Regression      0.52\n",
       "2            Ridge Regression      0.85\n",
       "3            Lasso Regression      0.86"
      ]
     },
     "execution_count": 34,
     "metadata": {},
     "output_type": "execute_result"
    }
   ],
   "source": [
    "model_comp(model_name, round(r2_value,2))"
   ]
  },
  {
   "cell_type": "markdown",
   "metadata": {},
   "source": [
    "### Model - Support Vector Machine Regressor"
   ]
  },
  {
   "cell_type": "code",
   "execution_count": 84,
   "metadata": {},
   "outputs": [
    {
     "data": {
      "text/plain": [
       "-0.11282886046514173"
      ]
     },
     "execution_count": 84,
     "metadata": {},
     "output_type": "execute_result"
    }
   ],
   "source": [
    "from sklearn.svm import SVR\n",
    "\n",
    "svr_reg = SVR(kernel='rbf')\n",
    "model_name = 'SVM Regressor'\n",
    "r2_value = test_model(svr_reg)\n",
    "r2_value"
   ]
  },
  {
   "cell_type": "code",
   "execution_count": 86,
   "metadata": {},
   "outputs": [
    {
     "data": {
      "text/html": [
       "<div>\n",
       "<style scoped>\n",
       "    .dataframe tbody tr th:only-of-type {\n",
       "        vertical-align: middle;\n",
       "    }\n",
       "\n",
       "    .dataframe tbody tr th {\n",
       "        vertical-align: top;\n",
       "    }\n",
       "\n",
       "    .dataframe thead th {\n",
       "        text-align: right;\n",
       "    }\n",
       "</style>\n",
       "<table border=\"1\" class=\"dataframe\">\n",
       "  <thead>\n",
       "    <tr style=\"text-align: right;\">\n",
       "      <th></th>\n",
       "      <th>Model Name</th>\n",
       "      <th>R2 Value</th>\n",
       "    </tr>\n",
       "  </thead>\n",
       "  <tbody>\n",
       "    <tr>\n",
       "      <th>0</th>\n",
       "      <td>Multiple Linear Regression</td>\n",
       "      <td>0.86</td>\n",
       "    </tr>\n",
       "    <tr>\n",
       "      <th>1</th>\n",
       "      <td>Polynomial Regression</td>\n",
       "      <td>0.52</td>\n",
       "    </tr>\n",
       "    <tr>\n",
       "      <th>2</th>\n",
       "      <td>Ridge Regression</td>\n",
       "      <td>0.85</td>\n",
       "    </tr>\n",
       "    <tr>\n",
       "      <th>3</th>\n",
       "      <td>Lasso Regression</td>\n",
       "      <td>0.86</td>\n",
       "    </tr>\n",
       "    <tr>\n",
       "      <th>4</th>\n",
       "      <td>Decision Tree Regressor</td>\n",
       "      <td>0.82</td>\n",
       "    </tr>\n",
       "    <tr>\n",
       "      <th>5</th>\n",
       "      <td>Random Forest Regressor</td>\n",
       "      <td>0.88</td>\n",
       "    </tr>\n",
       "    <tr>\n",
       "      <th>6</th>\n",
       "      <td>Boosting Regressor</td>\n",
       "      <td>0.89</td>\n",
       "    </tr>\n",
       "    <tr>\n",
       "      <th>7</th>\n",
       "      <td>XGBoost (gblinear) Regressor</td>\n",
       "      <td>0.89</td>\n",
       "    </tr>\n",
       "    <tr>\n",
       "      <th>8</th>\n",
       "      <td>XGBoost (gblinear) Regressor</td>\n",
       "      <td>0.89</td>\n",
       "    </tr>\n",
       "    <tr>\n",
       "      <th>9</th>\n",
       "      <td>Hypertuned Ridge Regressor</td>\n",
       "      <td>0.86</td>\n",
       "    </tr>\n",
       "    <tr>\n",
       "      <th>10</th>\n",
       "      <td>Hypertuned Lasso Regressor</td>\n",
       "      <td>0.87</td>\n",
       "    </tr>\n",
       "    <tr>\n",
       "      <th>11</th>\n",
       "      <td>Hypertuned SVM Regressor</td>\n",
       "      <td>0.87</td>\n",
       "    </tr>\n",
       "    <tr>\n",
       "      <th>12</th>\n",
       "      <td>Hypertuned XGBoost Regressor</td>\n",
       "      <td>0.73</td>\n",
       "    </tr>\n",
       "    <tr>\n",
       "      <th>13</th>\n",
       "      <td>Hypertuned XGBoost Regressor</td>\n",
       "      <td>0.73</td>\n",
       "    </tr>\n",
       "    <tr>\n",
       "      <th>14</th>\n",
       "      <td>SVM Regressor</td>\n",
       "      <td>-0.11</td>\n",
       "    </tr>\n",
       "    <tr>\n",
       "      <th>15</th>\n",
       "      <td>SVM Regressor</td>\n",
       "      <td>-0.11</td>\n",
       "    </tr>\n",
       "  </tbody>\n",
       "</table>\n",
       "</div>"
      ],
      "text/plain": [
       "                      Model Name  R2 Value\n",
       "0     Multiple Linear Regression      0.86\n",
       "1          Polynomial Regression      0.52\n",
       "2               Ridge Regression      0.85\n",
       "3               Lasso Regression      0.86\n",
       "4        Decision Tree Regressor      0.82\n",
       "5        Random Forest Regressor      0.88\n",
       "6             Boosting Regressor      0.89\n",
       "7   XGBoost (gblinear) Regressor      0.89\n",
       "8   XGBoost (gblinear) Regressor      0.89\n",
       "9     Hypertuned Ridge Regressor      0.86\n",
       "10    Hypertuned Lasso Regressor      0.87\n",
       "11      Hypertuned SVM Regressor      0.87\n",
       "12  Hypertuned XGBoost Regressor      0.73\n",
       "13  Hypertuned XGBoost Regressor      0.73\n",
       "14                 SVM Regressor     -0.11\n",
       "15                 SVM Regressor     -0.11"
      ]
     },
     "execution_count": 86,
     "metadata": {},
     "output_type": "execute_result"
    }
   ],
   "source": [
    "model_comp(model_name, round(r2_value,2))"
   ]
  },
  {
   "cell_type": "markdown",
   "metadata": {},
   "source": [
    "### Model - Decision Tree Regressor"
   ]
  },
  {
   "cell_type": "code",
   "execution_count": 37,
   "metadata": {},
   "outputs": [
    {
     "data": {
      "text/plain": [
       "0.816501370326371"
      ]
     },
     "execution_count": 37,
     "metadata": {},
     "output_type": "execute_result"
    }
   ],
   "source": [
    "from sklearn.tree import DecisionTreeRegressor\n",
    "dt_reg = DecisionTreeRegressor(random_state=0)\n",
    "model_name = 'Decision Tree Regressor'\n",
    "r2_value = test_model(dt_reg)\n",
    "r2_value"
   ]
  },
  {
   "cell_type": "code",
   "execution_count": 38,
   "metadata": {},
   "outputs": [
    {
     "data": {
      "text/html": [
       "<div>\n",
       "<style scoped>\n",
       "    .dataframe tbody tr th:only-of-type {\n",
       "        vertical-align: middle;\n",
       "    }\n",
       "\n",
       "    .dataframe tbody tr th {\n",
       "        vertical-align: top;\n",
       "    }\n",
       "\n",
       "    .dataframe thead th {\n",
       "        text-align: right;\n",
       "    }\n",
       "</style>\n",
       "<table border=\"1\" class=\"dataframe\">\n",
       "  <thead>\n",
       "    <tr style=\"text-align: right;\">\n",
       "      <th></th>\n",
       "      <th>Model Name</th>\n",
       "      <th>R2 Value</th>\n",
       "    </tr>\n",
       "  </thead>\n",
       "  <tbody>\n",
       "    <tr>\n",
       "      <th>0</th>\n",
       "      <td>Multiple Linear Regression</td>\n",
       "      <td>0.86</td>\n",
       "    </tr>\n",
       "    <tr>\n",
       "      <th>1</th>\n",
       "      <td>Polynomial Regression</td>\n",
       "      <td>0.52</td>\n",
       "    </tr>\n",
       "    <tr>\n",
       "      <th>2</th>\n",
       "      <td>Ridge Regression</td>\n",
       "      <td>0.85</td>\n",
       "    </tr>\n",
       "    <tr>\n",
       "      <th>3</th>\n",
       "      <td>Lasso Regression</td>\n",
       "      <td>0.86</td>\n",
       "    </tr>\n",
       "    <tr>\n",
       "      <th>4</th>\n",
       "      <td>Decision Tree Regressor</td>\n",
       "      <td>0.82</td>\n",
       "    </tr>\n",
       "  </tbody>\n",
       "</table>\n",
       "</div>"
      ],
      "text/plain": [
       "                   Model Name  R2 Value\n",
       "0  Multiple Linear Regression      0.86\n",
       "1       Polynomial Regression      0.52\n",
       "2            Ridge Regression      0.85\n",
       "3            Lasso Regression      0.86\n",
       "4     Decision Tree Regressor      0.82"
      ]
     },
     "execution_count": 38,
     "metadata": {},
     "output_type": "execute_result"
    }
   ],
   "source": [
    "model_comp(model_name, round(r2_value,2))"
   ]
  },
  {
   "cell_type": "markdown",
   "metadata": {},
   "source": [
    "### Model - Random Forest Regressor"
   ]
  },
  {
   "cell_type": "code",
   "execution_count": 39,
   "metadata": {},
   "outputs": [
    {
     "data": {
      "text/plain": [
       "0.8757841109159734"
      ]
     },
     "execution_count": 39,
     "metadata": {},
     "output_type": "execute_result"
    }
   ],
   "source": [
    "from sklearn.ensemble import RandomForestRegressor\n",
    "rf_reg = RandomForestRegressor(n_estimators = 1000, random_state=51)\n",
    "model_name = 'Random Forest Regressor'\n",
    "r2_value = test_model(rf_reg)\n",
    "r2_value"
   ]
  },
  {
   "cell_type": "code",
   "execution_count": 40,
   "metadata": {},
   "outputs": [
    {
     "data": {
      "text/html": [
       "<div>\n",
       "<style scoped>\n",
       "    .dataframe tbody tr th:only-of-type {\n",
       "        vertical-align: middle;\n",
       "    }\n",
       "\n",
       "    .dataframe tbody tr th {\n",
       "        vertical-align: top;\n",
       "    }\n",
       "\n",
       "    .dataframe thead th {\n",
       "        text-align: right;\n",
       "    }\n",
       "</style>\n",
       "<table border=\"1\" class=\"dataframe\">\n",
       "  <thead>\n",
       "    <tr style=\"text-align: right;\">\n",
       "      <th></th>\n",
       "      <th>Model Name</th>\n",
       "      <th>R2 Value</th>\n",
       "    </tr>\n",
       "  </thead>\n",
       "  <tbody>\n",
       "    <tr>\n",
       "      <th>0</th>\n",
       "      <td>Multiple Linear Regression</td>\n",
       "      <td>0.86</td>\n",
       "    </tr>\n",
       "    <tr>\n",
       "      <th>1</th>\n",
       "      <td>Polynomial Regression</td>\n",
       "      <td>0.52</td>\n",
       "    </tr>\n",
       "    <tr>\n",
       "      <th>2</th>\n",
       "      <td>Ridge Regression</td>\n",
       "      <td>0.85</td>\n",
       "    </tr>\n",
       "    <tr>\n",
       "      <th>3</th>\n",
       "      <td>Lasso Regression</td>\n",
       "      <td>0.86</td>\n",
       "    </tr>\n",
       "    <tr>\n",
       "      <th>4</th>\n",
       "      <td>Decision Tree Regressor</td>\n",
       "      <td>0.82</td>\n",
       "    </tr>\n",
       "    <tr>\n",
       "      <th>5</th>\n",
       "      <td>Random Forest Regressor</td>\n",
       "      <td>0.88</td>\n",
       "    </tr>\n",
       "  </tbody>\n",
       "</table>\n",
       "</div>"
      ],
      "text/plain": [
       "                   Model Name  R2 Value\n",
       "0  Multiple Linear Regression      0.86\n",
       "1       Polynomial Regression      0.52\n",
       "2            Ridge Regression      0.85\n",
       "3            Lasso Regression      0.86\n",
       "4     Decision Tree Regressor      0.82\n",
       "5     Random Forest Regressor      0.88"
      ]
     },
     "execution_count": 40,
     "metadata": {},
     "output_type": "execute_result"
    }
   ],
   "source": [
    "model_comp(model_name, round(r2_value,2))"
   ]
  },
  {
   "cell_type": "markdown",
   "metadata": {},
   "source": [
    "### Model - Bagging & boosting"
   ]
  },
  {
   "cell_type": "code",
   "execution_count": 41,
   "metadata": {},
   "outputs": [
    {
     "data": {
      "text/plain": [
       "0.8769964585788965"
      ]
     },
     "execution_count": 41,
     "metadata": {},
     "output_type": "execute_result"
    }
   ],
   "source": [
    "from sklearn.ensemble import BaggingRegressor, GradientBoostingRegressor\n",
    "br_reg = BaggingRegressor(n_estimators=1000, random_state=51)\n",
    "model_name = 'Bagging Regressor'\n",
    "\n",
    "r2_value = test_model(br_reg)\n",
    "r2_value"
   ]
  },
  {
   "cell_type": "code",
   "execution_count": 42,
   "metadata": {},
   "outputs": [],
   "source": [
    "gbr_reg = GradientBoostingRegressor(n_estimators=1000, learning_rate=0.1, loss='ls', random_state=51)\n",
    "model_name = 'Boosting Regressor'"
   ]
  },
  {
   "cell_type": "code",
   "execution_count": 43,
   "metadata": {},
   "outputs": [
    {
     "data": {
      "text/plain": [
       "0.88643509090349"
      ]
     },
     "execution_count": 43,
     "metadata": {},
     "output_type": "execute_result"
    }
   ],
   "source": [
    "r2_value = test_model(gbr_reg)\n",
    "r2_value"
   ]
  },
  {
   "cell_type": "code",
   "execution_count": 44,
   "metadata": {},
   "outputs": [
    {
     "data": {
      "text/html": [
       "<div>\n",
       "<style scoped>\n",
       "    .dataframe tbody tr th:only-of-type {\n",
       "        vertical-align: middle;\n",
       "    }\n",
       "\n",
       "    .dataframe tbody tr th {\n",
       "        vertical-align: top;\n",
       "    }\n",
       "\n",
       "    .dataframe thead th {\n",
       "        text-align: right;\n",
       "    }\n",
       "</style>\n",
       "<table border=\"1\" class=\"dataframe\">\n",
       "  <thead>\n",
       "    <tr style=\"text-align: right;\">\n",
       "      <th></th>\n",
       "      <th>Model Name</th>\n",
       "      <th>R2 Value</th>\n",
       "    </tr>\n",
       "  </thead>\n",
       "  <tbody>\n",
       "    <tr>\n",
       "      <th>0</th>\n",
       "      <td>Multiple Linear Regression</td>\n",
       "      <td>0.86</td>\n",
       "    </tr>\n",
       "    <tr>\n",
       "      <th>1</th>\n",
       "      <td>Polynomial Regression</td>\n",
       "      <td>0.52</td>\n",
       "    </tr>\n",
       "    <tr>\n",
       "      <th>2</th>\n",
       "      <td>Ridge Regression</td>\n",
       "      <td>0.85</td>\n",
       "    </tr>\n",
       "    <tr>\n",
       "      <th>3</th>\n",
       "      <td>Lasso Regression</td>\n",
       "      <td>0.86</td>\n",
       "    </tr>\n",
       "    <tr>\n",
       "      <th>4</th>\n",
       "      <td>Decision Tree Regressor</td>\n",
       "      <td>0.82</td>\n",
       "    </tr>\n",
       "    <tr>\n",
       "      <th>5</th>\n",
       "      <td>Random Forest Regressor</td>\n",
       "      <td>0.88</td>\n",
       "    </tr>\n",
       "    <tr>\n",
       "      <th>6</th>\n",
       "      <td>Boosting Regressor</td>\n",
       "      <td>0.89</td>\n",
       "    </tr>\n",
       "  </tbody>\n",
       "</table>\n",
       "</div>"
      ],
      "text/plain": [
       "                   Model Name  R2 Value\n",
       "0  Multiple Linear Regression      0.86\n",
       "1       Polynomial Regression      0.52\n",
       "2            Ridge Regression      0.85\n",
       "3            Lasso Regression      0.86\n",
       "4     Decision Tree Regressor      0.82\n",
       "5     Random Forest Regressor      0.88\n",
       "6          Boosting Regressor      0.89"
      ]
     },
     "execution_count": 44,
     "metadata": {},
     "output_type": "execute_result"
    }
   ],
   "source": [
    "model_comp(model_name, round(r2_value,2))"
   ]
  },
  {
   "cell_type": "markdown",
   "metadata": {},
   "source": [
    "### Model - XGBoost Regressor"
   ]
  },
  {
   "cell_type": "code",
   "execution_count": 45,
   "metadata": {},
   "outputs": [
    {
     "name": "stdout",
     "output_type": "stream",
     "text": [
      "[15:05:03] WARNING: C:/Users/Administrator/workspace/xgboost-win64_release_1.3.0/src/learner.cc:541: \n",
      "Parameters: { bbooster } might not be used.\n",
      "\n",
      "  This may not be accurate due to some parameters are only used in language bindings but\n",
      "  passed down to XGBoost core.  Or some parameters are not used but slip through this\n",
      "  verification. Please open an issue if you find above cases.\n",
      "\n",
      "\n",
      "[15:05:03] WARNING: C:/Users/Administrator/workspace/xgboost-win64_release_1.3.0/src/learner.cc:541: \n",
      "Parameters: { bbooster } might not be used.\n",
      "\n",
      "  This may not be accurate due to some parameters are only used in language bindings but\n",
      "  passed down to XGBoost core.  Or some parameters are not used but slip through this\n",
      "  verification. Please open an issue if you find above cases.\n",
      "\n",
      "\n",
      "[15:05:03] WARNING: C:/Users/Administrator/workspace/xgboost-win64_release_1.3.0/src/learner.cc:541: \n",
      "Parameters: { bbooster } might not be used.\n",
      "\n",
      "  This may not be accurate due to some parameters are only used in language bindings but\n",
      "  passed down to XGBoost core.  Or some parameters are not used but slip through this\n",
      "  verification. Please open an issue if you find above cases.\n",
      "\n",
      "\n",
      "[15:05:03] WARNING: C:/Users/Administrator/workspace/xgboost-win64_release_1.3.0/src/learner.cc:541: \n",
      "Parameters: { bbooster } might not be used.\n",
      "\n",
      "  This may not be accurate due to some parameters are only used in language bindings but\n",
      "  passed down to XGBoost core.  Or some parameters are not used but slip through this\n",
      "  verification. Please open an issue if you find above cases.\n",
      "\n",
      "\n",
      "[15:05:03] WARNING: C:/Users/Administrator/workspace/xgboost-win64_release_1.3.0/src/learner.cc:541: \n",
      "Parameters: { bbooster } might not be used.\n",
      "\n",
      "  This may not be accurate due to some parameters are only used in language bindings but\n",
      "  passed down to XGBoost core.  Or some parameters are not used but slip through this\n",
      "  verification. Please open an issue if you find above cases.\n",
      "\n",
      "\n"
     ]
    },
    {
     "data": {
      "text/plain": [
       "0.8877171583781097"
      ]
     },
     "execution_count": 45,
     "metadata": {},
     "output_type": "execute_result"
    }
   ],
   "source": [
    "import xgboost\n",
    "xgb_reg = xgboost.XGBRegressor(bbooster='gbtree', random_state=0)\n",
    "model_name = 'XGBoost (gbtree) Regressor'\n",
    "r2_value = test_model(xgb_reg)\n",
    "r2_value"
   ]
  },
  {
   "cell_type": "code",
   "execution_count": 46,
   "metadata": {},
   "outputs": [
    {
     "name": "stdout",
     "output_type": "stream",
     "text": [
      "[15:05:04] WARNING: C:/Users/Administrator/workspace/xgboost-win64_release_1.3.0/src/learner.cc:541: \n",
      "Parameters: { bbooster } might not be used.\n",
      "\n",
      "  This may not be accurate due to some parameters are only used in language bindings but\n",
      "  passed down to XGBoost core.  Or some parameters are not used but slip through this\n",
      "  verification. Please open an issue if you find above cases.\n",
      "\n",
      "\n",
      "[15:05:04] WARNING: C:/Users/Administrator/workspace/xgboost-win64_release_1.3.0/src/learner.cc:541: \n",
      "Parameters: { bbooster } might not be used.\n",
      "\n",
      "  This may not be accurate due to some parameters are only used in language bindings but\n",
      "  passed down to XGBoost core.  Or some parameters are not used but slip through this\n",
      "  verification. Please open an issue if you find above cases.\n",
      "\n",
      "\n",
      "[15:05:04] WARNING: C:/Users/Administrator/workspace/xgboost-win64_release_1.3.0/src/learner.cc:541: \n",
      "Parameters: { bbooster } might not be used.\n",
      "\n",
      "  This may not be accurate due to some parameters are only used in language bindings but\n",
      "  passed down to XGBoost core.  Or some parameters are not used but slip through this\n",
      "  verification. Please open an issue if you find above cases.\n",
      "\n",
      "\n",
      "[15:05:04] WARNING: C:/Users/Administrator/workspace/xgboost-win64_release_1.3.0/src/learner.cc:541: \n",
      "Parameters: { bbooster } might not be used.\n",
      "\n",
      "  This may not be accurate due to some parameters are only used in language bindings but\n",
      "  passed down to XGBoost core.  Or some parameters are not used but slip through this\n",
      "  verification. Please open an issue if you find above cases.\n",
      "\n",
      "\n",
      "[15:05:04] WARNING: C:/Users/Administrator/workspace/xgboost-win64_release_1.3.0/src/learner.cc:541: \n",
      "Parameters: { bbooster } might not be used.\n",
      "\n",
      "  This may not be accurate due to some parameters are only used in language bindings but\n",
      "  passed down to XGBoost core.  Or some parameters are not used but slip through this\n",
      "  verification. Please open an issue if you find above cases.\n",
      "\n",
      "\n"
     ]
    },
    {
     "data": {
      "text/plain": [
       "0.8877171583781097"
      ]
     },
     "execution_count": 46,
     "metadata": {},
     "output_type": "execute_result"
    }
   ],
   "source": [
    "import xgboost\n",
    "xgb_reg = xgboost.XGBRegressor(bbooster='gblinear', random_state=0)\n",
    "model_name = 'XGBoost (gblinear) Regressor'\n",
    "r2_value = test_model(xgb_reg)\n",
    "r2_value"
   ]
  },
  {
   "cell_type": "code",
   "execution_count": 47,
   "metadata": {},
   "outputs": [
    {
     "data": {
      "text/html": [
       "<div>\n",
       "<style scoped>\n",
       "    .dataframe tbody tr th:only-of-type {\n",
       "        vertical-align: middle;\n",
       "    }\n",
       "\n",
       "    .dataframe tbody tr th {\n",
       "        vertical-align: top;\n",
       "    }\n",
       "\n",
       "    .dataframe thead th {\n",
       "        text-align: right;\n",
       "    }\n",
       "</style>\n",
       "<table border=\"1\" class=\"dataframe\">\n",
       "  <thead>\n",
       "    <tr style=\"text-align: right;\">\n",
       "      <th></th>\n",
       "      <th>Model Name</th>\n",
       "      <th>R2 Value</th>\n",
       "    </tr>\n",
       "  </thead>\n",
       "  <tbody>\n",
       "    <tr>\n",
       "      <th>0</th>\n",
       "      <td>Multiple Linear Regression</td>\n",
       "      <td>0.86</td>\n",
       "    </tr>\n",
       "    <tr>\n",
       "      <th>1</th>\n",
       "      <td>Polynomial Regression</td>\n",
       "      <td>0.52</td>\n",
       "    </tr>\n",
       "    <tr>\n",
       "      <th>2</th>\n",
       "      <td>Ridge Regression</td>\n",
       "      <td>0.85</td>\n",
       "    </tr>\n",
       "    <tr>\n",
       "      <th>3</th>\n",
       "      <td>Lasso Regression</td>\n",
       "      <td>0.86</td>\n",
       "    </tr>\n",
       "    <tr>\n",
       "      <th>4</th>\n",
       "      <td>Decision Tree Regressor</td>\n",
       "      <td>0.82</td>\n",
       "    </tr>\n",
       "    <tr>\n",
       "      <th>5</th>\n",
       "      <td>Random Forest Regressor</td>\n",
       "      <td>0.88</td>\n",
       "    </tr>\n",
       "    <tr>\n",
       "      <th>6</th>\n",
       "      <td>Boosting Regressor</td>\n",
       "      <td>0.89</td>\n",
       "    </tr>\n",
       "    <tr>\n",
       "      <th>7</th>\n",
       "      <td>XGBoost (gblinear) Regressor</td>\n",
       "      <td>0.89</td>\n",
       "    </tr>\n",
       "  </tbody>\n",
       "</table>\n",
       "</div>"
      ],
      "text/plain": [
       "                     Model Name  R2 Value\n",
       "0    Multiple Linear Regression      0.86\n",
       "1         Polynomial Regression      0.52\n",
       "2              Ridge Regression      0.85\n",
       "3              Lasso Regression      0.86\n",
       "4       Decision Tree Regressor      0.82\n",
       "5       Random Forest Regressor      0.88\n",
       "6            Boosting Regressor      0.89\n",
       "7  XGBoost (gblinear) Regressor      0.89"
      ]
     },
     "execution_count": 47,
     "metadata": {},
     "output_type": "execute_result"
    }
   ],
   "source": [
    "model_comp(model_name, round(r2_value,2))"
   ]
  },
  {
   "cell_type": "markdown",
   "metadata": {},
   "source": [
    "### SVM Model Building"
   ]
  },
  {
   "cell_type": "code",
   "execution_count": 48,
   "metadata": {},
   "outputs": [
    {
     "data": {
      "text/plain": [
       "SVR()"
      ]
     },
     "execution_count": 48,
     "metadata": {},
     "output_type": "execute_result"
    }
   ],
   "source": [
    "svr_reg.fit(X_train,y_train)\n",
    "# y_pred = np.exp(svr_reg.predict(X_test)).round(2)"
   ]
  },
  {
   "cell_type": "code",
   "execution_count": 49,
   "metadata": {},
   "outputs": [
    {
     "data": {
      "text/plain": [
       "-0.11282886046514173"
      ]
     },
     "execution_count": 49,
     "metadata": {},
     "output_type": "execute_result"
    }
   ],
   "source": [
    "r2_value = test_model(svr_reg)\n",
    "r2_value"
   ]
  },
  {
   "cell_type": "code",
   "execution_count": 50,
   "metadata": {},
   "outputs": [
    {
     "data": {
      "text/plain": [
       "-0.9451891276915062"
      ]
     },
     "execution_count": 50,
     "metadata": {},
     "output_type": "execute_result"
    }
   ],
   "source": [
    "from sklearn.model_selection import RandomizedSearchCV, GridSearchCV\n",
    "params = {'kernel': ['linear','rbf','sigmoid'],\n",
    "         'gamma': [1, 0.1, 0.01, 0.001, 0.0001],\n",
    "         'C': [0.1, 1, 10, 100, 1000],\n",
    "         'epsilon': [1, 0.2, 0.1, 0.01, 0.001, 0.0001]}\n",
    "rand_search = RandomizedSearchCV(svr_reg, param_distributions=params, n_jobs=-1, cv=11)\n",
    "rand_search.fit(X_train, y_train)\n",
    "rand_search.best_score_"
   ]
  },
  {
   "cell_type": "code",
   "execution_count": 51,
   "metadata": {},
   "outputs": [
    {
     "data": {
      "text/plain": [
       "-0.11291692356763239"
      ]
     },
     "execution_count": 51,
     "metadata": {},
     "output_type": "execute_result"
    }
   ],
   "source": [
    "svr_reg= SVR(C=100, cache_size=200, coef0=0.0, degree=3, epsilon=0.01, gamma=0.0001,\n",
    "    kernel='rbf', max_iter=-1, shrinking=True, tol=0.001, verbose=False)\n",
    "r2_value = test_model(svr_reg)\n",
    "r2_value"
   ]
  },
  {
   "cell_type": "code",
   "execution_count": 52,
   "metadata": {},
   "outputs": [
    {
     "name": "stdout",
     "output_type": "stream",
     "text": [
      "[15:05:09] WARNING: C:/Users/Administrator/workspace/xgboost-win64_release_1.3.0/src/learner.cc:541: \n",
      "Parameters: { mon_child_weight } might not be used.\n",
      "\n",
      "  This may not be accurate due to some parameters are only used in language bindings but\n",
      "  passed down to XGBoost core.  Or some parameters are not used but slip through this\n",
      "  verification. Please open an issue if you find above cases.\n",
      "\n",
      "\n",
      "[15:05:10] WARNING: C:/Users/Administrator/workspace/xgboost-win64_release_1.3.0/src/learner.cc:541: \n",
      "Parameters: { mon_child_weight } might not be used.\n",
      "\n",
      "  This may not be accurate due to some parameters are only used in language bindings but\n",
      "  passed down to XGBoost core.  Or some parameters are not used but slip through this\n",
      "  verification. Please open an issue if you find above cases.\n",
      "\n",
      "\n",
      "[15:05:11] WARNING: C:/Users/Administrator/workspace/xgboost-win64_release_1.3.0/src/learner.cc:541: \n",
      "Parameters: { mon_child_weight } might not be used.\n",
      "\n",
      "  This may not be accurate due to some parameters are only used in language bindings but\n",
      "  passed down to XGBoost core.  Or some parameters are not used but slip through this\n",
      "  verification. Please open an issue if you find above cases.\n",
      "\n",
      "\n",
      "[15:05:12] WARNING: C:/Users/Administrator/workspace/xgboost-win64_release_1.3.0/src/learner.cc:541: \n",
      "Parameters: { mon_child_weight } might not be used.\n",
      "\n",
      "  This may not be accurate due to some parameters are only used in language bindings but\n",
      "  passed down to XGBoost core.  Or some parameters are not used but slip through this\n",
      "  verification. Please open an issue if you find above cases.\n",
      "\n",
      "\n",
      "[15:05:13] WARNING: C:/Users/Administrator/workspace/xgboost-win64_release_1.3.0/src/learner.cc:541: \n",
      "Parameters: { mon_child_weight } might not be used.\n",
      "\n",
      "  This may not be accurate due to some parameters are only used in language bindings but\n",
      "  passed down to XGBoost core.  Or some parameters are not used but slip through this\n",
      "  verification. Please open an issue if you find above cases.\n",
      "\n",
      "\n"
     ]
    },
    {
     "data": {
      "text/plain": [
       "0.8929247825143115"
      ]
     },
     "execution_count": 52,
     "metadata": {},
     "output_type": "execute_result"
    }
   ],
   "source": [
    "xgb2_reg=xgboost.XGBRegressor(n_estimators= 899,\n",
    " mon_child_weight= 2,\n",
    " max_depth= 4,\n",
    " learning_rate= 0.05,\n",
    " booster= 'gbtree')\n",
    "\n",
    "r2_value = test_model(xgb2_reg)\n",
    "r2_value"
   ]
  },
  {
   "cell_type": "code",
   "execution_count": 53,
   "metadata": {},
   "outputs": [
    {
     "name": "stdout",
     "output_type": "stream",
     "text": [
      "[15:05:14] WARNING: C:/Users/Administrator/workspace/xgboost-win64_release_1.3.0/src/learner.cc:541: \n",
      "Parameters: { mon_child_weight } might not be used.\n",
      "\n",
      "  This may not be accurate due to some parameters are only used in language bindings but\n",
      "  passed down to XGBoost core.  Or some parameters are not used but slip through this\n",
      "  verification. Please open an issue if you find above cases.\n",
      "\n",
      "\n"
     ]
    }
   ],
   "source": [
    "xgb2_reg.fit(X_train,y_train)\n",
    "y_pred_xgb_rs=xgb2_reg.predict(X_test)"
   ]
  },
  {
   "cell_type": "code",
   "execution_count": 54,
   "metadata": {},
   "outputs": [
    {
     "name": "stdout",
     "output_type": "stream",
     "text": [
      "[15:05:15] WARNING: C:/Users/Administrator/workspace/xgboost-win64_release_1.3.0/src/learner.cc:541: \n",
      "Parameters: { mon_child_weight } might not be used.\n",
      "\n",
      "  This may not be accurate due to some parameters are only used in language bindings but\n",
      "  passed down to XGBoost core.  Or some parameters are not used but slip through this\n",
      "  verification. Please open an issue if you find above cases.\n",
      "\n",
      "\n",
      "[15:05:16] WARNING: C:/Users/Administrator/workspace/xgboost-win64_release_1.3.0/src/learner.cc:541: \n",
      "Parameters: { mon_child_weight } might not be used.\n",
      "\n",
      "  This may not be accurate due to some parameters are only used in language bindings but\n",
      "  passed down to XGBoost core.  Or some parameters are not used but slip through this\n",
      "  verification. Please open an issue if you find above cases.\n",
      "\n",
      "\n",
      "[15:05:17] WARNING: C:/Users/Administrator/workspace/xgboost-win64_release_1.3.0/src/learner.cc:541: \n",
      "Parameters: { mon_child_weight } might not be used.\n",
      "\n",
      "  This may not be accurate due to some parameters are only used in language bindings but\n",
      "  passed down to XGBoost core.  Or some parameters are not used but slip through this\n",
      "  verification. Please open an issue if you find above cases.\n",
      "\n",
      "\n",
      "[15:05:18] WARNING: C:/Users/Administrator/workspace/xgboost-win64_release_1.3.0/src/learner.cc:541: \n",
      "Parameters: { mon_child_weight } might not be used.\n",
      "\n",
      "  This may not be accurate due to some parameters are only used in language bindings but\n",
      "  passed down to XGBoost core.  Or some parameters are not used but slip through this\n",
      "  verification. Please open an issue if you find above cases.\n",
      "\n",
      "\n",
      "[15:05:19] WARNING: C:/Users/Administrator/workspace/xgboost-win64_release_1.3.0/src/learner.cc:541: \n",
      "Parameters: { mon_child_weight } might not be used.\n",
      "\n",
      "  This may not be accurate due to some parameters are only used in language bindings but\n",
      "  passed down to XGBoost core.  Or some parameters are not used but slip through this\n",
      "  verification. Please open an issue if you find above cases.\n",
      "\n",
      "\n"
     ]
    },
    {
     "data": {
      "text/plain": [
       "0.8929247825143115"
      ]
     },
     "execution_count": 54,
     "metadata": {},
     "output_type": "execute_result"
    }
   ],
   "source": [
    "r2_value = test_model(xgb2_reg)\n",
    "r2_value"
   ]
  },
  {
   "cell_type": "code",
   "execution_count": 55,
   "metadata": {},
   "outputs": [
    {
     "data": {
      "text/html": [
       "<div>\n",
       "<style scoped>\n",
       "    .dataframe tbody tr th:only-of-type {\n",
       "        vertical-align: middle;\n",
       "    }\n",
       "\n",
       "    .dataframe tbody tr th {\n",
       "        vertical-align: top;\n",
       "    }\n",
       "\n",
       "    .dataframe thead th {\n",
       "        text-align: right;\n",
       "    }\n",
       "</style>\n",
       "<table border=\"1\" class=\"dataframe\">\n",
       "  <thead>\n",
       "    <tr style=\"text-align: right;\">\n",
       "      <th></th>\n",
       "      <th>Model Name</th>\n",
       "      <th>R2 Value</th>\n",
       "    </tr>\n",
       "  </thead>\n",
       "  <tbody>\n",
       "    <tr>\n",
       "      <th>0</th>\n",
       "      <td>Multiple Linear Regression</td>\n",
       "      <td>0.86</td>\n",
       "    </tr>\n",
       "    <tr>\n",
       "      <th>1</th>\n",
       "      <td>Polynomial Regression</td>\n",
       "      <td>0.52</td>\n",
       "    </tr>\n",
       "    <tr>\n",
       "      <th>2</th>\n",
       "      <td>Ridge Regression</td>\n",
       "      <td>0.85</td>\n",
       "    </tr>\n",
       "    <tr>\n",
       "      <th>3</th>\n",
       "      <td>Lasso Regression</td>\n",
       "      <td>0.86</td>\n",
       "    </tr>\n",
       "    <tr>\n",
       "      <th>4</th>\n",
       "      <td>Decision Tree Regressor</td>\n",
       "      <td>0.82</td>\n",
       "    </tr>\n",
       "    <tr>\n",
       "      <th>5</th>\n",
       "      <td>Random Forest Regressor</td>\n",
       "      <td>0.88</td>\n",
       "    </tr>\n",
       "    <tr>\n",
       "      <th>6</th>\n",
       "      <td>Boosting Regressor</td>\n",
       "      <td>0.89</td>\n",
       "    </tr>\n",
       "    <tr>\n",
       "      <th>7</th>\n",
       "      <td>XGBoost (gblinear) Regressor</td>\n",
       "      <td>0.89</td>\n",
       "    </tr>\n",
       "    <tr>\n",
       "      <th>8</th>\n",
       "      <td>XGBoost (gblinear) Regressor</td>\n",
       "      <td>0.89</td>\n",
       "    </tr>\n",
       "  </tbody>\n",
       "</table>\n",
       "</div>"
      ],
      "text/plain": [
       "                     Model Name  R2 Value\n",
       "0    Multiple Linear Regression      0.86\n",
       "1         Polynomial Regression      0.52\n",
       "2              Ridge Regression      0.85\n",
       "3              Lasso Regression      0.86\n",
       "4       Decision Tree Regressor      0.82\n",
       "5       Random Forest Regressor      0.88\n",
       "6            Boosting Regressor      0.89\n",
       "7  XGBoost (gblinear) Regressor      0.89\n",
       "8  XGBoost (gblinear) Regressor      0.89"
      ]
     },
     "execution_count": 55,
     "metadata": {},
     "output_type": "execute_result"
    }
   ],
   "source": [
    "model_comp(model_name, round(r2_value,2))"
   ]
  },
  {
   "cell_type": "markdown",
   "metadata": {},
   "source": [
    "### Hyperparameter Tuning for Ridge Regression"
   ]
  },
  {
   "cell_type": "code",
   "execution_count": 58,
   "metadata": {},
   "outputs": [],
   "source": [
    "from sklearn.model_selection import GridSearchCV\n",
    "from sklearn.linear_model import Ridge\n",
    "\n",
    "ridge = Ridge()\n",
    "parameters = {'alpha':[1e-15,1e-10,1e-8,1e-6,1e-4,1e-2,1,5,10,20,30,40,45,50,55,60,70,80,100]}\n",
    "reg_r=GridSearchCV(ridge,parameters,cv = 5)\n",
    "reg_r.fit(X_train,y_train)\n",
    "\n",
    "model_name = 'Hypertuned Ridge Regressor'"
   ]
  },
  {
   "cell_type": "code",
   "execution_count": 59,
   "metadata": {},
   "outputs": [
    {
     "name": "stdout",
     "output_type": "stream",
     "text": [
      "Ridge(alpha=0.01)\n",
      "0.8637976655455818\n"
     ]
    }
   ],
   "source": [
    "print(reg_r.best_estimator_)\n",
    "print(reg_r.best_score_)\n",
    "\n"
   ]
  },
  {
   "cell_type": "code",
   "execution_count": 60,
   "metadata": {},
   "outputs": [
    {
     "data": {
      "text/plain": [
       "0.8637976655455818"
      ]
     },
     "execution_count": 60,
     "metadata": {},
     "output_type": "execute_result"
    }
   ],
   "source": [
    "r2_value = reg_r.best_score_\n",
    "r2_value"
   ]
  },
  {
   "cell_type": "code",
   "execution_count": 61,
   "metadata": {},
   "outputs": [
    {
     "data": {
      "text/html": [
       "<div>\n",
       "<style scoped>\n",
       "    .dataframe tbody tr th:only-of-type {\n",
       "        vertical-align: middle;\n",
       "    }\n",
       "\n",
       "    .dataframe tbody tr th {\n",
       "        vertical-align: top;\n",
       "    }\n",
       "\n",
       "    .dataframe thead th {\n",
       "        text-align: right;\n",
       "    }\n",
       "</style>\n",
       "<table border=\"1\" class=\"dataframe\">\n",
       "  <thead>\n",
       "    <tr style=\"text-align: right;\">\n",
       "      <th></th>\n",
       "      <th>Model Name</th>\n",
       "      <th>R2 Value</th>\n",
       "    </tr>\n",
       "  </thead>\n",
       "  <tbody>\n",
       "    <tr>\n",
       "      <th>0</th>\n",
       "      <td>Multiple Linear Regression</td>\n",
       "      <td>0.86</td>\n",
       "    </tr>\n",
       "    <tr>\n",
       "      <th>1</th>\n",
       "      <td>Polynomial Regression</td>\n",
       "      <td>0.52</td>\n",
       "    </tr>\n",
       "    <tr>\n",
       "      <th>2</th>\n",
       "      <td>Ridge Regression</td>\n",
       "      <td>0.85</td>\n",
       "    </tr>\n",
       "    <tr>\n",
       "      <th>3</th>\n",
       "      <td>Lasso Regression</td>\n",
       "      <td>0.86</td>\n",
       "    </tr>\n",
       "    <tr>\n",
       "      <th>4</th>\n",
       "      <td>Decision Tree Regressor</td>\n",
       "      <td>0.82</td>\n",
       "    </tr>\n",
       "    <tr>\n",
       "      <th>5</th>\n",
       "      <td>Random Forest Regressor</td>\n",
       "      <td>0.88</td>\n",
       "    </tr>\n",
       "    <tr>\n",
       "      <th>6</th>\n",
       "      <td>Boosting Regressor</td>\n",
       "      <td>0.89</td>\n",
       "    </tr>\n",
       "    <tr>\n",
       "      <th>7</th>\n",
       "      <td>XGBoost (gblinear) Regressor</td>\n",
       "      <td>0.89</td>\n",
       "    </tr>\n",
       "    <tr>\n",
       "      <th>8</th>\n",
       "      <td>XGBoost (gblinear) Regressor</td>\n",
       "      <td>0.89</td>\n",
       "    </tr>\n",
       "    <tr>\n",
       "      <th>9</th>\n",
       "      <td>Hypertuned Ridge Regressor</td>\n",
       "      <td>0.86</td>\n",
       "    </tr>\n",
       "  </tbody>\n",
       "</table>\n",
       "</div>"
      ],
      "text/plain": [
       "                     Model Name  R2 Value\n",
       "0    Multiple Linear Regression      0.86\n",
       "1         Polynomial Regression      0.52\n",
       "2              Ridge Regression      0.85\n",
       "3              Lasso Regression      0.86\n",
       "4       Decision Tree Regressor      0.82\n",
       "5       Random Forest Regressor      0.88\n",
       "6            Boosting Regressor      0.89\n",
       "7  XGBoost (gblinear) Regressor      0.89\n",
       "8  XGBoost (gblinear) Regressor      0.89\n",
       "9    Hypertuned Ridge Regressor      0.86"
      ]
     },
     "execution_count": 61,
     "metadata": {},
     "output_type": "execute_result"
    }
   ],
   "source": [
    "model_comp(model_name, round(r2_value,2))"
   ]
  },
  {
   "cell_type": "markdown",
   "metadata": {},
   "source": [
    "### Hyperparameter Tuning for Lasso Regression"
   ]
  },
  {
   "cell_type": "code",
   "execution_count": 63,
   "metadata": {},
   "outputs": [
    {
     "name": "stderr",
     "output_type": "stream",
     "text": [
      "C:\\Users\\kumar\\anaconda3\\lib\\site-packages\\sklearn\\linear_model\\_coordinate_descent.py:529: ConvergenceWarning: Objective did not converge. You might want to increase the number of iterations. Duality gap: 1089423346.4895787, tolerance: 6011195.075949145\n",
      "  model = cd_fast.enet_coordinate_descent(\n",
      "C:\\Users\\kumar\\anaconda3\\lib\\site-packages\\sklearn\\linear_model\\_coordinate_descent.py:529: ConvergenceWarning: Objective did not converge. You might want to increase the number of iterations. Duality gap: 1330510136.242371, tolerance: 5722184.60146116\n",
      "  model = cd_fast.enet_coordinate_descent(\n",
      "C:\\Users\\kumar\\anaconda3\\lib\\site-packages\\sklearn\\linear_model\\_coordinate_descent.py:529: ConvergenceWarning: Objective did not converge. You might want to increase the number of iterations. Duality gap: 928611272.2212231, tolerance: 4896242.86485592\n",
      "  model = cd_fast.enet_coordinate_descent(\n",
      "C:\\Users\\kumar\\anaconda3\\lib\\site-packages\\sklearn\\linear_model\\_coordinate_descent.py:529: ConvergenceWarning: Objective did not converge. You might want to increase the number of iterations. Duality gap: 1282251704.036311, tolerance: 5429619.896823078\n",
      "  model = cd_fast.enet_coordinate_descent(\n",
      "C:\\Users\\kumar\\anaconda3\\lib\\site-packages\\sklearn\\linear_model\\_coordinate_descent.py:529: ConvergenceWarning: Objective did not converge. You might want to increase the number of iterations. Duality gap: 1428200650.8314364, tolerance: 4060337.191979415\n",
      "  model = cd_fast.enet_coordinate_descent(\n"
     ]
    }
   ],
   "source": [
    "from sklearn.model_selection import GridSearchCV\n",
    "from sklearn.linear_model import Lasso\n",
    "\n",
    "ridge = Lasso()\n",
    "parameters = {'alpha':[1e-15,1e-10,1e-8,1e-6,1e-4,1e-2,1,5,10,20,30,40,45,50,55,60,70,80,100]}\n",
    "reg_l=GridSearchCV(ridge,parameters,cv = 5)\n",
    "reg_l.fit(X_train,y_train)\n",
    "model_name = 'Hypertuned Lasso Regressor'"
   ]
  },
  {
   "cell_type": "code",
   "execution_count": 64,
   "metadata": {},
   "outputs": [
    {
     "name": "stdout",
     "output_type": "stream",
     "text": [
      "Lasso(alpha=100)\n",
      "0.8722262575603971\n"
     ]
    }
   ],
   "source": [
    "print(reg_l.best_estimator_)\n",
    "print(reg_l.best_score_)"
   ]
  },
  {
   "cell_type": "code",
   "execution_count": 65,
   "metadata": {},
   "outputs": [
    {
     "data": {
      "text/plain": [
       "0.8722262575603971"
      ]
     },
     "execution_count": 65,
     "metadata": {},
     "output_type": "execute_result"
    }
   ],
   "source": [
    "r2_value = reg_l.best_score_\n",
    "r2_value"
   ]
  },
  {
   "cell_type": "code",
   "execution_count": 66,
   "metadata": {},
   "outputs": [
    {
     "data": {
      "text/html": [
       "<div>\n",
       "<style scoped>\n",
       "    .dataframe tbody tr th:only-of-type {\n",
       "        vertical-align: middle;\n",
       "    }\n",
       "\n",
       "    .dataframe tbody tr th {\n",
       "        vertical-align: top;\n",
       "    }\n",
       "\n",
       "    .dataframe thead th {\n",
       "        text-align: right;\n",
       "    }\n",
       "</style>\n",
       "<table border=\"1\" class=\"dataframe\">\n",
       "  <thead>\n",
       "    <tr style=\"text-align: right;\">\n",
       "      <th></th>\n",
       "      <th>Model Name</th>\n",
       "      <th>R2 Value</th>\n",
       "    </tr>\n",
       "  </thead>\n",
       "  <tbody>\n",
       "    <tr>\n",
       "      <th>0</th>\n",
       "      <td>Multiple Linear Regression</td>\n",
       "      <td>0.86</td>\n",
       "    </tr>\n",
       "    <tr>\n",
       "      <th>1</th>\n",
       "      <td>Polynomial Regression</td>\n",
       "      <td>0.52</td>\n",
       "    </tr>\n",
       "    <tr>\n",
       "      <th>2</th>\n",
       "      <td>Ridge Regression</td>\n",
       "      <td>0.85</td>\n",
       "    </tr>\n",
       "    <tr>\n",
       "      <th>3</th>\n",
       "      <td>Lasso Regression</td>\n",
       "      <td>0.86</td>\n",
       "    </tr>\n",
       "    <tr>\n",
       "      <th>4</th>\n",
       "      <td>Decision Tree Regressor</td>\n",
       "      <td>0.82</td>\n",
       "    </tr>\n",
       "    <tr>\n",
       "      <th>5</th>\n",
       "      <td>Random Forest Regressor</td>\n",
       "      <td>0.88</td>\n",
       "    </tr>\n",
       "    <tr>\n",
       "      <th>6</th>\n",
       "      <td>Boosting Regressor</td>\n",
       "      <td>0.89</td>\n",
       "    </tr>\n",
       "    <tr>\n",
       "      <th>7</th>\n",
       "      <td>XGBoost (gblinear) Regressor</td>\n",
       "      <td>0.89</td>\n",
       "    </tr>\n",
       "    <tr>\n",
       "      <th>8</th>\n",
       "      <td>XGBoost (gblinear) Regressor</td>\n",
       "      <td>0.89</td>\n",
       "    </tr>\n",
       "    <tr>\n",
       "      <th>9</th>\n",
       "      <td>Hypertuned Ridge Regressor</td>\n",
       "      <td>0.86</td>\n",
       "    </tr>\n",
       "    <tr>\n",
       "      <th>10</th>\n",
       "      <td>Hypertuned Lasso Regressor</td>\n",
       "      <td>0.87</td>\n",
       "    </tr>\n",
       "  </tbody>\n",
       "</table>\n",
       "</div>"
      ],
      "text/plain": [
       "                      Model Name  R2 Value\n",
       "0     Multiple Linear Regression      0.86\n",
       "1          Polynomial Regression      0.52\n",
       "2               Ridge Regression      0.85\n",
       "3               Lasso Regression      0.86\n",
       "4        Decision Tree Regressor      0.82\n",
       "5        Random Forest Regressor      0.88\n",
       "6             Boosting Regressor      0.89\n",
       "7   XGBoost (gblinear) Regressor      0.89\n",
       "8   XGBoost (gblinear) Regressor      0.89\n",
       "9     Hypertuned Ridge Regressor      0.86\n",
       "10    Hypertuned Lasso Regressor      0.87"
      ]
     },
     "execution_count": 66,
     "metadata": {},
     "output_type": "execute_result"
    }
   ],
   "source": [
    "model_comp(model_name, round(r2_value,2))"
   ]
  },
  {
   "cell_type": "markdown",
   "metadata": {},
   "source": [
    "## Hyperparameter Tuning for SVM Regressor"
   ]
  },
  {
   "cell_type": "code",
   "execution_count": 67,
   "metadata": {},
   "outputs": [],
   "source": [
    "from sklearn.model_selection import RandomizedSearchCV, GridSearchCV\n",
    "params = {'kernel': ['linear','rbf','sigmoid'],\n",
    "         'gamma': [1, 0.1, 0.01, 0.001, 0.0001],\n",
    "         'C': [0.1, 1, 10, 100, 1000],\n",
    "         'epsilon': [1, 0.2, 0.1, 0.01, 0.001, 0.0001]}\n",
    "rand_search = RandomizedSearchCV(svr_reg, param_distributions=params, n_jobs=-1, cv=11)\n",
    "rand_search.fit(X_train, y_train)\n",
    "rand_search.best_score_\n",
    "model_name = 'Hypertuned SVM Regressor'"
   ]
  },
  {
   "cell_type": "code",
   "execution_count": 68,
   "metadata": {},
   "outputs": [
    {
     "data": {
      "text/plain": [
       "SVR(C=10, epsilon=0.001, gamma=1, kernel='linear')"
      ]
     },
     "execution_count": 68,
     "metadata": {},
     "output_type": "execute_result"
    }
   ],
   "source": [
    "rand_search.best_estimator_\n"
   ]
  },
  {
   "cell_type": "code",
   "execution_count": 70,
   "metadata": {},
   "outputs": [],
   "source": [
    "# test_model()"
   ]
  },
  {
   "cell_type": "code",
   "execution_count": 71,
   "metadata": {},
   "outputs": [
    {
     "data": {
      "text/plain": [
       "-0.09650133906952393"
      ]
     },
     "execution_count": 71,
     "metadata": {},
     "output_type": "execute_result"
    }
   ],
   "source": [
    "svr_reg= SVR(C=100, cache_size=200, coef0=0.0, degree=3, epsilon=0.001, gamma=0.001,kernel='linear', max_iter=-1, shrinking=True, tol=0.001, verbose=False)\n",
    "test_model(svr_reg)"
   ]
  },
  {
   "cell_type": "code",
   "execution_count": 72,
   "metadata": {},
   "outputs": [
    {
     "name": "stderr",
     "output_type": "stream",
     "text": [
      "<ipython-input-72-179e721a1b38>:2: RuntimeWarning: overflow encountered in exp\n",
      "  y_pred = np.exp(svr_reg.predict(X_test)).round(2)\n"
     ]
    }
   ],
   "source": [
    "svr_reg.fit(X_train,y_train)\n",
    "y_pred = np.exp(svr_reg.predict(X_test)).round(2)"
   ]
  },
  {
   "cell_type": "code",
   "execution_count": 73,
   "metadata": {},
   "outputs": [
    {
     "data": {
      "text/plain": [
       "array([inf, inf, inf, inf, inf, inf, inf, inf, inf, inf])"
      ]
     },
     "execution_count": 73,
     "metadata": {},
     "output_type": "execute_result"
    }
   ],
   "source": [
    "y_pred"
   ]
  },
  {
   "cell_type": "code",
   "execution_count": 74,
   "metadata": {},
   "outputs": [
    {
     "data": {
      "text/html": [
       "<div>\n",
       "<style scoped>\n",
       "    .dataframe tbody tr th:only-of-type {\n",
       "        vertical-align: middle;\n",
       "    }\n",
       "\n",
       "    .dataframe tbody tr th {\n",
       "        vertical-align: top;\n",
       "    }\n",
       "\n",
       "    .dataframe thead th {\n",
       "        text-align: right;\n",
       "    }\n",
       "</style>\n",
       "<table border=\"1\" class=\"dataframe\">\n",
       "  <thead>\n",
       "    <tr style=\"text-align: right;\">\n",
       "      <th></th>\n",
       "      <th>Model Name</th>\n",
       "      <th>R2 Value</th>\n",
       "    </tr>\n",
       "  </thead>\n",
       "  <tbody>\n",
       "    <tr>\n",
       "      <th>0</th>\n",
       "      <td>Multiple Linear Regression</td>\n",
       "      <td>0.86</td>\n",
       "    </tr>\n",
       "    <tr>\n",
       "      <th>1</th>\n",
       "      <td>Polynomial Regression</td>\n",
       "      <td>0.52</td>\n",
       "    </tr>\n",
       "    <tr>\n",
       "      <th>2</th>\n",
       "      <td>Ridge Regression</td>\n",
       "      <td>0.85</td>\n",
       "    </tr>\n",
       "    <tr>\n",
       "      <th>3</th>\n",
       "      <td>Lasso Regression</td>\n",
       "      <td>0.86</td>\n",
       "    </tr>\n",
       "    <tr>\n",
       "      <th>4</th>\n",
       "      <td>Decision Tree Regressor</td>\n",
       "      <td>0.82</td>\n",
       "    </tr>\n",
       "    <tr>\n",
       "      <th>5</th>\n",
       "      <td>Random Forest Regressor</td>\n",
       "      <td>0.88</td>\n",
       "    </tr>\n",
       "    <tr>\n",
       "      <th>6</th>\n",
       "      <td>Boosting Regressor</td>\n",
       "      <td>0.89</td>\n",
       "    </tr>\n",
       "    <tr>\n",
       "      <th>7</th>\n",
       "      <td>XGBoost (gblinear) Regressor</td>\n",
       "      <td>0.89</td>\n",
       "    </tr>\n",
       "    <tr>\n",
       "      <th>8</th>\n",
       "      <td>XGBoost (gblinear) Regressor</td>\n",
       "      <td>0.89</td>\n",
       "    </tr>\n",
       "    <tr>\n",
       "      <th>9</th>\n",
       "      <td>Hypertuned Ridge Regressor</td>\n",
       "      <td>0.86</td>\n",
       "    </tr>\n",
       "    <tr>\n",
       "      <th>10</th>\n",
       "      <td>Hypertuned Lasso Regressor</td>\n",
       "      <td>0.87</td>\n",
       "    </tr>\n",
       "    <tr>\n",
       "      <th>11</th>\n",
       "      <td>Hypertuned SVM Regressor</td>\n",
       "      <td>0.87</td>\n",
       "    </tr>\n",
       "  </tbody>\n",
       "</table>\n",
       "</div>"
      ],
      "text/plain": [
       "                      Model Name  R2 Value\n",
       "0     Multiple Linear Regression      0.86\n",
       "1          Polynomial Regression      0.52\n",
       "2               Ridge Regression      0.85\n",
       "3               Lasso Regression      0.86\n",
       "4        Decision Tree Regressor      0.82\n",
       "5        Random Forest Regressor      0.88\n",
       "6             Boosting Regressor      0.89\n",
       "7   XGBoost (gblinear) Regressor      0.89\n",
       "8   XGBoost (gblinear) Regressor      0.89\n",
       "9     Hypertuned Ridge Regressor      0.86\n",
       "10    Hypertuned Lasso Regressor      0.87\n",
       "11      Hypertuned SVM Regressor      0.87"
      ]
     },
     "execution_count": 74,
     "metadata": {},
     "output_type": "execute_result"
    }
   ],
   "source": [
    "model_comp(model_name, round(r2_value,2))"
   ]
  },
  {
   "cell_type": "markdown",
   "metadata": {},
   "source": [
    "## Hyperparameter Tuning for XGBoost Regressor"
   ]
  },
  {
   "cell_type": "code",
   "execution_count": 75,
   "metadata": {},
   "outputs": [
    {
     "name": "stdout",
     "output_type": "stream",
     "text": [
      "Fitting 11 folds for each of 100 candidates, totalling 1100 fits\n"
     ]
    },
    {
     "name": "stderr",
     "output_type": "stream",
     "text": [
      "[Parallel(n_jobs=-1)]: Using backend LokyBackend with 8 concurrent workers.\n",
      "[Parallel(n_jobs=-1)]: Done   1 tasks      | elapsed:   10.2s\n",
      "[Parallel(n_jobs=-1)]: Done   2 tasks      | elapsed:   10.9s\n",
      "[Parallel(n_jobs=-1)]: Done   3 tasks      | elapsed:   11.4s\n",
      "[Parallel(n_jobs=-1)]: Done   4 tasks      | elapsed:   11.9s\n",
      "[Parallel(n_jobs=-1)]: Done   5 tasks      | elapsed:   12.1s\n",
      "[Parallel(n_jobs=-1)]: Done   6 tasks      | elapsed:   12.9s\n",
      "[Parallel(n_jobs=-1)]: Done   7 tasks      | elapsed:   13.1s\n",
      "[Parallel(n_jobs=-1)]: Done   8 tasks      | elapsed:   13.6s\n",
      "[Parallel(n_jobs=-1)]: Done   9 tasks      | elapsed:   14.8s\n",
      "[Parallel(n_jobs=-1)]: Done  10 tasks      | elapsed:   15.0s\n",
      "[Parallel(n_jobs=-1)]: Done  11 tasks      | elapsed:   15.3s\n",
      "[Parallel(n_jobs=-1)]: Done  12 tasks      | elapsed:   15.8s\n",
      "[Parallel(n_jobs=-1)]: Done  13 tasks      | elapsed:   16.1s\n",
      "[Parallel(n_jobs=-1)]: Done  14 tasks      | elapsed:   17.5s\n",
      "[Parallel(n_jobs=-1)]: Done  15 tasks      | elapsed:   17.6s\n",
      "[Parallel(n_jobs=-1)]: Done  16 tasks      | elapsed:   18.3s\n",
      "[Parallel(n_jobs=-1)]: Done  17 tasks      | elapsed:   18.7s\n",
      "[Parallel(n_jobs=-1)]: Done  18 tasks      | elapsed:   18.9s\n",
      "[Parallel(n_jobs=-1)]: Done  19 tasks      | elapsed:   20.3s\n",
      "[Parallel(n_jobs=-1)]: Done  20 tasks      | elapsed:   20.5s\n",
      "[Parallel(n_jobs=-1)]: Done  21 tasks      | elapsed:   21.0s\n",
      "[Parallel(n_jobs=-1)]: Done  22 tasks      | elapsed:   21.3s\n",
      "[Parallel(n_jobs=-1)]: Done  23 tasks      | elapsed:   22.1s\n",
      "[Parallel(n_jobs=-1)]: Done  24 tasks      | elapsed:   22.4s\n",
      "[Parallel(n_jobs=-1)]: Done  25 tasks      | elapsed:   22.5s\n",
      "[Parallel(n_jobs=-1)]: Done  26 tasks      | elapsed:   22.6s\n",
      "[Parallel(n_jobs=-1)]: Done  27 tasks      | elapsed:   23.8s\n",
      "[Parallel(n_jobs=-1)]: Done  28 tasks      | elapsed:   24.1s\n",
      "[Parallel(n_jobs=-1)]: Done  29 tasks      | elapsed:   24.6s\n",
      "[Parallel(n_jobs=-1)]: Done  30 tasks      | elapsed:   24.6s\n",
      "[Parallel(n_jobs=-1)]: Done  31 tasks      | elapsed:   24.9s\n",
      "[Parallel(n_jobs=-1)]: Done  32 tasks      | elapsed:   25.4s\n",
      "[Parallel(n_jobs=-1)]: Done  33 tasks      | elapsed:   25.4s\n",
      "[Parallel(n_jobs=-1)]: Done  34 tasks      | elapsed:   25.6s\n",
      "[Parallel(n_jobs=-1)]: Done  35 tasks      | elapsed:   26.1s\n",
      "[Parallel(n_jobs=-1)]: Done  36 tasks      | elapsed:   26.4s\n",
      "[Parallel(n_jobs=-1)]: Done  37 tasks      | elapsed:   26.7s\n",
      "[Parallel(n_jobs=-1)]: Done  38 tasks      | elapsed:   26.8s\n",
      "[Parallel(n_jobs=-1)]: Done  39 tasks      | elapsed:   27.0s\n",
      "[Parallel(n_jobs=-1)]: Done  40 tasks      | elapsed:   27.3s\n",
      "[Parallel(n_jobs=-1)]: Done  41 tasks      | elapsed:   27.3s\n",
      "[Parallel(n_jobs=-1)]: Done  42 tasks      | elapsed:   27.5s\n",
      "[Parallel(n_jobs=-1)]: Done  43 tasks      | elapsed:   28.3s\n",
      "[Parallel(n_jobs=-1)]: Done  44 tasks      | elapsed:   28.4s\n",
      "[Parallel(n_jobs=-1)]: Done  45 tasks      | elapsed:   28.5s\n",
      "[Parallel(n_jobs=-1)]: Done  46 tasks      | elapsed:   28.6s\n",
      "[Parallel(n_jobs=-1)]: Done  47 tasks      | elapsed:   28.8s\n",
      "[Parallel(n_jobs=-1)]: Done  48 tasks      | elapsed:   29.0s\n",
      "[Parallel(n_jobs=-1)]: Done  49 tasks      | elapsed:   29.0s\n",
      "[Parallel(n_jobs=-1)]: Done  50 tasks      | elapsed:   29.2s\n",
      "[Parallel(n_jobs=-1)]: Done  51 tasks      | elapsed:   29.8s\n",
      "[Parallel(n_jobs=-1)]: Done  52 tasks      | elapsed:   29.9s\n",
      "[Parallel(n_jobs=-1)]: Done  53 tasks      | elapsed:   30.0s\n",
      "[Parallel(n_jobs=-1)]: Done  54 tasks      | elapsed:   30.1s\n",
      "[Parallel(n_jobs=-1)]: Done  55 tasks      | elapsed:   30.2s\n",
      "[Parallel(n_jobs=-1)]: Done  56 tasks      | elapsed:   37.6s\n",
      "[Parallel(n_jobs=-1)]: Done  57 tasks      | elapsed:   37.8s\n",
      "[Parallel(n_jobs=-1)]: Done  58 tasks      | elapsed:   39.7s\n",
      "[Parallel(n_jobs=-1)]: Done  59 tasks      | elapsed:   40.7s\n",
      "[Parallel(n_jobs=-1)]: Done  60 tasks      | elapsed:   41.4s\n",
      "[Parallel(n_jobs=-1)]: Done  61 tasks      | elapsed:   41.6s\n",
      "[Parallel(n_jobs=-1)]: Done  62 tasks      | elapsed:   41.6s\n",
      "[Parallel(n_jobs=-1)]: Done  63 tasks      | elapsed:   42.1s\n",
      "[Parallel(n_jobs=-1)]: Done  64 tasks      | elapsed:   42.2s\n",
      "[Parallel(n_jobs=-1)]: Done  65 tasks      | elapsed:   42.3s\n",
      "[Parallel(n_jobs=-1)]: Done  66 tasks      | elapsed:   42.4s\n",
      "[Parallel(n_jobs=-1)]: Done  67 tasks      | elapsed:   42.7s\n",
      "[Parallel(n_jobs=-1)]: Done  68 tasks      | elapsed:   42.8s\n",
      "[Parallel(n_jobs=-1)]: Done  69 tasks      | elapsed:   42.9s\n",
      "[Parallel(n_jobs=-1)]: Done  70 tasks      | elapsed:   43.1s\n",
      "[Parallel(n_jobs=-1)]: Done  71 tasks      | elapsed:   43.4s\n",
      "[Parallel(n_jobs=-1)]: Done  72 tasks      | elapsed:   43.5s\n",
      "[Parallel(n_jobs=-1)]: Done  73 tasks      | elapsed:   43.6s\n",
      "[Parallel(n_jobs=-1)]: Done  74 tasks      | elapsed:   43.6s\n",
      "[Parallel(n_jobs=-1)]: Done  75 tasks      | elapsed:   44.5s\n",
      "[Parallel(n_jobs=-1)]: Done  76 tasks      | elapsed:   44.7s\n",
      "[Parallel(n_jobs=-1)]: Done  77 tasks      | elapsed:   44.7s\n",
      "[Parallel(n_jobs=-1)]: Done  78 tasks      | elapsed:   44.8s\n",
      "[Parallel(n_jobs=-1)]: Done  79 tasks      | elapsed:   44.8s\n",
      "[Parallel(n_jobs=-1)]: Done  80 tasks      | elapsed:   45.7s\n",
      "[Parallel(n_jobs=-1)]: Done  81 tasks      | elapsed:   46.0s\n",
      "[Parallel(n_jobs=-1)]: Done  82 tasks      | elapsed:   46.1s\n",
      "[Parallel(n_jobs=-1)]: Done  83 tasks      | elapsed:   46.2s\n",
      "[Parallel(n_jobs=-1)]: Done  84 tasks      | elapsed:   46.2s\n",
      "[Parallel(n_jobs=-1)]: Done  85 tasks      | elapsed:   46.9s\n",
      "[Parallel(n_jobs=-1)]: Done  86 tasks      | elapsed:   46.9s\n",
      "[Parallel(n_jobs=-1)]: Done  87 tasks      | elapsed:   47.1s\n",
      "[Parallel(n_jobs=-1)]: Done  88 tasks      | elapsed:   47.1s\n",
      "[Parallel(n_jobs=-1)]: Done  89 tasks      | elapsed:   47.2s\n",
      "[Parallel(n_jobs=-1)]: Done  90 tasks      | elapsed:   47.8s\n",
      "[Parallel(n_jobs=-1)]: Done  91 tasks      | elapsed:   47.8s\n",
      "[Parallel(n_jobs=-1)]: Done  92 tasks      | elapsed:   47.9s\n",
      "[Parallel(n_jobs=-1)]: Done  93 tasks      | elapsed:   48.0s\n",
      "[Parallel(n_jobs=-1)]: Done  94 tasks      | elapsed:   48.1s\n",
      "[Parallel(n_jobs=-1)]: Done  95 tasks      | elapsed:   48.9s\n",
      "[Parallel(n_jobs=-1)]: Done  96 tasks      | elapsed:   48.9s\n",
      "[Parallel(n_jobs=-1)]: Done  97 tasks      | elapsed:   50.0s\n",
      "[Parallel(n_jobs=-1)]: Done  98 tasks      | elapsed:   51.5s\n",
      "[Parallel(n_jobs=-1)]: Done  99 tasks      | elapsed:   52.5s\n",
      "[Parallel(n_jobs=-1)]: Done 100 tasks      | elapsed:   55.4s\n",
      "[Parallel(n_jobs=-1)]: Done 101 tasks      | elapsed:   55.4s\n",
      "[Parallel(n_jobs=-1)]: Done 102 tasks      | elapsed:   56.9s\n",
      "[Parallel(n_jobs=-1)]: Done 103 tasks      | elapsed:   57.5s\n",
      "[Parallel(n_jobs=-1)]: Done 104 tasks      | elapsed:   58.8s\n",
      "[Parallel(n_jobs=-1)]: Done 105 tasks      | elapsed:   59.1s\n",
      "[Parallel(n_jobs=-1)]: Done 106 tasks      | elapsed:  1.0min\n",
      "[Parallel(n_jobs=-1)]: Done 107 tasks      | elapsed:  1.0min\n",
      "[Parallel(n_jobs=-1)]: Done 108 tasks      | elapsed:  1.1min\n",
      "[Parallel(n_jobs=-1)]: Done 109 tasks      | elapsed:  1.1min\n",
      "[Parallel(n_jobs=-1)]: Done 110 tasks      | elapsed:  1.1min\n",
      "[Parallel(n_jobs=-1)]: Done 111 tasks      | elapsed:  1.1min\n",
      "[Parallel(n_jobs=-1)]: Done 112 tasks      | elapsed:  1.1min\n",
      "[Parallel(n_jobs=-1)]: Done 113 tasks      | elapsed:  1.1min\n",
      "[Parallel(n_jobs=-1)]: Done 114 tasks      | elapsed:  1.1min\n",
      "[Parallel(n_jobs=-1)]: Done 115 tasks      | elapsed:  1.1min\n",
      "[Parallel(n_jobs=-1)]: Done 116 tasks      | elapsed:  1.2min\n",
      "[Parallel(n_jobs=-1)]: Done 117 tasks      | elapsed:  1.2min\n",
      "[Parallel(n_jobs=-1)]: Done 118 tasks      | elapsed:  1.2min\n",
      "[Parallel(n_jobs=-1)]: Done 119 tasks      | elapsed:  1.2min\n",
      "[Parallel(n_jobs=-1)]: Done 120 tasks      | elapsed:  1.2min\n",
      "[Parallel(n_jobs=-1)]: Done 121 tasks      | elapsed:  1.2min\n",
      "[Parallel(n_jobs=-1)]: Done 122 tasks      | elapsed:  1.2min\n",
      "[Parallel(n_jobs=-1)]: Done 123 tasks      | elapsed:  1.2min\n",
      "[Parallel(n_jobs=-1)]: Done 124 tasks      | elapsed:  1.2min\n",
      "[Parallel(n_jobs=-1)]: Done 125 tasks      | elapsed:  1.2min\n",
      "[Parallel(n_jobs=-1)]: Done 126 tasks      | elapsed:  1.2min\n",
      "[Parallel(n_jobs=-1)]: Done 127 tasks      | elapsed:  1.2min\n",
      "[Parallel(n_jobs=-1)]: Done 128 tasks      | elapsed:  1.2min\n",
      "[Parallel(n_jobs=-1)]: Done 129 tasks      | elapsed:  1.2min\n",
      "[Parallel(n_jobs=-1)]: Done 130 tasks      | elapsed:  1.2min\n",
      "[Parallel(n_jobs=-1)]: Done 131 tasks      | elapsed:  1.2min\n"
     ]
    },
    {
     "name": "stderr",
     "output_type": "stream",
     "text": [
      "[Parallel(n_jobs=-1)]: Done 132 tasks      | elapsed:  1.2min\n",
      "[Parallel(n_jobs=-1)]: Done 133 tasks      | elapsed:  1.3min\n",
      "[Parallel(n_jobs=-1)]: Done 134 tasks      | elapsed:  1.3min\n",
      "[Parallel(n_jobs=-1)]: Done 135 tasks      | elapsed:  1.3min\n",
      "[Parallel(n_jobs=-1)]: Done 136 tasks      | elapsed:  1.3min\n",
      "[Parallel(n_jobs=-1)]: Done 137 tasks      | elapsed:  1.4min\n",
      "[Parallel(n_jobs=-1)]: Done 138 tasks      | elapsed:  1.4min\n",
      "[Parallel(n_jobs=-1)]: Done 139 tasks      | elapsed:  1.4min\n",
      "[Parallel(n_jobs=-1)]: Done 140 tasks      | elapsed:  1.4min\n",
      "[Parallel(n_jobs=-1)]: Done 141 tasks      | elapsed:  1.4min\n",
      "[Parallel(n_jobs=-1)]: Done 142 tasks      | elapsed:  1.4min\n",
      "[Parallel(n_jobs=-1)]: Done 143 tasks      | elapsed:  1.4min\n",
      "[Parallel(n_jobs=-1)]: Done 144 tasks      | elapsed:  1.4min\n",
      "[Parallel(n_jobs=-1)]: Done 145 tasks      | elapsed:  1.4min\n",
      "[Parallel(n_jobs=-1)]: Done 146 tasks      | elapsed:  1.4min\n",
      "[Parallel(n_jobs=-1)]: Done 147 tasks      | elapsed:  1.4min\n",
      "[Parallel(n_jobs=-1)]: Done 148 tasks      | elapsed:  1.4min\n",
      "[Parallel(n_jobs=-1)]: Done 149 tasks      | elapsed:  1.4min\n",
      "[Parallel(n_jobs=-1)]: Done 150 tasks      | elapsed:  1.4min\n",
      "[Parallel(n_jobs=-1)]: Done 151 tasks      | elapsed:  1.4min\n",
      "[Parallel(n_jobs=-1)]: Done 152 tasks      | elapsed:  1.4min\n",
      "[Parallel(n_jobs=-1)]: Done 153 tasks      | elapsed:  1.4min\n",
      "[Parallel(n_jobs=-1)]: Done 154 tasks      | elapsed:  1.5min\n",
      "[Parallel(n_jobs=-1)]: Done 155 tasks      | elapsed:  1.5min\n",
      "[Parallel(n_jobs=-1)]: Done 156 tasks      | elapsed:  1.5min\n",
      "[Parallel(n_jobs=-1)]: Done 157 tasks      | elapsed:  1.5min\n",
      "[Parallel(n_jobs=-1)]: Done 158 tasks      | elapsed:  1.5min\n",
      "[Parallel(n_jobs=-1)]: Done 159 tasks      | elapsed:  1.6min\n",
      "[Parallel(n_jobs=-1)]: Done 160 tasks      | elapsed:  1.6min\n",
      "[Parallel(n_jobs=-1)]: Done 161 tasks      | elapsed:  1.6min\n",
      "[Parallel(n_jobs=-1)]: Done 162 tasks      | elapsed:  1.6min\n",
      "[Parallel(n_jobs=-1)]: Done 163 tasks      | elapsed:  1.6min\n",
      "[Parallel(n_jobs=-1)]: Done 164 tasks      | elapsed:  1.6min\n",
      "[Parallel(n_jobs=-1)]: Done 165 tasks      | elapsed:  1.6min\n",
      "[Parallel(n_jobs=-1)]: Done 166 tasks      | elapsed:  1.6min\n",
      "[Parallel(n_jobs=-1)]: Done 167 tasks      | elapsed:  1.6min\n",
      "[Parallel(n_jobs=-1)]: Done 168 tasks      | elapsed:  1.6min\n",
      "[Parallel(n_jobs=-1)]: Done 169 tasks      | elapsed:  1.6min\n",
      "[Parallel(n_jobs=-1)]: Done 170 tasks      | elapsed:  1.6min\n",
      "[Parallel(n_jobs=-1)]: Done 171 tasks      | elapsed:  1.6min\n",
      "[Parallel(n_jobs=-1)]: Done 172 tasks      | elapsed:  1.6min\n",
      "[Parallel(n_jobs=-1)]: Done 173 tasks      | elapsed:  1.6min\n",
      "[Parallel(n_jobs=-1)]: Done 174 tasks      | elapsed:  1.6min\n",
      "[Parallel(n_jobs=-1)]: Done 175 tasks      | elapsed:  1.6min\n",
      "[Parallel(n_jobs=-1)]: Done 176 tasks      | elapsed:  1.6min\n",
      "[Parallel(n_jobs=-1)]: Done 177 tasks      | elapsed:  1.6min\n",
      "[Parallel(n_jobs=-1)]: Done 178 tasks      | elapsed:  1.6min\n",
      "[Parallel(n_jobs=-1)]: Done 179 tasks      | elapsed:  1.7min\n",
      "[Parallel(n_jobs=-1)]: Done 180 tasks      | elapsed:  1.7min\n",
      "[Parallel(n_jobs=-1)]: Done 181 tasks      | elapsed:  1.7min\n",
      "[Parallel(n_jobs=-1)]: Done 182 tasks      | elapsed:  1.7min\n",
      "[Parallel(n_jobs=-1)]: Done 183 tasks      | elapsed:  1.7min\n",
      "[Parallel(n_jobs=-1)]: Done 184 tasks      | elapsed:  1.7min\n",
      "[Parallel(n_jobs=-1)]: Done 185 tasks      | elapsed:  1.7min\n",
      "[Parallel(n_jobs=-1)]: Done 186 tasks      | elapsed:  1.7min\n",
      "[Parallel(n_jobs=-1)]: Done 187 tasks      | elapsed:  1.7min\n",
      "[Parallel(n_jobs=-1)]: Done 188 tasks      | elapsed:  1.8min\n",
      "[Parallel(n_jobs=-1)]: Done 189 tasks      | elapsed:  1.8min\n",
      "[Parallel(n_jobs=-1)]: Done 190 tasks      | elapsed:  1.8min\n",
      "[Parallel(n_jobs=-1)]: Done 191 tasks      | elapsed:  1.8min\n",
      "[Parallel(n_jobs=-1)]: Done 192 tasks      | elapsed:  1.8min\n",
      "[Parallel(n_jobs=-1)]: Done 193 tasks      | elapsed:  1.8min\n",
      "[Parallel(n_jobs=-1)]: Done 194 tasks      | elapsed:  1.8min\n",
      "[Parallel(n_jobs=-1)]: Done 195 tasks      | elapsed:  1.8min\n",
      "[Parallel(n_jobs=-1)]: Done 196 tasks      | elapsed:  1.8min\n",
      "[Parallel(n_jobs=-1)]: Done 197 tasks      | elapsed:  1.8min\n",
      "[Parallel(n_jobs=-1)]: Done 198 tasks      | elapsed:  1.8min\n",
      "[Parallel(n_jobs=-1)]: Done 199 tasks      | elapsed:  1.8min\n",
      "[Parallel(n_jobs=-1)]: Done 200 tasks      | elapsed:  1.9min\n",
      "[Parallel(n_jobs=-1)]: Done 201 tasks      | elapsed:  1.9min\n",
      "[Parallel(n_jobs=-1)]: Done 202 tasks      | elapsed:  1.9min\n",
      "[Parallel(n_jobs=-1)]: Done 203 tasks      | elapsed:  1.9min\n",
      "[Parallel(n_jobs=-1)]: Done 204 tasks      | elapsed:  1.9min\n",
      "[Parallel(n_jobs=-1)]: Done 205 tasks      | elapsed:  1.9min\n",
      "[Parallel(n_jobs=-1)]: Done 206 tasks      | elapsed:  1.9min\n",
      "[Parallel(n_jobs=-1)]: Done 207 tasks      | elapsed:  1.9min\n",
      "[Parallel(n_jobs=-1)]: Done 208 tasks      | elapsed:  1.9min\n",
      "[Parallel(n_jobs=-1)]: Done 209 tasks      | elapsed:  1.9min\n",
      "[Parallel(n_jobs=-1)]: Done 210 tasks      | elapsed:  1.9min\n",
      "[Parallel(n_jobs=-1)]: Done 211 tasks      | elapsed:  1.9min\n",
      "[Parallel(n_jobs=-1)]: Done 212 tasks      | elapsed:  1.9min\n",
      "[Parallel(n_jobs=-1)]: Done 213 tasks      | elapsed:  1.9min\n",
      "[Parallel(n_jobs=-1)]: Done 214 tasks      | elapsed:  1.9min\n",
      "[Parallel(n_jobs=-1)]: Done 215 tasks      | elapsed:  2.0min\n",
      "[Parallel(n_jobs=-1)]: Done 216 tasks      | elapsed:  2.0min\n",
      "[Parallel(n_jobs=-1)]: Done 217 tasks      | elapsed:  2.0min\n",
      "[Parallel(n_jobs=-1)]: Done 218 tasks      | elapsed:  2.0min\n",
      "[Parallel(n_jobs=-1)]: Done 219 tasks      | elapsed:  2.0min\n",
      "[Parallel(n_jobs=-1)]: Done 220 tasks      | elapsed:  2.0min\n",
      "[Parallel(n_jobs=-1)]: Done 221 tasks      | elapsed:  2.1min\n",
      "[Parallel(n_jobs=-1)]: Done 222 tasks      | elapsed:  2.1min\n",
      "[Parallel(n_jobs=-1)]: Done 223 tasks      | elapsed:  2.1min\n",
      "[Parallel(n_jobs=-1)]: Done 224 tasks      | elapsed:  2.1min\n",
      "[Parallel(n_jobs=-1)]: Done 225 tasks      | elapsed:  2.2min\n",
      "[Parallel(n_jobs=-1)]: Done 226 tasks      | elapsed:  2.2min\n",
      "[Parallel(n_jobs=-1)]: Done 227 tasks      | elapsed:  2.2min\n",
      "[Parallel(n_jobs=-1)]: Done 228 tasks      | elapsed:  2.2min\n",
      "[Parallel(n_jobs=-1)]: Done 229 tasks      | elapsed:  2.3min\n",
      "[Parallel(n_jobs=-1)]: Done 230 tasks      | elapsed:  2.3min\n",
      "[Parallel(n_jobs=-1)]: Done 231 tasks      | elapsed:  2.3min\n",
      "[Parallel(n_jobs=-1)]: Done 232 tasks      | elapsed:  2.4min\n",
      "[Parallel(n_jobs=-1)]: Done 233 tasks      | elapsed:  2.4min\n",
      "[Parallel(n_jobs=-1)]: Done 234 tasks      | elapsed:  2.4min\n",
      "[Parallel(n_jobs=-1)]: Done 235 tasks      | elapsed:  2.4min\n",
      "[Parallel(n_jobs=-1)]: Done 236 tasks      | elapsed:  2.4min\n",
      "[Parallel(n_jobs=-1)]: Done 237 tasks      | elapsed:  2.5min\n",
      "[Parallel(n_jobs=-1)]: Done 238 tasks      | elapsed:  2.5min\n",
      "[Parallel(n_jobs=-1)]: Done 239 tasks      | elapsed:  2.5min\n",
      "[Parallel(n_jobs=-1)]: Done 240 tasks      | elapsed:  2.5min\n",
      "[Parallel(n_jobs=-1)]: Done 241 tasks      | elapsed:  2.5min\n",
      "[Parallel(n_jobs=-1)]: Done 242 tasks      | elapsed:  2.5min\n",
      "[Parallel(n_jobs=-1)]: Done 243 tasks      | elapsed:  2.5min\n",
      "[Parallel(n_jobs=-1)]: Done 244 tasks      | elapsed:  2.5min\n",
      "[Parallel(n_jobs=-1)]: Done 245 tasks      | elapsed:  2.5min\n",
      "[Parallel(n_jobs=-1)]: Done 246 tasks      | elapsed:  2.5min\n",
      "[Parallel(n_jobs=-1)]: Done 247 tasks      | elapsed:  2.5min\n",
      "[Parallel(n_jobs=-1)]: Done 248 tasks      | elapsed:  2.5min\n",
      "[Parallel(n_jobs=-1)]: Done 249 tasks      | elapsed:  2.5min\n",
      "[Parallel(n_jobs=-1)]: Done 250 tasks      | elapsed:  2.5min\n",
      "[Parallel(n_jobs=-1)]: Done 251 tasks      | elapsed:  2.5min\n",
      "[Parallel(n_jobs=-1)]: Done 252 tasks      | elapsed:  2.6min\n",
      "[Parallel(n_jobs=-1)]: Done 253 tasks      | elapsed:  2.6min\n",
      "[Parallel(n_jobs=-1)]: Done 254 tasks      | elapsed:  2.6min\n",
      "[Parallel(n_jobs=-1)]: Done 255 tasks      | elapsed:  2.6min\n",
      "[Parallel(n_jobs=-1)]: Done 256 tasks      | elapsed:  2.6min\n",
      "[Parallel(n_jobs=-1)]: Done 257 tasks      | elapsed:  2.6min\n",
      "[Parallel(n_jobs=-1)]: Done 258 tasks      | elapsed:  2.6min\n",
      "[Parallel(n_jobs=-1)]: Done 259 tasks      | elapsed:  2.6min\n",
      "[Parallel(n_jobs=-1)]: Done 260 tasks      | elapsed:  2.6min\n",
      "[Parallel(n_jobs=-1)]: Done 261 tasks      | elapsed:  2.6min\n",
      "[Parallel(n_jobs=-1)]: Done 262 tasks      | elapsed:  2.6min\n",
      "[Parallel(n_jobs=-1)]: Done 263 tasks      | elapsed:  2.6min\n",
      "[Parallel(n_jobs=-1)]: Done 264 tasks      | elapsed:  2.6min\n",
      "[Parallel(n_jobs=-1)]: Done 265 tasks      | elapsed:  2.6min\n"
     ]
    },
    {
     "name": "stderr",
     "output_type": "stream",
     "text": [
      "[Parallel(n_jobs=-1)]: Done 266 tasks      | elapsed:  2.6min\n",
      "[Parallel(n_jobs=-1)]: Done 267 tasks      | elapsed:  2.6min\n",
      "[Parallel(n_jobs=-1)]: Done 268 tasks      | elapsed:  2.6min\n",
      "[Parallel(n_jobs=-1)]: Done 269 tasks      | elapsed:  2.6min\n",
      "[Parallel(n_jobs=-1)]: Done 270 tasks      | elapsed:  2.6min\n",
      "[Parallel(n_jobs=-1)]: Done 271 tasks      | elapsed:  2.6min\n",
      "[Parallel(n_jobs=-1)]: Done 272 tasks      | elapsed:  2.6min\n",
      "[Parallel(n_jobs=-1)]: Done 273 tasks      | elapsed:  2.6min\n",
      "[Parallel(n_jobs=-1)]: Done 274 tasks      | elapsed:  2.6min\n",
      "[Parallel(n_jobs=-1)]: Done 275 tasks      | elapsed:  2.6min\n",
      "[Parallel(n_jobs=-1)]: Done 276 tasks      | elapsed:  2.6min\n",
      "[Parallel(n_jobs=-1)]: Done 277 tasks      | elapsed:  2.6min\n",
      "[Parallel(n_jobs=-1)]: Done 278 tasks      | elapsed:  2.6min\n",
      "[Parallel(n_jobs=-1)]: Done 279 tasks      | elapsed:  2.6min\n",
      "[Parallel(n_jobs=-1)]: Done 280 tasks      | elapsed:  2.6min\n",
      "[Parallel(n_jobs=-1)]: Done 281 tasks      | elapsed:  2.7min\n",
      "[Parallel(n_jobs=-1)]: Done 282 tasks      | elapsed:  2.7min\n",
      "[Parallel(n_jobs=-1)]: Done 283 tasks      | elapsed:  2.7min\n",
      "[Parallel(n_jobs=-1)]: Done 284 tasks      | elapsed:  2.7min\n",
      "[Parallel(n_jobs=-1)]: Done 285 tasks      | elapsed:  2.7min\n",
      "[Parallel(n_jobs=-1)]: Done 286 tasks      | elapsed:  2.7min\n",
      "[Parallel(n_jobs=-1)]: Done 287 tasks      | elapsed:  2.7min\n",
      "[Parallel(n_jobs=-1)]: Done 288 tasks      | elapsed:  2.7min\n",
      "[Parallel(n_jobs=-1)]: Done 289 tasks      | elapsed:  2.7min\n",
      "[Parallel(n_jobs=-1)]: Done 290 tasks      | elapsed:  2.7min\n",
      "[Parallel(n_jobs=-1)]: Done 291 tasks      | elapsed:  2.7min\n",
      "[Parallel(n_jobs=-1)]: Done 292 tasks      | elapsed:  2.7min\n",
      "[Parallel(n_jobs=-1)]: Done 293 tasks      | elapsed:  2.7min\n",
      "[Parallel(n_jobs=-1)]: Done 294 tasks      | elapsed:  2.7min\n",
      "[Parallel(n_jobs=-1)]: Done 295 tasks      | elapsed:  2.7min\n",
      "[Parallel(n_jobs=-1)]: Done 296 tasks      | elapsed:  2.7min\n",
      "[Parallel(n_jobs=-1)]: Done 297 tasks      | elapsed:  2.7min\n",
      "[Parallel(n_jobs=-1)]: Done 298 tasks      | elapsed:  2.7min\n",
      "[Parallel(n_jobs=-1)]: Done 299 tasks      | elapsed:  2.7min\n",
      "[Parallel(n_jobs=-1)]: Done 300 tasks      | elapsed:  2.7min\n",
      "[Parallel(n_jobs=-1)]: Done 301 tasks      | elapsed:  2.7min\n",
      "[Parallel(n_jobs=-1)]: Done 302 tasks      | elapsed:  2.7min\n",
      "[Parallel(n_jobs=-1)]: Done 303 tasks      | elapsed:  2.8min\n",
      "[Parallel(n_jobs=-1)]: Done 304 tasks      | elapsed:  2.8min\n",
      "[Parallel(n_jobs=-1)]: Done 305 tasks      | elapsed:  2.8min\n",
      "[Parallel(n_jobs=-1)]: Done 306 tasks      | elapsed:  2.8min\n",
      "[Parallel(n_jobs=-1)]: Done 307 tasks      | elapsed:  2.8min\n",
      "[Parallel(n_jobs=-1)]: Done 308 tasks      | elapsed:  2.8min\n",
      "[Parallel(n_jobs=-1)]: Done 309 tasks      | elapsed:  2.9min\n",
      "[Parallel(n_jobs=-1)]: Done 310 tasks      | elapsed:  2.9min\n",
      "[Parallel(n_jobs=-1)]: Done 311 tasks      | elapsed:  2.9min\n",
      "[Parallel(n_jobs=-1)]: Done 312 tasks      | elapsed:  2.9min\n",
      "[Parallel(n_jobs=-1)]: Done 313 tasks      | elapsed:  2.9min\n",
      "[Parallel(n_jobs=-1)]: Done 314 tasks      | elapsed:  2.9min\n",
      "[Parallel(n_jobs=-1)]: Done 315 tasks      | elapsed:  2.9min\n",
      "[Parallel(n_jobs=-1)]: Done 316 tasks      | elapsed:  2.9min\n",
      "[Parallel(n_jobs=-1)]: Done 317 tasks      | elapsed:  2.9min\n",
      "[Parallel(n_jobs=-1)]: Done 318 tasks      | elapsed:  2.9min\n",
      "[Parallel(n_jobs=-1)]: Done 319 tasks      | elapsed:  2.9min\n",
      "[Parallel(n_jobs=-1)]: Done 320 tasks      | elapsed:  2.9min\n",
      "[Parallel(n_jobs=-1)]: Done 321 tasks      | elapsed:  3.0min\n",
      "[Parallel(n_jobs=-1)]: Done 322 tasks      | elapsed:  3.0min\n",
      "[Parallel(n_jobs=-1)]: Done 323 tasks      | elapsed:  3.0min\n",
      "[Parallel(n_jobs=-1)]: Done 324 tasks      | elapsed:  3.0min\n",
      "[Parallel(n_jobs=-1)]: Done 325 tasks      | elapsed:  3.0min\n",
      "[Parallel(n_jobs=-1)]: Done 326 tasks      | elapsed:  3.0min\n",
      "[Parallel(n_jobs=-1)]: Done 327 tasks      | elapsed:  3.0min\n",
      "[Parallel(n_jobs=-1)]: Done 328 tasks      | elapsed:  3.0min\n",
      "[Parallel(n_jobs=-1)]: Done 329 tasks      | elapsed:  3.0min\n",
      "[Parallel(n_jobs=-1)]: Done 330 tasks      | elapsed:  3.1min\n",
      "[Parallel(n_jobs=-1)]: Done 331 tasks      | elapsed:  3.1min\n",
      "[Parallel(n_jobs=-1)]: Done 332 tasks      | elapsed:  3.1min\n",
      "[Parallel(n_jobs=-1)]: Done 333 tasks      | elapsed:  3.1min\n",
      "[Parallel(n_jobs=-1)]: Done 334 tasks      | elapsed:  3.2min\n",
      "[Parallel(n_jobs=-1)]: Done 335 tasks      | elapsed:  3.2min\n",
      "[Parallel(n_jobs=-1)]: Done 336 tasks      | elapsed:  3.2min\n",
      "[Parallel(n_jobs=-1)]: Done 337 tasks      | elapsed:  3.2min\n",
      "[Parallel(n_jobs=-1)]: Done 338 tasks      | elapsed:  3.2min\n",
      "[Parallel(n_jobs=-1)]: Done 339 tasks      | elapsed:  3.2min\n",
      "[Parallel(n_jobs=-1)]: Done 340 tasks      | elapsed:  3.2min\n",
      "[Parallel(n_jobs=-1)]: Done 341 tasks      | elapsed:  3.2min\n",
      "[Parallel(n_jobs=-1)]: Done 342 tasks      | elapsed:  3.2min\n",
      "[Parallel(n_jobs=-1)]: Done 343 tasks      | elapsed:  3.2min\n",
      "[Parallel(n_jobs=-1)]: Done 344 tasks      | elapsed:  3.2min\n",
      "[Parallel(n_jobs=-1)]: Done 345 tasks      | elapsed:  3.2min\n",
      "[Parallel(n_jobs=-1)]: Done 346 tasks      | elapsed:  3.2min\n",
      "[Parallel(n_jobs=-1)]: Done 347 tasks      | elapsed:  3.2min\n",
      "[Parallel(n_jobs=-1)]: Done 348 tasks      | elapsed:  3.2min\n",
      "[Parallel(n_jobs=-1)]: Done 349 tasks      | elapsed:  3.2min\n",
      "[Parallel(n_jobs=-1)]: Done 350 tasks      | elapsed:  3.2min\n",
      "[Parallel(n_jobs=-1)]: Done 351 tasks      | elapsed:  3.2min\n",
      "[Parallel(n_jobs=-1)]: Done 352 tasks      | elapsed:  3.2min\n",
      "[Parallel(n_jobs=-1)]: Done 353 tasks      | elapsed:  3.2min\n",
      "[Parallel(n_jobs=-1)]: Done 354 tasks      | elapsed:  3.2min\n",
      "[Parallel(n_jobs=-1)]: Done 355 tasks      | elapsed:  3.2min\n",
      "[Parallel(n_jobs=-1)]: Done 356 tasks      | elapsed:  3.2min\n",
      "[Parallel(n_jobs=-1)]: Done 357 tasks      | elapsed:  3.2min\n",
      "[Parallel(n_jobs=-1)]: Done 358 tasks      | elapsed:  3.2min\n",
      "[Parallel(n_jobs=-1)]: Done 359 tasks      | elapsed:  3.2min\n",
      "[Parallel(n_jobs=-1)]: Done 360 tasks      | elapsed:  3.3min\n",
      "[Parallel(n_jobs=-1)]: Done 361 tasks      | elapsed:  3.3min\n",
      "[Parallel(n_jobs=-1)]: Done 362 tasks      | elapsed:  3.3min\n",
      "[Parallel(n_jobs=-1)]: Done 363 tasks      | elapsed:  3.4min\n",
      "[Parallel(n_jobs=-1)]: Done 364 tasks      | elapsed:  3.4min\n",
      "[Parallel(n_jobs=-1)]: Done 365 tasks      | elapsed:  3.4min\n",
      "[Parallel(n_jobs=-1)]: Done 366 tasks      | elapsed:  3.5min\n",
      "[Parallel(n_jobs=-1)]: Done 367 tasks      | elapsed:  3.5min\n",
      "[Parallel(n_jobs=-1)]: Done 368 tasks      | elapsed:  3.5min\n",
      "[Parallel(n_jobs=-1)]: Done 369 tasks      | elapsed:  3.5min\n",
      "[Parallel(n_jobs=-1)]: Done 370 tasks      | elapsed:  3.5min\n",
      "[Parallel(n_jobs=-1)]: Done 371 tasks      | elapsed:  3.5min\n",
      "[Parallel(n_jobs=-1)]: Done 372 tasks      | elapsed:  3.5min\n",
      "[Parallel(n_jobs=-1)]: Done 373 tasks      | elapsed:  3.5min\n",
      "[Parallel(n_jobs=-1)]: Done 374 tasks      | elapsed:  3.5min\n",
      "[Parallel(n_jobs=-1)]: Done 375 tasks      | elapsed:  3.6min\n",
      "[Parallel(n_jobs=-1)]: Done 376 tasks      | elapsed:  3.6min\n",
      "[Parallel(n_jobs=-1)]: Done 377 tasks      | elapsed:  3.6min\n",
      "[Parallel(n_jobs=-1)]: Done 378 tasks      | elapsed:  3.6min\n",
      "[Parallel(n_jobs=-1)]: Done 379 tasks      | elapsed:  3.6min\n",
      "[Parallel(n_jobs=-1)]: Done 380 tasks      | elapsed:  3.6min\n",
      "[Parallel(n_jobs=-1)]: Done 381 tasks      | elapsed:  3.6min\n",
      "[Parallel(n_jobs=-1)]: Done 382 tasks      | elapsed:  3.6min\n",
      "[Parallel(n_jobs=-1)]: Done 383 tasks      | elapsed:  3.6min\n",
      "[Parallel(n_jobs=-1)]: Done 384 tasks      | elapsed:  3.6min\n",
      "[Parallel(n_jobs=-1)]: Done 385 tasks      | elapsed:  3.6min\n",
      "[Parallel(n_jobs=-1)]: Done 386 tasks      | elapsed:  3.6min\n",
      "[Parallel(n_jobs=-1)]: Done 387 tasks      | elapsed:  3.6min\n",
      "[Parallel(n_jobs=-1)]: Done 388 tasks      | elapsed:  3.6min\n",
      "[Parallel(n_jobs=-1)]: Done 389 tasks      | elapsed:  3.6min\n",
      "[Parallel(n_jobs=-1)]: Done 390 tasks      | elapsed:  3.6min\n",
      "[Parallel(n_jobs=-1)]: Done 391 tasks      | elapsed:  3.6min\n",
      "[Parallel(n_jobs=-1)]: Done 392 tasks      | elapsed:  3.6min\n",
      "[Parallel(n_jobs=-1)]: Done 393 tasks      | elapsed:  3.6min\n",
      "[Parallel(n_jobs=-1)]: Done 394 tasks      | elapsed:  3.6min\n",
      "[Parallel(n_jobs=-1)]: Done 395 tasks      | elapsed:  3.6min\n",
      "[Parallel(n_jobs=-1)]: Done 396 tasks      | elapsed:  3.6min\n",
      "[Parallel(n_jobs=-1)]: Done 397 tasks      | elapsed:  3.6min\n",
      "[Parallel(n_jobs=-1)]: Done 398 tasks      | elapsed:  3.6min\n",
      "[Parallel(n_jobs=-1)]: Done 399 tasks      | elapsed:  3.6min\n",
      "[Parallel(n_jobs=-1)]: Done 400 tasks      | elapsed:  3.6min\n"
     ]
    },
    {
     "name": "stderr",
     "output_type": "stream",
     "text": [
      "[Parallel(n_jobs=-1)]: Done 401 tasks      | elapsed:  3.6min\n",
      "[Parallel(n_jobs=-1)]: Done 402 tasks      | elapsed:  3.6min\n",
      "[Parallel(n_jobs=-1)]: Done 403 tasks      | elapsed:  3.6min\n",
      "[Parallel(n_jobs=-1)]: Done 404 tasks      | elapsed:  3.6min\n",
      "[Parallel(n_jobs=-1)]: Done 405 tasks      | elapsed:  3.7min\n",
      "[Parallel(n_jobs=-1)]: Done 406 tasks      | elapsed:  3.7min\n",
      "[Parallel(n_jobs=-1)]: Done 407 tasks      | elapsed:  3.7min\n",
      "[Parallel(n_jobs=-1)]: Done 408 tasks      | elapsed:  3.7min\n",
      "[Parallel(n_jobs=-1)]: Done 409 tasks      | elapsed:  3.7min\n",
      "[Parallel(n_jobs=-1)]: Done 410 tasks      | elapsed:  3.7min\n",
      "[Parallel(n_jobs=-1)]: Done 411 tasks      | elapsed:  3.7min\n",
      "[Parallel(n_jobs=-1)]: Done 412 tasks      | elapsed:  3.7min\n",
      "[Parallel(n_jobs=-1)]: Done 413 tasks      | elapsed:  3.7min\n",
      "[Parallel(n_jobs=-1)]: Done 414 tasks      | elapsed:  3.7min\n",
      "[Parallel(n_jobs=-1)]: Done 415 tasks      | elapsed:  3.7min\n",
      "[Parallel(n_jobs=-1)]: Done 416 tasks      | elapsed:  3.7min\n",
      "[Parallel(n_jobs=-1)]: Done 417 tasks      | elapsed:  3.7min\n",
      "[Parallel(n_jobs=-1)]: Done 418 tasks      | elapsed:  3.7min\n",
      "[Parallel(n_jobs=-1)]: Done 419 tasks      | elapsed:  3.7min\n",
      "[Parallel(n_jobs=-1)]: Done 420 tasks      | elapsed:  3.7min\n",
      "[Parallel(n_jobs=-1)]: Done 421 tasks      | elapsed:  3.7min\n",
      "[Parallel(n_jobs=-1)]: Done 422 tasks      | elapsed:  3.7min\n",
      "[Parallel(n_jobs=-1)]: Done 423 tasks      | elapsed:  3.7min\n",
      "[Parallel(n_jobs=-1)]: Done 424 tasks      | elapsed:  3.7min\n",
      "[Parallel(n_jobs=-1)]: Done 425 tasks      | elapsed:  3.7min\n",
      "[Parallel(n_jobs=-1)]: Done 426 tasks      | elapsed:  3.7min\n",
      "[Parallel(n_jobs=-1)]: Done 427 tasks      | elapsed:  3.7min\n",
      "[Parallel(n_jobs=-1)]: Done 428 tasks      | elapsed:  3.7min\n",
      "[Parallel(n_jobs=-1)]: Done 429 tasks      | elapsed:  3.7min\n",
      "[Parallel(n_jobs=-1)]: Done 430 tasks      | elapsed:  3.7min\n",
      "[Parallel(n_jobs=-1)]: Done 431 tasks      | elapsed:  3.7min\n",
      "[Parallel(n_jobs=-1)]: Done 432 tasks      | elapsed:  3.7min\n",
      "[Parallel(n_jobs=-1)]: Done 433 tasks      | elapsed:  3.7min\n",
      "[Parallel(n_jobs=-1)]: Done 434 tasks      | elapsed:  3.7min\n",
      "[Parallel(n_jobs=-1)]: Done 435 tasks      | elapsed:  3.7min\n",
      "[Parallel(n_jobs=-1)]: Done 436 tasks      | elapsed:  3.7min\n",
      "[Parallel(n_jobs=-1)]: Done 437 tasks      | elapsed:  3.7min\n",
      "[Parallel(n_jobs=-1)]: Done 438 tasks      | elapsed:  3.7min\n",
      "[Parallel(n_jobs=-1)]: Done 439 tasks      | elapsed:  3.7min\n",
      "[Parallel(n_jobs=-1)]: Done 440 tasks      | elapsed:  3.8min\n",
      "[Parallel(n_jobs=-1)]: Done 441 tasks      | elapsed:  3.9min\n",
      "[Parallel(n_jobs=-1)]: Done 442 tasks      | elapsed:  3.9min\n",
      "[Parallel(n_jobs=-1)]: Done 443 tasks      | elapsed:  3.9min\n",
      "[Parallel(n_jobs=-1)]: Done 444 tasks      | elapsed:  3.9min\n",
      "[Parallel(n_jobs=-1)]: Done 445 tasks      | elapsed:  3.9min\n",
      "[Parallel(n_jobs=-1)]: Done 446 tasks      | elapsed:  3.9min\n",
      "[Parallel(n_jobs=-1)]: Done 447 tasks      | elapsed:  3.9min\n",
      "[Parallel(n_jobs=-1)]: Done 448 tasks      | elapsed:  4.0min\n",
      "[Parallel(n_jobs=-1)]: Done 449 tasks      | elapsed:  4.1min\n",
      "[Parallel(n_jobs=-1)]: Done 450 tasks      | elapsed:  4.1min\n",
      "[Parallel(n_jobs=-1)]: Done 451 tasks      | elapsed:  4.1min\n",
      "[Parallel(n_jobs=-1)]: Done 452 tasks      | elapsed:  4.2min\n",
      "[Parallel(n_jobs=-1)]: Done 453 tasks      | elapsed:  4.2min\n",
      "[Parallel(n_jobs=-1)]: Done 454 tasks      | elapsed:  4.2min\n",
      "[Parallel(n_jobs=-1)]: Done 455 tasks      | elapsed:  4.2min\n",
      "[Parallel(n_jobs=-1)]: Done 456 tasks      | elapsed:  4.2min\n",
      "[Parallel(n_jobs=-1)]: Done 457 tasks      | elapsed:  4.2min\n",
      "[Parallel(n_jobs=-1)]: Done 458 tasks      | elapsed:  4.2min\n",
      "[Parallel(n_jobs=-1)]: Done 459 tasks      | elapsed:  4.3min\n",
      "[Parallel(n_jobs=-1)]: Done 460 tasks      | elapsed:  4.3min\n",
      "[Parallel(n_jobs=-1)]: Done 461 tasks      | elapsed:  4.3min\n",
      "[Parallel(n_jobs=-1)]: Done 462 tasks      | elapsed:  4.3min\n",
      "[Parallel(n_jobs=-1)]: Done 463 tasks      | elapsed:  4.3min\n",
      "[Parallel(n_jobs=-1)]: Done 464 tasks      | elapsed:  4.3min\n",
      "[Parallel(n_jobs=-1)]: Done 465 tasks      | elapsed:  4.3min\n",
      "[Parallel(n_jobs=-1)]: Done 466 tasks      | elapsed:  4.3min\n",
      "[Parallel(n_jobs=-1)]: Done 467 tasks      | elapsed:  4.3min\n",
      "[Parallel(n_jobs=-1)]: Done 468 tasks      | elapsed:  4.3min\n",
      "[Parallel(n_jobs=-1)]: Done 469 tasks      | elapsed:  4.3min\n",
      "[Parallel(n_jobs=-1)]: Done 470 tasks      | elapsed:  4.4min\n",
      "[Parallel(n_jobs=-1)]: Done 471 tasks      | elapsed:  4.4min\n",
      "[Parallel(n_jobs=-1)]: Done 472 tasks      | elapsed:  4.4min\n",
      "[Parallel(n_jobs=-1)]: Done 473 tasks      | elapsed:  4.4min\n",
      "[Parallel(n_jobs=-1)]: Done 474 tasks      | elapsed:  4.5min\n",
      "[Parallel(n_jobs=-1)]: Done 475 tasks      | elapsed:  4.5min\n",
      "[Parallel(n_jobs=-1)]: Done 476 tasks      | elapsed:  4.6min\n",
      "[Parallel(n_jobs=-1)]: Done 477 tasks      | elapsed:  4.6min\n",
      "[Parallel(n_jobs=-1)]: Done 478 tasks      | elapsed:  4.6min\n",
      "[Parallel(n_jobs=-1)]: Done 479 tasks      | elapsed:  4.6min\n",
      "[Parallel(n_jobs=-1)]: Done 480 tasks      | elapsed:  4.6min\n",
      "[Parallel(n_jobs=-1)]: Done 481 tasks      | elapsed:  4.7min\n",
      "[Parallel(n_jobs=-1)]: Done 482 tasks      | elapsed:  4.7min\n",
      "[Parallel(n_jobs=-1)]: Done 483 tasks      | elapsed:  4.7min\n",
      "[Parallel(n_jobs=-1)]: Done 484 tasks      | elapsed:  4.7min\n",
      "[Parallel(n_jobs=-1)]: Done 485 tasks      | elapsed:  4.7min\n",
      "[Parallel(n_jobs=-1)]: Done 486 tasks      | elapsed:  4.7min\n",
      "[Parallel(n_jobs=-1)]: Done 487 tasks      | elapsed:  4.7min\n",
      "[Parallel(n_jobs=-1)]: Done 488 tasks      | elapsed:  4.7min\n",
      "[Parallel(n_jobs=-1)]: Done 489 tasks      | elapsed:  4.7min\n",
      "[Parallel(n_jobs=-1)]: Done 490 tasks      | elapsed:  4.7min\n",
      "[Parallel(n_jobs=-1)]: Done 491 tasks      | elapsed:  4.7min\n",
      "[Parallel(n_jobs=-1)]: Done 492 tasks      | elapsed:  4.7min\n",
      "[Parallel(n_jobs=-1)]: Done 493 tasks      | elapsed:  4.7min\n",
      "[Parallel(n_jobs=-1)]: Done 494 tasks      | elapsed:  4.7min\n",
      "[Parallel(n_jobs=-1)]: Done 495 tasks      | elapsed:  4.7min\n",
      "[Parallel(n_jobs=-1)]: Done 496 tasks      | elapsed:  4.7min\n",
      "[Parallel(n_jobs=-1)]: Done 497 tasks      | elapsed:  4.7min\n",
      "[Parallel(n_jobs=-1)]: Done 498 tasks      | elapsed:  4.7min\n",
      "[Parallel(n_jobs=-1)]: Done 499 tasks      | elapsed:  4.7min\n",
      "[Parallel(n_jobs=-1)]: Done 500 tasks      | elapsed:  4.7min\n",
      "[Parallel(n_jobs=-1)]: Done 501 tasks      | elapsed:  4.7min\n",
      "[Parallel(n_jobs=-1)]: Done 502 tasks      | elapsed:  4.7min\n",
      "[Parallel(n_jobs=-1)]: Done 503 tasks      | elapsed:  4.7min\n",
      "[Parallel(n_jobs=-1)]: Done 504 tasks      | elapsed:  4.7min\n",
      "[Parallel(n_jobs=-1)]: Done 505 tasks      | elapsed:  4.8min\n",
      "[Parallel(n_jobs=-1)]: Done 506 tasks      | elapsed:  4.8min\n",
      "[Parallel(n_jobs=-1)]: Done 507 tasks      | elapsed:  4.8min\n",
      "[Parallel(n_jobs=-1)]: Done 508 tasks      | elapsed:  4.8min\n",
      "[Parallel(n_jobs=-1)]: Done 509 tasks      | elapsed:  4.8min\n",
      "[Parallel(n_jobs=-1)]: Done 510 tasks      | elapsed:  4.8min\n",
      "[Parallel(n_jobs=-1)]: Done 511 tasks      | elapsed:  4.8min\n",
      "[Parallel(n_jobs=-1)]: Done 512 tasks      | elapsed:  4.8min\n",
      "[Parallel(n_jobs=-1)]: Done 513 tasks      | elapsed:  4.8min\n",
      "[Parallel(n_jobs=-1)]: Done 514 tasks      | elapsed:  4.8min\n",
      "[Parallel(n_jobs=-1)]: Done 515 tasks      | elapsed:  4.8min\n",
      "[Parallel(n_jobs=-1)]: Done 516 tasks      | elapsed:  4.8min\n",
      "[Parallel(n_jobs=-1)]: Done 517 tasks      | elapsed:  4.8min\n",
      "[Parallel(n_jobs=-1)]: Done 518 tasks      | elapsed:  4.8min\n",
      "[Parallel(n_jobs=-1)]: Done 519 tasks      | elapsed:  4.8min\n",
      "[Parallel(n_jobs=-1)]: Done 520 tasks      | elapsed:  4.8min\n",
      "[Parallel(n_jobs=-1)]: Done 521 tasks      | elapsed:  4.8min\n",
      "[Parallel(n_jobs=-1)]: Done 522 tasks      | elapsed:  4.8min\n",
      "[Parallel(n_jobs=-1)]: Done 523 tasks      | elapsed:  4.8min\n",
      "[Parallel(n_jobs=-1)]: Done 524 tasks      | elapsed:  4.8min\n",
      "[Parallel(n_jobs=-1)]: Done 525 tasks      | elapsed:  4.8min\n",
      "[Parallel(n_jobs=-1)]: Done 526 tasks      | elapsed:  4.8min\n",
      "[Parallel(n_jobs=-1)]: Done 527 tasks      | elapsed:  4.8min\n",
      "[Parallel(n_jobs=-1)]: Done 528 tasks      | elapsed:  4.8min\n",
      "[Parallel(n_jobs=-1)]: Done 529 tasks      | elapsed:  4.8min\n",
      "[Parallel(n_jobs=-1)]: Done 530 tasks      | elapsed:  4.8min\n",
      "[Parallel(n_jobs=-1)]: Done 531 tasks      | elapsed:  4.8min\n",
      "[Parallel(n_jobs=-1)]: Done 532 tasks      | elapsed:  4.8min\n",
      "[Parallel(n_jobs=-1)]: Done 533 tasks      | elapsed:  4.8min\n"
     ]
    },
    {
     "name": "stderr",
     "output_type": "stream",
     "text": [
      "[Parallel(n_jobs=-1)]: Done 534 tasks      | elapsed:  4.8min\n",
      "[Parallel(n_jobs=-1)]: Done 535 tasks      | elapsed:  4.8min\n",
      "[Parallel(n_jobs=-1)]: Done 536 tasks      | elapsed:  4.8min\n",
      "[Parallel(n_jobs=-1)]: Done 537 tasks      | elapsed:  4.8min\n",
      "[Parallel(n_jobs=-1)]: Done 538 tasks      | elapsed:  4.8min\n",
      "[Parallel(n_jobs=-1)]: Done 539 tasks      | elapsed:  4.9min\n",
      "[Parallel(n_jobs=-1)]: Done 540 tasks      | elapsed:  5.0min\n",
      "[Parallel(n_jobs=-1)]: Done 541 tasks      | elapsed:  5.0min\n",
      "[Parallel(n_jobs=-1)]: Done 542 tasks      | elapsed:  5.0min\n",
      "[Parallel(n_jobs=-1)]: Done 543 tasks      | elapsed:  5.0min\n",
      "[Parallel(n_jobs=-1)]: Done 544 tasks      | elapsed:  5.0min\n",
      "[Parallel(n_jobs=-1)]: Done 545 tasks      | elapsed:  5.0min\n",
      "[Parallel(n_jobs=-1)]: Done 546 tasks      | elapsed:  5.0min\n",
      "[Parallel(n_jobs=-1)]: Done 547 tasks      | elapsed:  5.0min\n",
      "[Parallel(n_jobs=-1)]: Done 548 tasks      | elapsed:  5.0min\n",
      "[Parallel(n_jobs=-1)]: Done 549 tasks      | elapsed:  5.0min\n",
      "[Parallel(n_jobs=-1)]: Done 550 tasks      | elapsed:  5.1min\n",
      "[Parallel(n_jobs=-1)]: Done 551 tasks      | elapsed:  5.1min\n",
      "[Parallel(n_jobs=-1)]: Done 552 tasks      | elapsed:  5.1min\n",
      "[Parallel(n_jobs=-1)]: Done 553 tasks      | elapsed:  5.1min\n",
      "[Parallel(n_jobs=-1)]: Done 554 tasks      | elapsed:  5.1min\n",
      "[Parallel(n_jobs=-1)]: Done 555 tasks      | elapsed:  5.1min\n",
      "[Parallel(n_jobs=-1)]: Done 556 tasks      | elapsed:  5.1min\n",
      "[Parallel(n_jobs=-1)]: Done 557 tasks      | elapsed:  5.1min\n",
      "[Parallel(n_jobs=-1)]: Done 558 tasks      | elapsed:  5.1min\n",
      "[Parallel(n_jobs=-1)]: Done 559 tasks      | elapsed:  5.1min\n",
      "[Parallel(n_jobs=-1)]: Done 560 tasks      | elapsed:  5.1min\n",
      "[Parallel(n_jobs=-1)]: Done 561 tasks      | elapsed:  5.1min\n",
      "[Parallel(n_jobs=-1)]: Done 562 tasks      | elapsed:  5.1min\n",
      "[Parallel(n_jobs=-1)]: Done 563 tasks      | elapsed:  5.1min\n",
      "[Parallel(n_jobs=-1)]: Done 564 tasks      | elapsed:  5.1min\n",
      "[Parallel(n_jobs=-1)]: Done 565 tasks      | elapsed:  5.1min\n",
      "[Parallel(n_jobs=-1)]: Done 566 tasks      | elapsed:  5.1min\n",
      "[Parallel(n_jobs=-1)]: Done 567 tasks      | elapsed:  5.1min\n",
      "[Parallel(n_jobs=-1)]: Done 568 tasks      | elapsed:  5.1min\n",
      "[Parallel(n_jobs=-1)]: Done 569 tasks      | elapsed:  5.1min\n",
      "[Parallel(n_jobs=-1)]: Done 570 tasks      | elapsed:  5.1min\n",
      "[Parallel(n_jobs=-1)]: Done 571 tasks      | elapsed:  5.1min\n",
      "[Parallel(n_jobs=-1)]: Done 572 tasks      | elapsed:  5.1min\n",
      "[Parallel(n_jobs=-1)]: Done 573 tasks      | elapsed:  5.1min\n",
      "[Parallel(n_jobs=-1)]: Done 574 tasks      | elapsed:  5.1min\n",
      "[Parallel(n_jobs=-1)]: Done 575 tasks      | elapsed:  5.2min\n",
      "[Parallel(n_jobs=-1)]: Done 576 tasks      | elapsed:  5.2min\n",
      "[Parallel(n_jobs=-1)]: Done 577 tasks      | elapsed:  5.2min\n",
      "[Parallel(n_jobs=-1)]: Done 578 tasks      | elapsed:  5.2min\n",
      "[Parallel(n_jobs=-1)]: Done 579 tasks      | elapsed:  5.2min\n",
      "[Parallel(n_jobs=-1)]: Done 580 tasks      | elapsed:  5.2min\n",
      "[Parallel(n_jobs=-1)]: Done 581 tasks      | elapsed:  5.2min\n",
      "[Parallel(n_jobs=-1)]: Done 582 tasks      | elapsed:  5.2min\n",
      "[Parallel(n_jobs=-1)]: Done 583 tasks      | elapsed:  5.2min\n",
      "[Parallel(n_jobs=-1)]: Done 584 tasks      | elapsed:  5.3min\n",
      "[Parallel(n_jobs=-1)]: Done 585 tasks      | elapsed:  5.4min\n",
      "[Parallel(n_jobs=-1)]: Done 586 tasks      | elapsed:  5.4min\n",
      "[Parallel(n_jobs=-1)]: Done 587 tasks      | elapsed:  5.4min\n",
      "[Parallel(n_jobs=-1)]: Done 588 tasks      | elapsed:  5.4min\n",
      "[Parallel(n_jobs=-1)]: Done 589 tasks      | elapsed:  5.5min\n",
      "[Parallel(n_jobs=-1)]: Done 590 tasks      | elapsed:  5.5min\n",
      "[Parallel(n_jobs=-1)]: Done 591 tasks      | elapsed:  5.5min\n",
      "[Parallel(n_jobs=-1)]: Done 592 tasks      | elapsed:  5.5min\n",
      "[Parallel(n_jobs=-1)]: Done 593 tasks      | elapsed:  5.6min\n",
      "[Parallel(n_jobs=-1)]: Done 594 tasks      | elapsed:  5.6min\n",
      "[Parallel(n_jobs=-1)]: Done 595 tasks      | elapsed:  5.6min\n",
      "[Parallel(n_jobs=-1)]: Done 596 tasks      | elapsed:  5.6min\n",
      "[Parallel(n_jobs=-1)]: Done 597 tasks      | elapsed:  5.7min\n",
      "[Parallel(n_jobs=-1)]: Done 598 tasks      | elapsed:  5.7min\n",
      "[Parallel(n_jobs=-1)]: Done 599 tasks      | elapsed:  5.7min\n",
      "[Parallel(n_jobs=-1)]: Done 600 tasks      | elapsed:  5.7min\n",
      "[Parallel(n_jobs=-1)]: Done 601 tasks      | elapsed:  5.7min\n",
      "[Parallel(n_jobs=-1)]: Done 602 tasks      | elapsed:  5.8min\n",
      "[Parallel(n_jobs=-1)]: Done 603 tasks      | elapsed:  5.8min\n",
      "[Parallel(n_jobs=-1)]: Done 604 tasks      | elapsed:  5.8min\n",
      "[Parallel(n_jobs=-1)]: Done 605 tasks      | elapsed:  5.8min\n",
      "[Parallel(n_jobs=-1)]: Done 606 tasks      | elapsed:  5.8min\n",
      "[Parallel(n_jobs=-1)]: Done 607 tasks      | elapsed:  5.8min\n",
      "[Parallel(n_jobs=-1)]: Done 608 tasks      | elapsed:  5.8min\n",
      "[Parallel(n_jobs=-1)]: Done 609 tasks      | elapsed:  5.8min\n",
      "[Parallel(n_jobs=-1)]: Done 610 tasks      | elapsed:  5.8min\n",
      "[Parallel(n_jobs=-1)]: Done 611 tasks      | elapsed:  5.8min\n",
      "[Parallel(n_jobs=-1)]: Done 612 tasks      | elapsed:  5.8min\n",
      "[Parallel(n_jobs=-1)]: Done 613 tasks      | elapsed:  5.9min\n",
      "[Parallel(n_jobs=-1)]: Done 614 tasks      | elapsed:  5.9min\n",
      "[Parallel(n_jobs=-1)]: Done 615 tasks      | elapsed:  5.9min\n",
      "[Parallel(n_jobs=-1)]: Done 616 tasks      | elapsed:  5.9min\n",
      "[Parallel(n_jobs=-1)]: Done 617 tasks      | elapsed:  5.9min\n",
      "[Parallel(n_jobs=-1)]: Done 618 tasks      | elapsed:  5.9min\n",
      "[Parallel(n_jobs=-1)]: Done 619 tasks      | elapsed:  5.9min\n",
      "[Parallel(n_jobs=-1)]: Done 620 tasks      | elapsed:  5.9min\n",
      "[Parallel(n_jobs=-1)]: Done 621 tasks      | elapsed:  5.9min\n",
      "[Parallel(n_jobs=-1)]: Done 622 tasks      | elapsed:  5.9min\n",
      "[Parallel(n_jobs=-1)]: Done 623 tasks      | elapsed:  5.9min\n",
      "[Parallel(n_jobs=-1)]: Done 624 tasks      | elapsed:  5.9min\n",
      "[Parallel(n_jobs=-1)]: Done 625 tasks      | elapsed:  5.9min\n",
      "[Parallel(n_jobs=-1)]: Done 626 tasks      | elapsed:  5.9min\n",
      "[Parallel(n_jobs=-1)]: Done 627 tasks      | elapsed:  5.9min\n",
      "[Parallel(n_jobs=-1)]: Done 628 tasks      | elapsed:  5.9min\n",
      "[Parallel(n_jobs=-1)]: Done 629 tasks      | elapsed:  5.9min\n",
      "[Parallel(n_jobs=-1)]: Done 630 tasks      | elapsed:  5.9min\n",
      "[Parallel(n_jobs=-1)]: Done 631 tasks      | elapsed:  5.9min\n",
      "[Parallel(n_jobs=-1)]: Done 632 tasks      | elapsed:  5.9min\n",
      "[Parallel(n_jobs=-1)]: Done 633 tasks      | elapsed:  5.9min\n",
      "[Parallel(n_jobs=-1)]: Done 634 tasks      | elapsed:  5.9min\n",
      "[Parallel(n_jobs=-1)]: Done 635 tasks      | elapsed:  5.9min\n",
      "[Parallel(n_jobs=-1)]: Done 636 tasks      | elapsed:  5.9min\n",
      "[Parallel(n_jobs=-1)]: Done 637 tasks      | elapsed:  5.9min\n",
      "[Parallel(n_jobs=-1)]: Done 638 tasks      | elapsed:  5.9min\n",
      "[Parallel(n_jobs=-1)]: Done 639 tasks      | elapsed:  5.9min\n",
      "[Parallel(n_jobs=-1)]: Done 640 tasks      | elapsed:  5.9min\n",
      "[Parallel(n_jobs=-1)]: Done 641 tasks      | elapsed:  5.9min\n",
      "[Parallel(n_jobs=-1)]: Done 642 tasks      | elapsed:  5.9min\n",
      "[Parallel(n_jobs=-1)]: Done 643 tasks      | elapsed:  6.0min\n",
      "[Parallel(n_jobs=-1)]: Done 644 tasks      | elapsed:  6.0min\n",
      "[Parallel(n_jobs=-1)]: Done 645 tasks      | elapsed:  6.0min\n",
      "[Parallel(n_jobs=-1)]: Done 646 tasks      | elapsed:  6.0min\n",
      "[Parallel(n_jobs=-1)]: Done 647 tasks      | elapsed:  6.0min\n",
      "[Parallel(n_jobs=-1)]: Done 648 tasks      | elapsed:  6.0min\n",
      "[Parallel(n_jobs=-1)]: Done 649 tasks      | elapsed:  6.0min\n",
      "[Parallel(n_jobs=-1)]: Done 650 tasks      | elapsed:  6.1min\n",
      "[Parallel(n_jobs=-1)]: Done 651 tasks      | elapsed:  6.1min\n",
      "[Parallel(n_jobs=-1)]: Done 652 tasks      | elapsed:  6.1min\n",
      "[Parallel(n_jobs=-1)]: Done 653 tasks      | elapsed:  6.1min\n",
      "[Parallel(n_jobs=-1)]: Done 654 tasks      | elapsed:  6.1min\n",
      "[Parallel(n_jobs=-1)]: Done 655 tasks      | elapsed:  6.1min\n",
      "[Parallel(n_jobs=-1)]: Done 656 tasks      | elapsed:  6.1min\n",
      "[Parallel(n_jobs=-1)]: Done 657 tasks      | elapsed:  6.1min\n",
      "[Parallel(n_jobs=-1)]: Done 658 tasks      | elapsed:  6.1min\n",
      "[Parallel(n_jobs=-1)]: Done 659 tasks      | elapsed:  6.1min\n",
      "[Parallel(n_jobs=-1)]: Done 660 tasks      | elapsed:  6.1min\n",
      "[Parallel(n_jobs=-1)]: Done 661 tasks      | elapsed:  6.1min\n",
      "[Parallel(n_jobs=-1)]: Done 662 tasks      | elapsed:  6.1min\n",
      "[Parallel(n_jobs=-1)]: Done 663 tasks      | elapsed:  6.1min\n",
      "[Parallel(n_jobs=-1)]: Done 664 tasks      | elapsed:  6.2min\n",
      "[Parallel(n_jobs=-1)]: Done 665 tasks      | elapsed:  6.2min\n",
      "[Parallel(n_jobs=-1)]: Done 666 tasks      | elapsed:  6.2min\n",
      "[Parallel(n_jobs=-1)]: Done 667 tasks      | elapsed:  6.2min\n"
     ]
    },
    {
     "name": "stderr",
     "output_type": "stream",
     "text": [
      "[Parallel(n_jobs=-1)]: Done 668 tasks      | elapsed:  6.2min\n",
      "[Parallel(n_jobs=-1)]: Done 669 tasks      | elapsed:  6.2min\n",
      "[Parallel(n_jobs=-1)]: Done 670 tasks      | elapsed:  6.2min\n",
      "[Parallel(n_jobs=-1)]: Done 671 tasks      | elapsed:  6.2min\n",
      "[Parallel(n_jobs=-1)]: Done 672 tasks      | elapsed:  6.2min\n",
      "[Parallel(n_jobs=-1)]: Done 673 tasks      | elapsed:  6.2min\n",
      "[Parallel(n_jobs=-1)]: Done 674 tasks      | elapsed:  6.2min\n",
      "[Parallel(n_jobs=-1)]: Done 675 tasks      | elapsed:  6.2min\n",
      "[Parallel(n_jobs=-1)]: Done 676 tasks      | elapsed:  6.2min\n",
      "[Parallel(n_jobs=-1)]: Done 677 tasks      | elapsed:  6.2min\n",
      "[Parallel(n_jobs=-1)]: Done 678 tasks      | elapsed:  6.2min\n",
      "[Parallel(n_jobs=-1)]: Done 679 tasks      | elapsed:  6.2min\n",
      "[Parallel(n_jobs=-1)]: Done 680 tasks      | elapsed:  6.2min\n",
      "[Parallel(n_jobs=-1)]: Done 681 tasks      | elapsed:  6.2min\n",
      "[Parallel(n_jobs=-1)]: Done 682 tasks      | elapsed:  6.2min\n",
      "[Parallel(n_jobs=-1)]: Done 683 tasks      | elapsed:  6.2min\n",
      "[Parallel(n_jobs=-1)]: Done 684 tasks      | elapsed:  6.2min\n",
      "[Parallel(n_jobs=-1)]: Done 685 tasks      | elapsed:  6.2min\n",
      "[Parallel(n_jobs=-1)]: Done 686 tasks      | elapsed:  6.2min\n",
      "[Parallel(n_jobs=-1)]: Done 687 tasks      | elapsed:  6.3min\n",
      "[Parallel(n_jobs=-1)]: Done 688 tasks      | elapsed:  6.3min\n",
      "[Parallel(n_jobs=-1)]: Done 689 tasks      | elapsed:  6.3min\n",
      "[Parallel(n_jobs=-1)]: Done 690 tasks      | elapsed:  6.3min\n",
      "[Parallel(n_jobs=-1)]: Done 691 tasks      | elapsed:  6.3min\n",
      "[Parallel(n_jobs=-1)]: Done 692 tasks      | elapsed:  6.3min\n",
      "[Parallel(n_jobs=-1)]: Done 693 tasks      | elapsed:  6.3min\n",
      "[Parallel(n_jobs=-1)]: Done 694 tasks      | elapsed:  6.3min\n",
      "[Parallel(n_jobs=-1)]: Done 695 tasks      | elapsed:  6.3min\n",
      "[Parallel(n_jobs=-1)]: Done 696 tasks      | elapsed:  6.3min\n",
      "[Parallel(n_jobs=-1)]: Done 697 tasks      | elapsed:  6.3min\n",
      "[Parallel(n_jobs=-1)]: Done 698 tasks      | elapsed:  6.3min\n",
      "[Parallel(n_jobs=-1)]: Done 699 tasks      | elapsed:  6.3min\n",
      "[Parallel(n_jobs=-1)]: Done 700 tasks      | elapsed:  6.3min\n",
      "[Parallel(n_jobs=-1)]: Done 701 tasks      | elapsed:  6.3min\n",
      "[Parallel(n_jobs=-1)]: Done 702 tasks      | elapsed:  6.3min\n",
      "[Parallel(n_jobs=-1)]: Done 703 tasks      | elapsed:  6.3min\n",
      "[Parallel(n_jobs=-1)]: Done 704 tasks      | elapsed:  6.3min\n",
      "[Parallel(n_jobs=-1)]: Done 705 tasks      | elapsed:  6.3min\n",
      "[Parallel(n_jobs=-1)]: Done 706 tasks      | elapsed:  6.3min\n",
      "[Parallel(n_jobs=-1)]: Done 707 tasks      | elapsed:  6.3min\n",
      "[Parallel(n_jobs=-1)]: Done 708 tasks      | elapsed:  6.3min\n",
      "[Parallel(n_jobs=-1)]: Done 709 tasks      | elapsed:  6.3min\n",
      "[Parallel(n_jobs=-1)]: Done 710 tasks      | elapsed:  6.3min\n",
      "[Parallel(n_jobs=-1)]: Done 711 tasks      | elapsed:  6.3min\n",
      "[Parallel(n_jobs=-1)]: Done 712 tasks      | elapsed:  6.3min\n",
      "[Parallel(n_jobs=-1)]: Done 713 tasks      | elapsed:  6.3min\n",
      "[Parallel(n_jobs=-1)]: Done 714 tasks      | elapsed:  6.3min\n",
      "[Parallel(n_jobs=-1)]: Done 715 tasks      | elapsed:  6.3min\n",
      "[Parallel(n_jobs=-1)]: Done 716 tasks      | elapsed:  6.3min\n",
      "[Parallel(n_jobs=-1)]: Done 717 tasks      | elapsed:  6.3min\n",
      "[Parallel(n_jobs=-1)]: Done 718 tasks      | elapsed:  6.4min\n",
      "[Parallel(n_jobs=-1)]: Done 719 tasks      | elapsed:  6.4min\n",
      "[Parallel(n_jobs=-1)]: Done 720 tasks      | elapsed:  6.4min\n",
      "[Parallel(n_jobs=-1)]: Done 721 tasks      | elapsed:  6.4min\n",
      "[Parallel(n_jobs=-1)]: Done 722 tasks      | elapsed:  6.4min\n",
      "[Parallel(n_jobs=-1)]: Done 723 tasks      | elapsed:  6.4min\n",
      "[Parallel(n_jobs=-1)]: Done 724 tasks      | elapsed:  6.4min\n",
      "[Parallel(n_jobs=-1)]: Done 725 tasks      | elapsed:  6.4min\n",
      "[Parallel(n_jobs=-1)]: Done 726 tasks      | elapsed:  6.4min\n",
      "[Parallel(n_jobs=-1)]: Done 727 tasks      | elapsed:  6.5min\n",
      "[Parallel(n_jobs=-1)]: Done 728 tasks      | elapsed:  6.6min\n",
      "[Parallel(n_jobs=-1)]: Done 729 tasks      | elapsed:  6.6min\n",
      "[Parallel(n_jobs=-1)]: Done 730 tasks      | elapsed:  6.6min\n",
      "[Parallel(n_jobs=-1)]: Done 731 tasks      | elapsed:  6.6min\n",
      "[Parallel(n_jobs=-1)]: Done 732 tasks      | elapsed:  6.6min\n",
      "[Parallel(n_jobs=-1)]: Done 733 tasks      | elapsed:  6.6min\n",
      "[Parallel(n_jobs=-1)]: Done 734 tasks      | elapsed:  6.6min\n",
      "[Parallel(n_jobs=-1)]: Done 735 tasks      | elapsed:  6.6min\n",
      "[Parallel(n_jobs=-1)]: Done 736 tasks      | elapsed:  6.6min\n",
      "[Parallel(n_jobs=-1)]: Done 737 tasks      | elapsed:  6.6min\n",
      "[Parallel(n_jobs=-1)]: Done 738 tasks      | elapsed:  6.6min\n",
      "[Parallel(n_jobs=-1)]: Done 739 tasks      | elapsed:  6.6min\n",
      "[Parallel(n_jobs=-1)]: Done 740 tasks      | elapsed:  6.6min\n",
      "[Parallel(n_jobs=-1)]: Done 741 tasks      | elapsed:  6.6min\n",
      "[Parallel(n_jobs=-1)]: Done 742 tasks      | elapsed:  6.6min\n",
      "[Parallel(n_jobs=-1)]: Done 743 tasks      | elapsed:  6.7min\n",
      "[Parallel(n_jobs=-1)]: Done 744 tasks      | elapsed:  6.7min\n",
      "[Parallel(n_jobs=-1)]: Done 745 tasks      | elapsed:  6.7min\n",
      "[Parallel(n_jobs=-1)]: Done 746 tasks      | elapsed:  6.7min\n",
      "[Parallel(n_jobs=-1)]: Done 747 tasks      | elapsed:  6.7min\n",
      "[Parallel(n_jobs=-1)]: Done 748 tasks      | elapsed:  6.7min\n",
      "[Parallel(n_jobs=-1)]: Done 749 tasks      | elapsed:  6.7min\n",
      "[Parallel(n_jobs=-1)]: Done 750 tasks      | elapsed:  6.7min\n",
      "[Parallel(n_jobs=-1)]: Done 751 tasks      | elapsed:  6.7min\n",
      "[Parallel(n_jobs=-1)]: Done 752 tasks      | elapsed:  6.7min\n",
      "[Parallel(n_jobs=-1)]: Done 753 tasks      | elapsed:  6.7min\n",
      "[Parallel(n_jobs=-1)]: Done 754 tasks      | elapsed:  6.7min\n",
      "[Parallel(n_jobs=-1)]: Done 755 tasks      | elapsed:  6.7min\n",
      "[Parallel(n_jobs=-1)]: Done 756 tasks      | elapsed:  6.7min\n",
      "[Parallel(n_jobs=-1)]: Done 757 tasks      | elapsed:  6.7min\n",
      "[Parallel(n_jobs=-1)]: Done 758 tasks      | elapsed:  6.7min\n",
      "[Parallel(n_jobs=-1)]: Done 759 tasks      | elapsed:  6.7min\n",
      "[Parallel(n_jobs=-1)]: Done 760 tasks      | elapsed:  6.7min\n",
      "[Parallel(n_jobs=-1)]: Done 761 tasks      | elapsed:  6.7min\n",
      "[Parallel(n_jobs=-1)]: Done 762 tasks      | elapsed:  6.8min\n",
      "[Parallel(n_jobs=-1)]: Done 763 tasks      | elapsed:  6.8min\n",
      "[Parallel(n_jobs=-1)]: Done 764 tasks      | elapsed:  6.8min\n",
      "[Parallel(n_jobs=-1)]: Done 765 tasks      | elapsed:  6.8min\n",
      "[Parallel(n_jobs=-1)]: Done 766 tasks      | elapsed:  6.8min\n",
      "[Parallel(n_jobs=-1)]: Done 767 tasks      | elapsed:  6.8min\n",
      "[Parallel(n_jobs=-1)]: Done 768 tasks      | elapsed:  6.8min\n",
      "[Parallel(n_jobs=-1)]: Done 769 tasks      | elapsed:  6.8min\n",
      "[Parallel(n_jobs=-1)]: Done 770 tasks      | elapsed:  6.8min\n",
      "[Parallel(n_jobs=-1)]: Done 771 tasks      | elapsed:  6.9min\n",
      "[Parallel(n_jobs=-1)]: Done 772 tasks      | elapsed:  6.9min\n",
      "[Parallel(n_jobs=-1)]: Done 773 tasks      | elapsed:  6.9min\n",
      "[Parallel(n_jobs=-1)]: Done 774 tasks      | elapsed:  6.9min\n",
      "[Parallel(n_jobs=-1)]: Done 775 tasks      | elapsed:  6.9min\n",
      "[Parallel(n_jobs=-1)]: Done 776 tasks      | elapsed:  6.9min\n",
      "[Parallel(n_jobs=-1)]: Done 777 tasks      | elapsed:  6.9min\n",
      "[Parallel(n_jobs=-1)]: Done 778 tasks      | elapsed:  6.9min\n",
      "[Parallel(n_jobs=-1)]: Done 779 tasks      | elapsed:  6.9min\n",
      "[Parallel(n_jobs=-1)]: Done 780 tasks      | elapsed:  6.9min\n",
      "[Parallel(n_jobs=-1)]: Done 781 tasks      | elapsed:  6.9min\n",
      "[Parallel(n_jobs=-1)]: Done 782 tasks      | elapsed:  7.0min\n",
      "[Parallel(n_jobs=-1)]: Done 783 tasks      | elapsed:  7.0min\n",
      "[Parallel(n_jobs=-1)]: Done 784 tasks      | elapsed:  7.0min\n",
      "[Parallel(n_jobs=-1)]: Done 785 tasks      | elapsed:  7.0min\n",
      "[Parallel(n_jobs=-1)]: Done 786 tasks      | elapsed:  7.0min\n",
      "[Parallel(n_jobs=-1)]: Done 787 tasks      | elapsed:  7.0min\n",
      "[Parallel(n_jobs=-1)]: Done 788 tasks      | elapsed:  7.0min\n",
      "[Parallel(n_jobs=-1)]: Done 789 tasks      | elapsed:  7.0min\n",
      "[Parallel(n_jobs=-1)]: Done 790 tasks      | elapsed:  7.0min\n",
      "[Parallel(n_jobs=-1)]: Done 791 tasks      | elapsed:  7.0min\n",
      "[Parallel(n_jobs=-1)]: Done 792 tasks      | elapsed:  7.0min\n",
      "[Parallel(n_jobs=-1)]: Done 793 tasks      | elapsed:  7.0min\n",
      "[Parallel(n_jobs=-1)]: Done 794 tasks      | elapsed:  7.0min\n",
      "[Parallel(n_jobs=-1)]: Done 795 tasks      | elapsed:  7.0min\n",
      "[Parallel(n_jobs=-1)]: Done 796 tasks      | elapsed:  7.0min\n",
      "[Parallel(n_jobs=-1)]: Done 797 tasks      | elapsed:  7.0min\n",
      "[Parallel(n_jobs=-1)]: Done 798 tasks      | elapsed:  7.0min\n",
      "[Parallel(n_jobs=-1)]: Done 799 tasks      | elapsed:  7.0min\n",
      "[Parallel(n_jobs=-1)]: Done 800 tasks      | elapsed:  7.0min\n"
     ]
    },
    {
     "name": "stderr",
     "output_type": "stream",
     "text": [
      "[Parallel(n_jobs=-1)]: Done 801 tasks      | elapsed:  7.0min\n",
      "[Parallel(n_jobs=-1)]: Done 802 tasks      | elapsed:  7.0min\n",
      "[Parallel(n_jobs=-1)]: Done 803 tasks      | elapsed:  7.0min\n",
      "[Parallel(n_jobs=-1)]: Done 804 tasks      | elapsed:  7.0min\n",
      "[Parallel(n_jobs=-1)]: Done 805 tasks      | elapsed:  7.0min\n",
      "[Parallel(n_jobs=-1)]: Done 806 tasks      | elapsed:  7.0min\n",
      "[Parallel(n_jobs=-1)]: Done 807 tasks      | elapsed:  7.0min\n",
      "[Parallel(n_jobs=-1)]: Done 808 tasks      | elapsed:  7.1min\n",
      "[Parallel(n_jobs=-1)]: Done 809 tasks      | elapsed:  7.1min\n",
      "[Parallel(n_jobs=-1)]: Done 810 tasks      | elapsed:  7.1min\n",
      "[Parallel(n_jobs=-1)]: Done 811 tasks      | elapsed:  7.1min\n",
      "[Parallel(n_jobs=-1)]: Done 812 tasks      | elapsed:  7.1min\n",
      "[Parallel(n_jobs=-1)]: Done 813 tasks      | elapsed:  7.1min\n",
      "[Parallel(n_jobs=-1)]: Done 814 tasks      | elapsed:  7.1min\n",
      "[Parallel(n_jobs=-1)]: Done 815 tasks      | elapsed:  7.1min\n",
      "[Parallel(n_jobs=-1)]: Done 816 tasks      | elapsed:  7.1min\n",
      "[Parallel(n_jobs=-1)]: Done 817 tasks      | elapsed:  7.1min\n",
      "[Parallel(n_jobs=-1)]: Done 818 tasks      | elapsed:  7.1min\n",
      "[Parallel(n_jobs=-1)]: Done 819 tasks      | elapsed:  7.1min\n",
      "[Parallel(n_jobs=-1)]: Done 820 tasks      | elapsed:  7.1min\n",
      "[Parallel(n_jobs=-1)]: Done 821 tasks      | elapsed:  7.1min\n",
      "[Parallel(n_jobs=-1)]: Done 822 tasks      | elapsed:  7.1min\n",
      "[Parallel(n_jobs=-1)]: Done 823 tasks      | elapsed:  7.1min\n",
      "[Parallel(n_jobs=-1)]: Done 824 tasks      | elapsed:  7.1min\n",
      "[Parallel(n_jobs=-1)]: Done 825 tasks      | elapsed:  7.1min\n",
      "[Parallel(n_jobs=-1)]: Done 826 tasks      | elapsed:  7.1min\n",
      "[Parallel(n_jobs=-1)]: Done 827 tasks      | elapsed:  7.1min\n",
      "[Parallel(n_jobs=-1)]: Done 828 tasks      | elapsed:  7.1min\n",
      "[Parallel(n_jobs=-1)]: Done 829 tasks      | elapsed:  7.2min\n",
      "[Parallel(n_jobs=-1)]: Done 830 tasks      | elapsed:  7.2min\n",
      "[Parallel(n_jobs=-1)]: Done 831 tasks      | elapsed:  7.2min\n",
      "[Parallel(n_jobs=-1)]: Done 832 tasks      | elapsed:  7.2min\n",
      "[Parallel(n_jobs=-1)]: Done 833 tasks      | elapsed:  7.2min\n",
      "[Parallel(n_jobs=-1)]: Done 834 tasks      | elapsed:  7.2min\n",
      "[Parallel(n_jobs=-1)]: Done 835 tasks      | elapsed:  7.2min\n",
      "[Parallel(n_jobs=-1)]: Done 836 tasks      | elapsed:  7.2min\n",
      "[Parallel(n_jobs=-1)]: Done 837 tasks      | elapsed:  7.2min\n",
      "[Parallel(n_jobs=-1)]: Done 838 tasks      | elapsed:  7.2min\n",
      "[Parallel(n_jobs=-1)]: Done 839 tasks      | elapsed:  7.2min\n",
      "[Parallel(n_jobs=-1)]: Done 840 tasks      | elapsed:  7.2min\n",
      "[Parallel(n_jobs=-1)]: Done 841 tasks      | elapsed:  7.2min\n",
      "[Parallel(n_jobs=-1)]: Done 842 tasks      | elapsed:  7.2min\n",
      "[Parallel(n_jobs=-1)]: Done 843 tasks      | elapsed:  7.2min\n",
      "[Parallel(n_jobs=-1)]: Done 844 tasks      | elapsed:  7.2min\n",
      "[Parallel(n_jobs=-1)]: Done 845 tasks      | elapsed:  7.2min\n",
      "[Parallel(n_jobs=-1)]: Done 846 tasks      | elapsed:  7.2min\n",
      "[Parallel(n_jobs=-1)]: Done 847 tasks      | elapsed:  7.2min\n",
      "[Parallel(n_jobs=-1)]: Done 848 tasks      | elapsed:  7.2min\n",
      "[Parallel(n_jobs=-1)]: Done 849 tasks      | elapsed:  7.2min\n",
      "[Parallel(n_jobs=-1)]: Done 850 tasks      | elapsed:  7.2min\n",
      "[Parallel(n_jobs=-1)]: Done 851 tasks      | elapsed:  7.2min\n",
      "[Parallel(n_jobs=-1)]: Done 852 tasks      | elapsed:  7.2min\n",
      "[Parallel(n_jobs=-1)]: Done 853 tasks      | elapsed:  7.2min\n",
      "[Parallel(n_jobs=-1)]: Done 854 tasks      | elapsed:  7.2min\n",
      "[Parallel(n_jobs=-1)]: Done 855 tasks      | elapsed:  7.3min\n",
      "[Parallel(n_jobs=-1)]: Done 856 tasks      | elapsed:  7.3min\n",
      "[Parallel(n_jobs=-1)]: Done 857 tasks      | elapsed:  7.3min\n",
      "[Parallel(n_jobs=-1)]: Done 858 tasks      | elapsed:  7.3min\n",
      "[Parallel(n_jobs=-1)]: Done 859 tasks      | elapsed:  7.3min\n",
      "[Parallel(n_jobs=-1)]: Done 860 tasks      | elapsed:  7.3min\n",
      "[Parallel(n_jobs=-1)]: Done 861 tasks      | elapsed:  7.3min\n",
      "[Parallel(n_jobs=-1)]: Done 862 tasks      | elapsed:  7.3min\n",
      "[Parallel(n_jobs=-1)]: Done 863 tasks      | elapsed:  7.3min\n",
      "[Parallel(n_jobs=-1)]: Done 864 tasks      | elapsed:  7.3min\n",
      "[Parallel(n_jobs=-1)]: Done 865 tasks      | elapsed:  7.3min\n",
      "[Parallel(n_jobs=-1)]: Done 866 tasks      | elapsed:  7.3min\n",
      "[Parallel(n_jobs=-1)]: Done 867 tasks      | elapsed:  7.3min\n",
      "[Parallel(n_jobs=-1)]: Done 868 tasks      | elapsed:  7.3min\n",
      "[Parallel(n_jobs=-1)]: Done 869 tasks      | elapsed:  7.3min\n",
      "[Parallel(n_jobs=-1)]: Done 870 tasks      | elapsed:  7.3min\n",
      "[Parallel(n_jobs=-1)]: Done 871 tasks      | elapsed:  7.3min\n",
      "[Parallel(n_jobs=-1)]: Done 872 tasks      | elapsed:  7.3min\n",
      "[Parallel(n_jobs=-1)]: Done 873 tasks      | elapsed:  7.3min\n",
      "[Parallel(n_jobs=-1)]: Done 874 tasks      | elapsed:  7.3min\n",
      "[Parallel(n_jobs=-1)]: Done 875 tasks      | elapsed:  7.3min\n",
      "[Parallel(n_jobs=-1)]: Done 876 tasks      | elapsed:  7.3min\n",
      "[Parallel(n_jobs=-1)]: Done 877 tasks      | elapsed:  7.3min\n",
      "[Parallel(n_jobs=-1)]: Done 878 tasks      | elapsed:  7.3min\n",
      "[Parallel(n_jobs=-1)]: Done 879 tasks      | elapsed:  7.3min\n",
      "[Parallel(n_jobs=-1)]: Done 880 tasks      | elapsed:  7.3min\n",
      "[Parallel(n_jobs=-1)]: Done 881 tasks      | elapsed:  7.4min\n",
      "[Parallel(n_jobs=-1)]: Done 882 tasks      | elapsed:  7.4min\n",
      "[Parallel(n_jobs=-1)]: Done 883 tasks      | elapsed:  7.4min\n",
      "[Parallel(n_jobs=-1)]: Done 884 tasks      | elapsed:  7.4min\n",
      "[Parallel(n_jobs=-1)]: Done 885 tasks      | elapsed:  7.4min\n",
      "[Parallel(n_jobs=-1)]: Done 886 tasks      | elapsed:  7.4min\n",
      "[Parallel(n_jobs=-1)]: Done 887 tasks      | elapsed:  7.4min\n",
      "[Parallel(n_jobs=-1)]: Done 888 tasks      | elapsed:  7.4min\n",
      "[Parallel(n_jobs=-1)]: Done 889 tasks      | elapsed:  7.4min\n",
      "[Parallel(n_jobs=-1)]: Done 890 tasks      | elapsed:  7.4min\n",
      "[Parallel(n_jobs=-1)]: Done 891 tasks      | elapsed:  7.4min\n",
      "[Parallel(n_jobs=-1)]: Done 892 tasks      | elapsed:  7.4min\n",
      "[Parallel(n_jobs=-1)]: Done 893 tasks      | elapsed:  7.4min\n",
      "[Parallel(n_jobs=-1)]: Done 894 tasks      | elapsed:  7.4min\n",
      "[Parallel(n_jobs=-1)]: Done 895 tasks      | elapsed:  7.4min\n",
      "[Parallel(n_jobs=-1)]: Done 896 tasks      | elapsed:  7.4min\n",
      "[Parallel(n_jobs=-1)]: Done 897 tasks      | elapsed:  7.4min\n",
      "[Parallel(n_jobs=-1)]: Done 898 tasks      | elapsed:  7.4min\n",
      "[Parallel(n_jobs=-1)]: Done 899 tasks      | elapsed:  7.4min\n",
      "[Parallel(n_jobs=-1)]: Done 900 tasks      | elapsed:  7.4min\n",
      "[Parallel(n_jobs=-1)]: Done 901 tasks      | elapsed:  7.4min\n",
      "[Parallel(n_jobs=-1)]: Done 902 tasks      | elapsed:  7.4min\n",
      "[Parallel(n_jobs=-1)]: Done 903 tasks      | elapsed:  7.6min\n",
      "[Parallel(n_jobs=-1)]: Done 904 tasks      | elapsed:  7.6min\n",
      "[Parallel(n_jobs=-1)]: Done 905 tasks      | elapsed:  7.6min\n",
      "[Parallel(n_jobs=-1)]: Done 906 tasks      | elapsed:  7.6min\n",
      "[Parallel(n_jobs=-1)]: Done 907 tasks      | elapsed:  7.6min\n",
      "[Parallel(n_jobs=-1)]: Done 908 tasks      | elapsed:  7.6min\n",
      "[Parallel(n_jobs=-1)]: Done 909 tasks      | elapsed:  7.7min\n",
      "[Parallel(n_jobs=-1)]: Done 910 tasks      | elapsed:  7.7min\n",
      "[Parallel(n_jobs=-1)]: Done 911 tasks      | elapsed:  7.7min\n",
      "[Parallel(n_jobs=-1)]: Done 912 tasks      | elapsed:  7.7min\n",
      "[Parallel(n_jobs=-1)]: Done 913 tasks      | elapsed:  7.7min\n",
      "[Parallel(n_jobs=-1)]: Done 914 tasks      | elapsed:  7.7min\n",
      "[Parallel(n_jobs=-1)]: Done 915 tasks      | elapsed:  7.7min\n",
      "[Parallel(n_jobs=-1)]: Done 916 tasks      | elapsed:  7.7min\n",
      "[Parallel(n_jobs=-1)]: Done 917 tasks      | elapsed:  7.7min\n",
      "[Parallel(n_jobs=-1)]: Done 918 tasks      | elapsed:  7.7min\n",
      "[Parallel(n_jobs=-1)]: Done 919 tasks      | elapsed:  7.7min\n",
      "[Parallel(n_jobs=-1)]: Done 920 tasks      | elapsed:  7.7min\n",
      "[Parallel(n_jobs=-1)]: Done 921 tasks      | elapsed:  7.7min\n",
      "[Parallel(n_jobs=-1)]: Done 922 tasks      | elapsed:  7.8min\n",
      "[Parallel(n_jobs=-1)]: Done 923 tasks      | elapsed:  7.8min\n",
      "[Parallel(n_jobs=-1)]: Done 924 tasks      | elapsed:  7.8min\n",
      "[Parallel(n_jobs=-1)]: Done 925 tasks      | elapsed:  7.8min\n",
      "[Parallel(n_jobs=-1)]: Done 926 tasks      | elapsed:  7.8min\n",
      "[Parallel(n_jobs=-1)]: Done 927 tasks      | elapsed:  7.8min\n",
      "[Parallel(n_jobs=-1)]: Done 928 tasks      | elapsed:  7.8min\n",
      "[Parallel(n_jobs=-1)]: Done 929 tasks      | elapsed:  7.8min\n",
      "[Parallel(n_jobs=-1)]: Done 930 tasks      | elapsed:  7.8min\n",
      "[Parallel(n_jobs=-1)]: Done 931 tasks      | elapsed:  7.8min\n",
      "[Parallel(n_jobs=-1)]: Done 932 tasks      | elapsed:  7.9min\n",
      "[Parallel(n_jobs=-1)]: Done 933 tasks      | elapsed:  7.9min\n",
      "[Parallel(n_jobs=-1)]: Done 934 tasks      | elapsed:  7.9min\n"
     ]
    },
    {
     "name": "stderr",
     "output_type": "stream",
     "text": [
      "[Parallel(n_jobs=-1)]: Done 935 tasks      | elapsed:  7.9min\n",
      "[Parallel(n_jobs=-1)]: Done 936 tasks      | elapsed:  7.9min\n",
      "[Parallel(n_jobs=-1)]: Done 937 tasks      | elapsed:  7.9min\n",
      "[Parallel(n_jobs=-1)]: Done 938 tasks      | elapsed:  7.9min\n",
      "[Parallel(n_jobs=-1)]: Done 939 tasks      | elapsed:  7.9min\n",
      "[Parallel(n_jobs=-1)]: Done 940 tasks      | elapsed:  7.9min\n",
      "[Parallel(n_jobs=-1)]: Done 941 tasks      | elapsed:  7.9min\n",
      "[Parallel(n_jobs=-1)]: Done 942 tasks      | elapsed:  7.9min\n",
      "[Parallel(n_jobs=-1)]: Done 943 tasks      | elapsed:  7.9min\n",
      "[Parallel(n_jobs=-1)]: Done 944 tasks      | elapsed:  7.9min\n",
      "[Parallel(n_jobs=-1)]: Done 945 tasks      | elapsed:  7.9min\n",
      "[Parallel(n_jobs=-1)]: Done 946 tasks      | elapsed:  7.9min\n",
      "[Parallel(n_jobs=-1)]: Done 947 tasks      | elapsed:  7.9min\n",
      "[Parallel(n_jobs=-1)]: Done 948 tasks      | elapsed:  7.9min\n",
      "[Parallel(n_jobs=-1)]: Done 949 tasks      | elapsed:  7.9min\n",
      "[Parallel(n_jobs=-1)]: Done 950 tasks      | elapsed:  7.9min\n",
      "[Parallel(n_jobs=-1)]: Done 951 tasks      | elapsed:  7.9min\n",
      "[Parallel(n_jobs=-1)]: Done 952 tasks      | elapsed:  7.9min\n",
      "[Parallel(n_jobs=-1)]: Done 953 tasks      | elapsed:  7.9min\n",
      "[Parallel(n_jobs=-1)]: Done 954 tasks      | elapsed:  7.9min\n",
      "[Parallel(n_jobs=-1)]: Done 955 tasks      | elapsed:  8.0min\n",
      "[Parallel(n_jobs=-1)]: Done 956 tasks      | elapsed:  8.0min\n",
      "[Parallel(n_jobs=-1)]: Done 957 tasks      | elapsed:  8.0min\n",
      "[Parallel(n_jobs=-1)]: Done 958 tasks      | elapsed:  8.0min\n",
      "[Parallel(n_jobs=-1)]: Done 959 tasks      | elapsed:  8.0min\n",
      "[Parallel(n_jobs=-1)]: Done 960 tasks      | elapsed:  8.1min\n",
      "[Parallel(n_jobs=-1)]: Done 961 tasks      | elapsed:  8.1min\n",
      "[Parallel(n_jobs=-1)]: Done 962 tasks      | elapsed:  8.1min\n",
      "[Parallel(n_jobs=-1)]: Done 963 tasks      | elapsed:  8.1min\n",
      "[Parallel(n_jobs=-1)]: Done 964 tasks      | elapsed:  8.1min\n",
      "[Parallel(n_jobs=-1)]: Done 965 tasks      | elapsed:  8.1min\n",
      "[Parallel(n_jobs=-1)]: Done 966 tasks      | elapsed:  8.1min\n",
      "[Parallel(n_jobs=-1)]: Done 967 tasks      | elapsed:  8.1min\n",
      "[Parallel(n_jobs=-1)]: Done 968 tasks      | elapsed:  8.1min\n",
      "[Parallel(n_jobs=-1)]: Done 969 tasks      | elapsed:  8.1min\n",
      "[Parallel(n_jobs=-1)]: Done 970 tasks      | elapsed:  8.1min\n",
      "[Parallel(n_jobs=-1)]: Done 971 tasks      | elapsed:  8.1min\n",
      "[Parallel(n_jobs=-1)]: Done 972 tasks      | elapsed:  8.1min\n",
      "[Parallel(n_jobs=-1)]: Done 973 tasks      | elapsed:  8.1min\n",
      "[Parallel(n_jobs=-1)]: Done 974 tasks      | elapsed:  8.1min\n",
      "[Parallel(n_jobs=-1)]: Done 975 tasks      | elapsed:  8.1min\n",
      "[Parallel(n_jobs=-1)]: Done 976 tasks      | elapsed:  8.1min\n",
      "[Parallel(n_jobs=-1)]: Done 977 tasks      | elapsed:  8.2min\n",
      "[Parallel(n_jobs=-1)]: Done 978 tasks      | elapsed:  8.2min\n",
      "[Parallel(n_jobs=-1)]: Done 979 tasks      | elapsed:  8.2min\n",
      "[Parallel(n_jobs=-1)]: Done 980 tasks      | elapsed:  8.2min\n",
      "[Parallel(n_jobs=-1)]: Done 981 tasks      | elapsed:  8.2min\n",
      "[Parallel(n_jobs=-1)]: Done 982 tasks      | elapsed:  8.2min\n",
      "[Parallel(n_jobs=-1)]: Done 983 tasks      | elapsed:  8.2min\n",
      "[Parallel(n_jobs=-1)]: Done 984 tasks      | elapsed:  8.2min\n",
      "[Parallel(n_jobs=-1)]: Done 985 tasks      | elapsed:  8.2min\n",
      "[Parallel(n_jobs=-1)]: Done 986 tasks      | elapsed:  8.2min\n",
      "[Parallel(n_jobs=-1)]: Done 987 tasks      | elapsed:  8.2min\n",
      "[Parallel(n_jobs=-1)]: Done 988 tasks      | elapsed:  8.2min\n",
      "[Parallel(n_jobs=-1)]: Done 989 tasks      | elapsed:  8.2min\n",
      "[Parallel(n_jobs=-1)]: Done 990 tasks      | elapsed:  8.2min\n",
      "[Parallel(n_jobs=-1)]: Done 991 tasks      | elapsed:  8.2min\n",
      "[Parallel(n_jobs=-1)]: Done 992 tasks      | elapsed:  8.2min\n",
      "[Parallel(n_jobs=-1)]: Done 993 tasks      | elapsed:  8.3min\n",
      "[Parallel(n_jobs=-1)]: Done 994 tasks      | elapsed:  8.3min\n",
      "[Parallel(n_jobs=-1)]: Done 995 tasks      | elapsed:  8.3min\n",
      "[Parallel(n_jobs=-1)]: Done 996 tasks      | elapsed:  8.3min\n",
      "[Parallel(n_jobs=-1)]: Done 997 tasks      | elapsed:  8.3min\n",
      "[Parallel(n_jobs=-1)]: Done 998 tasks      | elapsed:  8.3min\n",
      "[Parallel(n_jobs=-1)]: Done 999 tasks      | elapsed:  8.3min\n",
      "[Parallel(n_jobs=-1)]: Done 1000 tasks      | elapsed:  8.3min\n",
      "[Parallel(n_jobs=-1)]: Done 1001 tasks      | elapsed:  8.3min\n",
      "[Parallel(n_jobs=-1)]: Done 1002 tasks      | elapsed:  8.3min\n",
      "[Parallel(n_jobs=-1)]: Done 1003 tasks      | elapsed:  8.3min\n",
      "[Parallel(n_jobs=-1)]: Done 1004 tasks      | elapsed:  8.3min\n",
      "[Parallel(n_jobs=-1)]: Done 1005 tasks      | elapsed:  8.3min\n",
      "[Parallel(n_jobs=-1)]: Done 1006 tasks      | elapsed:  8.3min\n",
      "[Parallel(n_jobs=-1)]: Done 1007 tasks      | elapsed:  8.3min\n",
      "[Parallel(n_jobs=-1)]: Done 1008 tasks      | elapsed:  8.3min\n",
      "[Parallel(n_jobs=-1)]: Done 1009 tasks      | elapsed:  8.3min\n",
      "[Parallel(n_jobs=-1)]: Done 1010 tasks      | elapsed:  8.3min\n",
      "[Parallel(n_jobs=-1)]: Done 1011 tasks      | elapsed:  8.3min\n",
      "[Parallel(n_jobs=-1)]: Done 1012 tasks      | elapsed:  8.3min\n",
      "[Parallel(n_jobs=-1)]: Done 1013 tasks      | elapsed:  8.3min\n",
      "[Parallel(n_jobs=-1)]: Done 1014 tasks      | elapsed:  8.3min\n",
      "[Parallel(n_jobs=-1)]: Done 1015 tasks      | elapsed:  8.3min\n",
      "[Parallel(n_jobs=-1)]: Done 1016 tasks      | elapsed:  8.3min\n",
      "[Parallel(n_jobs=-1)]: Done 1017 tasks      | elapsed:  8.3min\n",
      "[Parallel(n_jobs=-1)]: Done 1018 tasks      | elapsed:  8.3min\n",
      "[Parallel(n_jobs=-1)]: Done 1019 tasks      | elapsed:  8.3min\n",
      "[Parallel(n_jobs=-1)]: Done 1020 tasks      | elapsed:  8.3min\n",
      "[Parallel(n_jobs=-1)]: Done 1021 tasks      | elapsed:  8.4min\n",
      "[Parallel(n_jobs=-1)]: Done 1022 tasks      | elapsed:  8.4min\n",
      "[Parallel(n_jobs=-1)]: Done 1023 tasks      | elapsed:  8.4min\n",
      "[Parallel(n_jobs=-1)]: Done 1024 tasks      | elapsed:  8.4min\n",
      "[Parallel(n_jobs=-1)]: Done 1025 tasks      | elapsed:  8.4min\n",
      "[Parallel(n_jobs=-1)]: Done 1026 tasks      | elapsed:  8.4min\n",
      "[Parallel(n_jobs=-1)]: Done 1027 tasks      | elapsed:  8.4min\n",
      "[Parallel(n_jobs=-1)]: Done 1028 tasks      | elapsed:  8.4min\n",
      "[Parallel(n_jobs=-1)]: Done 1029 tasks      | elapsed:  8.4min\n",
      "[Parallel(n_jobs=-1)]: Done 1030 tasks      | elapsed:  8.4min\n",
      "[Parallel(n_jobs=-1)]: Done 1031 tasks      | elapsed:  8.4min\n",
      "[Parallel(n_jobs=-1)]: Done 1032 tasks      | elapsed:  8.4min\n",
      "[Parallel(n_jobs=-1)]: Done 1033 tasks      | elapsed:  8.4min\n",
      "[Parallel(n_jobs=-1)]: Done 1034 tasks      | elapsed:  8.4min\n",
      "[Parallel(n_jobs=-1)]: Done 1035 tasks      | elapsed:  8.4min\n",
      "[Parallel(n_jobs=-1)]: Done 1036 tasks      | elapsed:  8.4min\n",
      "[Parallel(n_jobs=-1)]: Done 1037 tasks      | elapsed:  8.4min\n",
      "[Parallel(n_jobs=-1)]: Done 1038 tasks      | elapsed:  8.4min\n",
      "[Parallel(n_jobs=-1)]: Done 1039 tasks      | elapsed:  8.4min\n",
      "[Parallel(n_jobs=-1)]: Done 1040 tasks      | elapsed:  8.4min\n",
      "[Parallel(n_jobs=-1)]: Done 1041 tasks      | elapsed:  8.4min\n",
      "[Parallel(n_jobs=-1)]: Done 1042 tasks      | elapsed:  8.4min\n",
      "[Parallel(n_jobs=-1)]: Done 1043 tasks      | elapsed:  8.4min\n",
      "[Parallel(n_jobs=-1)]: Done 1044 tasks      | elapsed:  8.4min\n",
      "[Parallel(n_jobs=-1)]: Done 1045 tasks      | elapsed:  8.4min\n",
      "[Parallel(n_jobs=-1)]: Done 1046 tasks      | elapsed:  8.5min\n",
      "[Parallel(n_jobs=-1)]: Done 1047 tasks      | elapsed:  8.5min\n",
      "[Parallel(n_jobs=-1)]: Done 1048 tasks      | elapsed:  8.5min\n",
      "[Parallel(n_jobs=-1)]: Done 1049 tasks      | elapsed:  8.5min\n",
      "[Parallel(n_jobs=-1)]: Done 1050 tasks      | elapsed:  8.5min\n",
      "[Parallel(n_jobs=-1)]: Done 1051 tasks      | elapsed:  8.5min\n",
      "[Parallel(n_jobs=-1)]: Done 1052 tasks      | elapsed:  8.5min\n",
      "[Parallel(n_jobs=-1)]: Done 1053 tasks      | elapsed:  8.5min\n",
      "[Parallel(n_jobs=-1)]: Done 1054 tasks      | elapsed:  8.5min\n",
      "[Parallel(n_jobs=-1)]: Done 1055 tasks      | elapsed:  8.5min\n",
      "[Parallel(n_jobs=-1)]: Done 1056 tasks      | elapsed:  8.5min\n",
      "[Parallel(n_jobs=-1)]: Done 1057 tasks      | elapsed:  8.5min\n",
      "[Parallel(n_jobs=-1)]: Done 1058 tasks      | elapsed:  8.5min\n",
      "[Parallel(n_jobs=-1)]: Done 1059 tasks      | elapsed:  8.5min\n",
      "[Parallel(n_jobs=-1)]: Done 1060 tasks      | elapsed:  8.5min\n",
      "[Parallel(n_jobs=-1)]: Done 1061 tasks      | elapsed:  8.5min\n",
      "[Parallel(n_jobs=-1)]: Done 1062 tasks      | elapsed:  8.5min\n",
      "[Parallel(n_jobs=-1)]: Done 1063 tasks      | elapsed:  8.5min\n",
      "[Parallel(n_jobs=-1)]: Done 1064 tasks      | elapsed:  8.5min\n",
      "[Parallel(n_jobs=-1)]: Done 1065 tasks      | elapsed:  8.5min\n",
      "[Parallel(n_jobs=-1)]: Done 1066 tasks      | elapsed:  8.5min\n"
     ]
    },
    {
     "name": "stderr",
     "output_type": "stream",
     "text": [
      "[Parallel(n_jobs=-1)]: Done 1067 tasks      | elapsed:  8.6min\n",
      "[Parallel(n_jobs=-1)]: Done 1068 tasks      | elapsed:  8.6min\n",
      "[Parallel(n_jobs=-1)]: Done 1069 tasks      | elapsed:  8.6min\n",
      "[Parallel(n_jobs=-1)]: Done 1070 tasks      | elapsed:  8.6min\n",
      "[Parallel(n_jobs=-1)]: Done 1071 tasks      | elapsed:  8.6min\n",
      "[Parallel(n_jobs=-1)]: Done 1072 tasks      | elapsed:  8.6min\n",
      "[Parallel(n_jobs=-1)]: Done 1073 tasks      | elapsed:  8.6min\n",
      "[Parallel(n_jobs=-1)]: Done 1074 tasks      | elapsed:  8.6min\n",
      "[Parallel(n_jobs=-1)]: Done 1075 tasks      | elapsed:  8.6min\n",
      "[Parallel(n_jobs=-1)]: Done 1076 tasks      | elapsed:  8.6min\n",
      "[Parallel(n_jobs=-1)]: Done 1077 tasks      | elapsed:  8.6min\n",
      "[Parallel(n_jobs=-1)]: Done 1078 tasks      | elapsed:  8.6min\n",
      "[Parallel(n_jobs=-1)]: Done 1079 tasks      | elapsed:  8.6min\n",
      "[Parallel(n_jobs=-1)]: Done 1080 tasks      | elapsed:  8.6min\n",
      "[Parallel(n_jobs=-1)]: Done 1081 tasks      | elapsed:  8.6min\n",
      "[Parallel(n_jobs=-1)]: Done 1082 tasks      | elapsed:  8.6min\n",
      "[Parallel(n_jobs=-1)]: Done 1083 tasks      | elapsed:  8.6min\n",
      "[Parallel(n_jobs=-1)]: Done 1084 tasks      | elapsed:  8.7min\n",
      "[Parallel(n_jobs=-1)]: Done 1085 tasks      | elapsed:  8.7min\n"
     ]
    },
    {
     "name": "stdout",
     "output_type": "stream",
     "text": [
      "[15:15:54] WARNING: C:/Users/Administrator/workspace/xgboost-win64_release_1.3.0/src/learner.cc:541: \n",
      "Parameters: { max_depth, mon_child_weight } might not be used.\n",
      "\n",
      "  This may not be accurate due to some parameters are only used in language bindings but\n",
      "  passed down to XGBoost core.  Or some parameters are not used but slip through this\n",
      "  verification. Please open an issue if you find above cases.\n",
      "\n",
      "\n"
     ]
    },
    {
     "name": "stderr",
     "output_type": "stream",
     "text": [
      "[Parallel(n_jobs=-1)]: Done 1100 out of 1100 | elapsed:  9.0min finished\n"
     ]
    }
   ],
   "source": [
    "xgb2_reg = xgboost.XGBRegressor() \n",
    "params_xgb = { 'max_depth': range(2, 20, 2), 'n_estimators': range(99, 2001, 80), 'learning_rate': [0.2, 0.1, 0.01, 0.05], 'booster': ['gbtree','gblinear'], 'mon_child_weight': range(1, 8, 1) }\n",
    "r2 = make_scorer(r2_score)\n",
    "rand_search_xgb = RandomizedSearchCV(estimator = xgb2_reg, param_distributions=params_xgb, n_iter=100, n_jobs=-1, cv=11, verbose=11, random_state=51, return_train_score =True, scoring=r2) \n",
    "rand_search_xgb.fit(X_train,y_train)\n",
    "\n",
    "model_name = 'Hypertuned XGBoost Regressor'"
   ]
  },
  {
   "cell_type": "code",
   "execution_count": 76,
   "metadata": {},
   "outputs": [
    {
     "data": {
      "text/plain": [
       "0.7258716530957605"
      ]
     },
     "execution_count": 76,
     "metadata": {},
     "output_type": "execute_result"
    }
   ],
   "source": [
    "rand_search_xgb.best_score_"
   ]
  },
  {
   "cell_type": "code",
   "execution_count": 77,
   "metadata": {},
   "outputs": [
    {
     "data": {
      "text/plain": [
       "0.7258716530957605"
      ]
     },
     "execution_count": 77,
     "metadata": {},
     "output_type": "execute_result"
    }
   ],
   "source": [
    "r2_value = rand_search_xgb.best_score_\n",
    "r2_value"
   ]
  },
  {
   "cell_type": "code",
   "execution_count": 78,
   "metadata": {},
   "outputs": [
    {
     "data": {
      "text/plain": [
       "XGBRegressor(base_score=0.5, booster='gblinear', colsample_bylevel=None,\n",
       "             colsample_bynode=None, colsample_bytree=None, gamma=None,\n",
       "             gpu_id=-1, importance_type='gain', interaction_constraints=None,\n",
       "             learning_rate=0.2, max_delta_step=None, max_depth=10,\n",
       "             min_child_weight=None, missing=nan, mon_child_weight=4,\n",
       "             monotone_constraints=None, n_estimators=99, n_jobs=8,\n",
       "             num_parallel_tree=None, random_state=0, reg_alpha=0, reg_lambda=0,\n",
       "             scale_pos_weight=1, subsample=None, tree_method=None,\n",
       "             validate_parameters=1, verbosity=None)"
      ]
     },
     "execution_count": 78,
     "metadata": {},
     "output_type": "execute_result"
    }
   ],
   "source": [
    "rand_search_xgb.best_estimator_"
   ]
  },
  {
   "cell_type": "code",
   "execution_count": 79,
   "metadata": {},
   "outputs": [
    {
     "data": {
      "text/plain": [
       "{'n_estimators': 99,\n",
       " 'mon_child_weight': 4,\n",
       " 'max_depth': 10,\n",
       " 'learning_rate': 0.2,\n",
       " 'booster': 'gblinear'}"
      ]
     },
     "execution_count": 79,
     "metadata": {},
     "output_type": "execute_result"
    }
   ],
   "source": [
    "rand_search_xgb.best_params_"
   ]
  },
  {
   "cell_type": "code",
   "execution_count": 80,
   "metadata": {},
   "outputs": [
    {
     "name": "stdout",
     "output_type": "stream",
     "text": [
      "[15:15:55] WARNING: C:/Users/Administrator/workspace/xgboost-win64_release_1.3.0/src/learner.cc:541: \n",
      "Parameters: { mon_child_weight } might not be used.\n",
      "\n",
      "  This may not be accurate due to some parameters are only used in language bindings but\n",
      "  passed down to XGBoost core.  Or some parameters are not used but slip through this\n",
      "  verification. Please open an issue if you find above cases.\n",
      "\n",
      "\n",
      "[15:15:55] WARNING: C:/Users/Administrator/workspace/xgboost-win64_release_1.3.0/src/learner.cc:541: \n",
      "Parameters: { mon_child_weight } might not be used.\n",
      "\n",
      "  This may not be accurate due to some parameters are only used in language bindings but\n",
      "  passed down to XGBoost core.  Or some parameters are not used but slip through this\n",
      "  verification. Please open an issue if you find above cases.\n",
      "\n",
      "\n",
      "[15:15:56] WARNING: C:/Users/Administrator/workspace/xgboost-win64_release_1.3.0/src/learner.cc:541: \n",
      "Parameters: { mon_child_weight } might not be used.\n",
      "\n",
      "  This may not be accurate due to some parameters are only used in language bindings but\n",
      "  passed down to XGBoost core.  Or some parameters are not used but slip through this\n",
      "  verification. Please open an issue if you find above cases.\n",
      "\n",
      "\n",
      "[15:15:57] WARNING: C:/Users/Administrator/workspace/xgboost-win64_release_1.3.0/src/learner.cc:541: \n",
      "Parameters: { mon_child_weight } might not be used.\n",
      "\n",
      "  This may not be accurate due to some parameters are only used in language bindings but\n",
      "  passed down to XGBoost core.  Or some parameters are not used but slip through this\n",
      "  verification. Please open an issue if you find above cases.\n",
      "\n",
      "\n",
      "[15:15:57] WARNING: C:/Users/Administrator/workspace/xgboost-win64_release_1.3.0/src/learner.cc:541: \n",
      "Parameters: { mon_child_weight } might not be used.\n",
      "\n",
      "  This may not be accurate due to some parameters are only used in language bindings but\n",
      "  passed down to XGBoost core.  Or some parameters are not used but slip through this\n",
      "  verification. Please open an issue if you find above cases.\n",
      "\n",
      "\n"
     ]
    },
    {
     "data": {
      "text/plain": [
       "0.8993401236548524"
      ]
     },
     "execution_count": 80,
     "metadata": {},
     "output_type": "execute_result"
    }
   ],
   "source": [
    "xgb2_reg=xgboost.XGBRegressor(n_estimators= 659,\n",
    " mon_child_weight= 3,\n",
    " max_depth= 2,\n",
    " learning_rate= 0.01,\n",
    " booster= 'gbtree')\n",
    "\n",
    "test_model(xgb2_reg)"
   ]
  },
  {
   "cell_type": "code",
   "execution_count": 81,
   "metadata": {},
   "outputs": [
    {
     "name": "stdout",
     "output_type": "stream",
     "text": [
      "[15:15:58] WARNING: C:/Users/Administrator/workspace/xgboost-win64_release_1.3.0/src/learner.cc:541: \n",
      "Parameters: { mon_child_weight } might not be used.\n",
      "\n",
      "  This may not be accurate due to some parameters are only used in language bindings but\n",
      "  passed down to XGBoost core.  Or some parameters are not used but slip through this\n",
      "  verification. Please open an issue if you find above cases.\n",
      "\n",
      "\n"
     ]
    }
   ],
   "source": [
    "xgb2_reg.fit(X_train,y_train)\n",
    "y_pred_xgb_rs=xgb2_reg.predict(X_test)"
   ]
  },
  {
   "cell_type": "code",
   "execution_count": 82,
   "metadata": {},
   "outputs": [
    {
     "data": {
      "text/html": [
       "<div>\n",
       "<style scoped>\n",
       "    .dataframe tbody tr th:only-of-type {\n",
       "        vertical-align: middle;\n",
       "    }\n",
       "\n",
       "    .dataframe tbody tr th {\n",
       "        vertical-align: top;\n",
       "    }\n",
       "\n",
       "    .dataframe thead th {\n",
       "        text-align: right;\n",
       "    }\n",
       "</style>\n",
       "<table border=\"1\" class=\"dataframe\">\n",
       "  <thead>\n",
       "    <tr style=\"text-align: right;\">\n",
       "      <th></th>\n",
       "      <th>Model Name</th>\n",
       "      <th>R2 Value</th>\n",
       "    </tr>\n",
       "  </thead>\n",
       "  <tbody>\n",
       "    <tr>\n",
       "      <th>0</th>\n",
       "      <td>Multiple Linear Regression</td>\n",
       "      <td>0.86</td>\n",
       "    </tr>\n",
       "    <tr>\n",
       "      <th>1</th>\n",
       "      <td>Polynomial Regression</td>\n",
       "      <td>0.52</td>\n",
       "    </tr>\n",
       "    <tr>\n",
       "      <th>2</th>\n",
       "      <td>Ridge Regression</td>\n",
       "      <td>0.85</td>\n",
       "    </tr>\n",
       "    <tr>\n",
       "      <th>3</th>\n",
       "      <td>Lasso Regression</td>\n",
       "      <td>0.86</td>\n",
       "    </tr>\n",
       "    <tr>\n",
       "      <th>4</th>\n",
       "      <td>Decision Tree Regressor</td>\n",
       "      <td>0.82</td>\n",
       "    </tr>\n",
       "    <tr>\n",
       "      <th>5</th>\n",
       "      <td>Random Forest Regressor</td>\n",
       "      <td>0.88</td>\n",
       "    </tr>\n",
       "    <tr>\n",
       "      <th>6</th>\n",
       "      <td>Boosting Regressor</td>\n",
       "      <td>0.89</td>\n",
       "    </tr>\n",
       "    <tr>\n",
       "      <th>7</th>\n",
       "      <td>XGBoost (gblinear) Regressor</td>\n",
       "      <td>0.89</td>\n",
       "    </tr>\n",
       "    <tr>\n",
       "      <th>8</th>\n",
       "      <td>XGBoost (gblinear) Regressor</td>\n",
       "      <td>0.89</td>\n",
       "    </tr>\n",
       "    <tr>\n",
       "      <th>9</th>\n",
       "      <td>Hypertuned Ridge Regressor</td>\n",
       "      <td>0.86</td>\n",
       "    </tr>\n",
       "    <tr>\n",
       "      <th>10</th>\n",
       "      <td>Hypertuned Lasso Regressor</td>\n",
       "      <td>0.87</td>\n",
       "    </tr>\n",
       "    <tr>\n",
       "      <th>11</th>\n",
       "      <td>Hypertuned SVM Regressor</td>\n",
       "      <td>0.87</td>\n",
       "    </tr>\n",
       "    <tr>\n",
       "      <th>12</th>\n",
       "      <td>Hypertuned XGBoost Regressor</td>\n",
       "      <td>0.73</td>\n",
       "    </tr>\n",
       "  </tbody>\n",
       "</table>\n",
       "</div>"
      ],
      "text/plain": [
       "                      Model Name  R2 Value\n",
       "0     Multiple Linear Regression      0.86\n",
       "1          Polynomial Regression      0.52\n",
       "2               Ridge Regression      0.85\n",
       "3               Lasso Regression      0.86\n",
       "4        Decision Tree Regressor      0.82\n",
       "5        Random Forest Regressor      0.88\n",
       "6             Boosting Regressor      0.89\n",
       "7   XGBoost (gblinear) Regressor      0.89\n",
       "8   XGBoost (gblinear) Regressor      0.89\n",
       "9     Hypertuned Ridge Regressor      0.86\n",
       "10    Hypertuned Lasso Regressor      0.87\n",
       "11      Hypertuned SVM Regressor      0.87\n",
       "12  Hypertuned XGBoost Regressor      0.73"
      ]
     },
     "execution_count": 82,
     "metadata": {},
     "output_type": "execute_result"
    }
   ],
   "source": [
    "model_comp(model_name, round(r2_value,2))"
   ]
  },
  {
   "cell_type": "code",
   "execution_count": null,
   "metadata": {},
   "outputs": [],
   "source": []
  },
  {
   "cell_type": "code",
   "execution_count": null,
   "metadata": {},
   "outputs": [],
   "source": []
  },
  {
   "cell_type": "code",
   "execution_count": null,
   "metadata": {},
   "outputs": [],
   "source": []
  },
  {
   "cell_type": "code",
   "execution_count": null,
   "metadata": {},
   "outputs": [],
   "source": []
  },
  {
   "cell_type": "code",
   "execution_count": null,
   "metadata": {},
   "outputs": [],
   "source": []
  }
 ],
 "metadata": {
  "kernelspec": {
   "display_name": "Python 3",
   "language": "python",
   "name": "python3"
  },
  "language_info": {
   "codemirror_mode": {
    "name": "ipython",
    "version": 3
   },
   "file_extension": ".py",
   "mimetype": "text/x-python",
   "name": "python",
   "nbconvert_exporter": "python",
   "pygments_lexer": "ipython3",
   "version": "3.8.3"
  }
 },
 "nbformat": 4,
 "nbformat_minor": 4
}
